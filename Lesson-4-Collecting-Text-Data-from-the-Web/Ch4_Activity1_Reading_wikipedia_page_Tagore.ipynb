{
 "cells": [
  {
   "cell_type": "markdown",
   "metadata": {},
   "source": [
    "# Activity 1\n",
    "Read the wikipedia page about Rabindranath Tagore. Extract the following information from it: <br>\n",
    "i) List of headings under Section Works <br>\n",
    "ii) List of his Works <br>\n",
    "iii) List of Universities named after him <br>"
   ]
  },
  {
   "cell_type": "code",
   "execution_count": 1,
   "metadata": {},
   "outputs": [],
   "source": [
    "import requests\n",
    "from bs4 import BeautifulSoup"
   ]
  },
  {
   "cell_type": "code",
   "execution_count": 2,
   "metadata": {},
   "outputs": [],
   "source": [
    "r = requests.get('https://en.wikipedia.org/wiki/Rabindranath_Tagore')"
   ]
  },
  {
   "cell_type": "code",
   "execution_count": 3,
   "metadata": {},
   "outputs": [
    {
     "data": {
      "text/plain": [
       "200"
      ]
     },
     "execution_count": 3,
     "metadata": {},
     "output_type": "execute_result"
    }
   ],
   "source": [
    "r.status_code"
   ]
  },
  {
   "cell_type": "code",
   "execution_count": 4,
   "metadata": {},
   "outputs": [],
   "source": [
    "soup = BeautifulSoup(r.text, 'html.parser')"
   ]
  },
  {
   "cell_type": "markdown",
   "metadata": {},
   "source": [
    "# List of headings under Section Works"
   ]
  },
  {
   "cell_type": "code",
   "execution_count": 83,
   "metadata": {},
   "outputs": [
    {
     "name": "stdout",
     "output_type": "stream",
     "text": [
      "Drama\n",
      "Short_stories\n",
      "Novels\n",
      "Poetry\n",
      "Songs_(Rabindra_Sangeet)\n",
      "Art_works\n"
     ]
    }
   ],
   "source": [
    "for ele in soup.find_all('h3')[:6]:\n",
    "    tx = BeautifulSoup(str(ele),'html.parser').find('span', attrs={'class':\"mw-headline\"})\n",
    "    if tx is not None:\n",
    "        print(tx['id'])"
   ]
  },
  {
   "cell_type": "markdown",
   "metadata": {},
   "source": [
    "# Works by Tagore"
   ]
  },
  {
   "cell_type": "code",
   "execution_count": 11,
   "metadata": {},
   "outputs": [
    {
     "name": "stdout",
     "output_type": "stream",
     "text": [
      "[]\n",
      "[* ভানুসিংহ ঠাকুরের পদাবলী, Bhānusiṃha Ṭhākurer Paḍāvalī, (Songs of Bhānusiṃha Ṭhākur), 1884\n",
      "]\n",
      "[* মানসী, Manasi, (The Ideal One), 1890\n",
      "]\n",
      "[* সোনার তরী, Sonar Tari, (The Golden Boat), 1894\n",
      "]\n",
      "[* গীতাঞ্জলি, Gitanjali, (Song Offerings), 1910\n",
      "]\n",
      "[* গীতিমাল্য, Gitimalya, (Wreath of Songs), 1914\n",
      "]\n",
      "[* বলাকা, Balaka, (The Flight of Cranes), 1916\n",
      "]\n",
      "[]\n",
      "[* বাল্মিকী প্রতিভা, Valmiki-Pratibha, (The Genius of Valmiki), 1881\n",
      "]\n",
      "[* কালমৃগয়া, Kal-Mrigaya, (The Fatal Hunt), 1882\n",
      "]\n",
      "[* মায়ার খেলা, Mayar Khela, (The Play of Illusions), 1888\n",
      "]\n",
      "[* বিসর্জন, Visarjan, (The Sacrifice), 1890\n",
      "]\n",
      "[* চিত্রাঙ্গদা, Chitrangada, (Chitrangada), 1892\n",
      "]\n",
      "[* রাজা, Raja, (The King of the Dark Chamber), 1910\n",
      "]\n",
      "[* ডাকঘর, Dak Ghar, (The Post Office), 1912\n",
      "]\n",
      "[* অচলায়তন, Achalayatan, (The Immovable), 1912\n",
      "]\n",
      "[* মুক্তধারা, Muktadhara, (The Waterfall), 1922\n",
      "]\n",
      "[* রক্তকরবী, Raktakarabi, (Red Oleanders), 1926\n",
      "]\n",
      "[* চণ্ডালিকা, Chandalika, (The Untouchable Girl), 1933\n",
      "]\n",
      "[]\n",
      "[* নষ্টনীড়, Nastanirh, (The Broken Nest), 1901\n",
      "]\n",
      "[* গোরা, Gora, (Fair-Faced), 1910\n",
      "]\n",
      "[* ঘরে বাইরে, Ghare Baire, (The Home and the World), 1916\n",
      "]\n",
      "[* যোগাযোগ, Yogayog, (Crosscurrents), 1929\n",
      "]\n",
      "[]\n",
      "[* জীবনস্মৃতি, Jivansmriti, (My Reminiscences), 1912\n",
      "]\n",
      "[* ছেলেবেলা, Chhelebela, (My Boyhood Days), 1940\n",
      "\n",
      "\n",
      "]\n"
     ]
    }
   ],
   "source": [
    "table = soup.find_all('table')[1]\n",
    "for row in table.find_all('tr'):\n",
    "    columns = row.find_all('td')\n",
    "    print(BeautifulSoup(str(columns), 'html.parser').text.strip())"
   ]
  },
  {
   "cell_type": "markdown",
   "metadata": {},
   "source": [
    "# List of Universities named after Tagore"
   ]
  },
  {
   "cell_type": "code",
   "execution_count": 26,
   "metadata": {},
   "outputs": [
    {
     "data": {
      "text/plain": [
       "['Rabindra Bharati University, Kolkata, India.',\n",
       " 'Rabindra University, Sahjadpur, Shirajganj, Bangladesh.[1]',\n",
       " 'Rabindra Maitree University, Courtpara, Kustia,Bangladesh.[2]',\n",
       " 'Bishwakabi Rabindranath Tagore Hall, Jahangirnagar University, Bangladesh',\n",
       " 'Rabindra Nazrul Art Building, Arts Faculty, Islamic University, Bangladesh',\n",
       " 'Rabindra Library (Central), Assam University, India',\n",
       " 'Rabindra Srijonkala University, Keraniganj, Dhaka, Bangladesh']"
      ]
     },
     "execution_count": 26,
     "metadata": {},
     "output_type": "execute_result"
    }
   ],
   "source": [
    "[BeautifulSoup(str(i),'html.parser').text.strip() for i in soup.find('ol') if i!='\\n']"
   ]
  }
 ],
 "metadata": {
  "kernelspec": {
   "display_name": "Python 3",
   "language": "python",
   "name": "python3"
  },
  "language_info": {
   "codemirror_mode": {
    "name": "ipython",
    "version": 3
   },
   "file_extension": ".py",
   "mimetype": "text/x-python",
   "name": "python",
   "nbconvert_exporter": "python",
   "pygments_lexer": "ipython3",
   "version": "3.7.1"
  }
 },
 "nbformat": 4,
 "nbformat_minor": 2
}
