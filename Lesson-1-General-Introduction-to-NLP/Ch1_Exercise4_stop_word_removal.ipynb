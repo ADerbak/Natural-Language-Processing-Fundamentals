{
 "cells": [
  {
   "cell_type": "markdown",
   "metadata": {},
   "source": [
    "# Exercise 4 : Stop word removal"
   ]
  },
  {
   "cell_type": "markdown",
   "metadata": {},
   "source": [
    "Remove stopwords from the given sentences:<br>\n",
    "“I am learning Python. It is one of the most popular programming  languages”<br>\n",
    "“Natural Language Processing deals with the art of extracting insights from Natural Languages”<br>\n",
    "“We are learning how to remove stop words automatically”<br>"
   ]
  },
  {
   "cell_type": "code",
   "execution_count": 2,
   "metadata": {},
   "outputs": [],
   "source": [
    "import nltk\n",
    "from nltk import word_tokenize\n",
    "from nltk.corpus import stopwords\n",
    "stop_words = stopwords.words('english')"
   ]
  },
  {
   "cell_type": "code",
   "execution_count": 3,
   "metadata": {},
   "outputs": [],
   "source": [
    "sentence1 = \"I am learning Python. It is one of the most popular programming  languages\"\n",
    "sentence2 = \"Natural Language Processing deals with the art of extracting insights from Natural Languages\"\n",
    "sentence3 = \"We are learning how to remove stop words automatically\"\n",
    "sentence1_words = word_tokenize(sentence1)\n",
    "sentence2_words = word_tokenize(sentence2)\n",
    "sentence3_words = word_tokenize(sentence3)"
   ]
  },
  {
   "cell_type": "code",
   "execution_count": 4,
   "metadata": {},
   "outputs": [
    {
     "name": "stdout",
     "output_type": "stream",
     "text": [
      "I learning Python . It one popular programming languages\n",
      "Natural Language Processing deals art extracting insights Natural Languages\n",
      "We learning remove stop words automatically\n"
     ]
    }
   ],
   "source": [
    "sentence1_no_stops = ' '.join([word for word in sentence1_words if word not in stop_words])\n",
    "print(sentence1_no_stops)\n",
    "sentence2_no_stops = ' '.join([word for word in sentence2_words if word not in stop_words])\n",
    "print(sentence2_no_stops)\n",
    "sentence3_no_stops = ' '.join([word for word in sentence3_words if word not in stop_words])\n",
    "print(sentence3_no_stops)"
   ]
  }
 ],
 "metadata": {
  "kernelspec": {
   "display_name": "Python 3",
   "language": "python",
   "name": "python3"
  },
  "language_info": {
   "codemirror_mode": {
    "name": "ipython",
    "version": 3
   },
   "file_extension": ".py",
   "mimetype": "text/x-python",
   "name": "python",
   "nbconvert_exporter": "python",
   "pygments_lexer": "ipython3",
   "version": "3.7.1"
  }
 },
 "nbformat": 4,
 "nbformat_minor": 2
}
