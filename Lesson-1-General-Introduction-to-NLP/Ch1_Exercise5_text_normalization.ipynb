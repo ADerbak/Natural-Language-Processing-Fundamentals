{
 "cells": [
  {
   "cell_type": "markdown",
   "metadata": {},
   "source": [
    "# Exercise 5 : Text Normalization"
   ]
  },
  {
   "cell_type": "markdown",
   "metadata": {},
   "source": [
    "Normalize the text <br>\n",
    "**'I visited Allahabad from Calcutta on 22-10-18. Being born and brought up in a metro city like Kolkata, I always want to explore religious cities like Benares, Allahabad and Haridwar. Do you know the famous Kumbh Mela is being held at Prayagraj this year? I shall be attending Kumbh Mela on 21-01-19 and 19-02-19. Would you like to accompany me?'** <br>\n",
    "by replacing <br>\n",
    "'Benares' with 'Varanasi', <br>\n",
    "'Calcutta' with 'Kolkata', <br>\n",
    "'Allahabad' with 'Prayagraj' <br>\n",
    "and years in dates of format dd-mm-yy to yyyy"
   ]
  },
  {
   "cell_type": "code",
   "execution_count": 1,
   "metadata": {},
   "outputs": [
    {
     "name": "stdout",
     "output_type": "stream",
     "text": [
      "I visited Prayagraj from Kolkata on 22-10-2018. Being born and brought up in a metro city like Kolkata, I always want to explore religious cities like Varanasi, Prayagraj and Haridwar. Do you know the famous Kumbh Mela is being held at Prayagraj this year? I shall be attending Kumbh Mela on 21-01-2019 and 19-02-2019. Would you like to accompany me?\n"
     ]
    }
   ],
   "source": [
    "sent = 'I visited Allahabad from Calcutta on 22-10-18. Being born and brought up in a metro city like Kolkata, \\\n",
    "I always want to explore religious cities like Benares, Allahabad and Haridwar. Do you know the famous Kumbh Mela \\\n",
    "is being held at Prayagraj this year? I shall be attending Kumbh Mela on 21-01-19 and 19-02-19. \\\n",
    "Would you like to accompany me?'\n",
    "normalized_sent = sent.replace('Benares','Varanasi').replace('Calcutta','Kolkata').replace('Allahabad','Prayagraj')\\\n",
    ".replace('-18','-2018').replace('-19','-2019')\n",
    "\n",
    "print(normalized_sent)"
   ]
  }
 ],
 "metadata": {
  "kernelspec": {
   "display_name": "Python 3",
   "language": "python",
   "name": "python3"
  },
  "language_info": {
   "codemirror_mode": {
    "name": "ipython",
    "version": 3
   },
   "file_extension": ".py",
   "mimetype": "text/x-python",
   "name": "python",
   "nbconvert_exporter": "python",
   "pygments_lexer": "ipython3",
   "version": "3.7.1"
  }
 },
 "nbformat": 4,
 "nbformat_minor": 2
}
