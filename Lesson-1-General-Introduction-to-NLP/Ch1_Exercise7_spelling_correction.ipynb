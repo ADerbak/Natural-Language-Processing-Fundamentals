{
 "cells": [
  {
   "cell_type": "markdown",
   "metadata": {},
   "source": [
    "# Exercise 7 : Spelling correction"
   ]
  },
  {
   "cell_type": "markdown",
   "metadata": {},
   "source": [
    " You have the following sentences which contain spelling mistakes. You need to correct them using Python. <br>\n",
    "“I am laerning Python which is one of the mostt populer programmming  langages” <br>\n",
    "“Ntural Luanguage Processin deals with the art of extracting insightes from Natural Languaes” <br>\n",
    "“We are learning how to crroect spellinges autametically”"
   ]
  },
  {
   "cell_type": "code",
   "execution_count": 1,
   "metadata": {},
   "outputs": [],
   "source": [
    "import nltk\n",
    "from nltk import word_tokenize\n",
    "from autocorrect import spell"
   ]
  },
  {
   "cell_type": "code",
   "execution_count": 2,
   "metadata": {},
   "outputs": [],
   "source": [
    "sentence1 = \"I am laerning Python which is one of the mostt populer programmming  langages\"\n",
    "sentence2 = \"Ntural Luanguage Processin deals with the art of extracting insightes from Natural Languaes\"\n",
    "sentence3 = \"We are learning how to crroect spellinges autametically\"\n",
    "sentence1_words = word_tokenize(sentence1)\n",
    "sentence2_words = word_tokenize(sentence2)\n",
    "sentence3_words = word_tokenize(sentence3)"
   ]
  },
  {
   "cell_type": "code",
   "execution_count": 3,
   "metadata": {},
   "outputs": [
    {
     "name": "stdout",
     "output_type": "stream",
     "text": [
      "I am learning Python which is one of the most popular programming languages\n",
      "Natural Language Procession deals with the art of extracting insights from Natural Languages\n",
      "We are learning how to correct spellings automatically\n"
     ]
    }
   ],
   "source": [
    "sentence1_corrected = ' '.join([spell(word) for word in sentence1_words])\n",
    "print(sentence1_corrected)\n",
    "sentence2_corrected = ' '.join([spell(word) for word in sentence2_words])\n",
    "print(sentence2_corrected)\n",
    "sentence3_corrected = ' '.join([spell(word) for word in sentence3_words])\n",
    "print(sentence3_corrected)"
   ]
  }
 ],
 "metadata": {
  "kernelspec": {
   "display_name": "Python 3",
   "language": "python",
   "name": "python3"
  },
  "language_info": {
   "codemirror_mode": {
    "name": "ipython",
    "version": 3
   },
   "file_extension": ".py",
   "mimetype": "text/x-python",
   "name": "python",
   "nbconvert_exporter": "python",
   "pygments_lexer": "ipython3",
   "version": "3.7.1"
  }
 },
 "nbformat": 4,
 "nbformat_minor": 2
}
