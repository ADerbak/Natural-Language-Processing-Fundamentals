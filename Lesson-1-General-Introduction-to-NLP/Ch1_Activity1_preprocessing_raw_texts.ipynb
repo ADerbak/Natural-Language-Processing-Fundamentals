{
 "cells": [
  {
   "cell_type": "markdown",
   "metadata": {},
   "source": [
    "# Activity 1 : Preprocessing of raw texts"
   ]
  },
  {
   "cell_type": "markdown",
   "metadata": {},
   "source": [
    "Do the following tasks:\n",
    "\n",
    "Tokenization,\n",
    "Spelling correction,\n",
    "Pos tagging,\n",
    "Stop words removal,\n",
    "Stemming,\n",
    "Lemmatization,\n",
    "Named Entity Recognition,\n",
    "Text normalisation,\n",
    "Word Sense Disambiguation,\n",
    "Sentence Boundary Detection,\n",
    "\n",
    "On the following text corpus:\n",
    "\n",
    "In this book, we shall lerning how to pracess Natueral Language and extract insights from it. The first four chapter will introduce you to the basics of NLP. Later chapters will describe how to deal with complex NLP prajects. If you want to get early access of it, you should book your order now.\n"
   ]
  },
  {
   "cell_type": "code",
   "execution_count": 1,
   "metadata": {},
   "outputs": [],
   "source": [
    "import nltk\n",
    "from nltk import word_tokenize\n",
    "from nltk.stem.wordnet import WordNetLemmatizer\n",
    "from nltk.corpus import stopwords\n",
    "from autocorrect import spell\n",
    "from nltk.wsd import lesk\n",
    "from nltk.tokenize import sent_tokenize\n",
    "import string"
   ]
  },
  {
   "cell_type": "code",
   "execution_count": 2,
   "metadata": {},
   "outputs": [],
   "source": [
    "sentence = \"In this book authored by Sohom Ghosh and Dwight Gunning, we shall learnning how to pracess \\\n",
    "Natueral Language and extract insights from it. The first four chapter will introduce you to the basics of NLP. \\\n",
    "Later chapters will describe how to deal with complex NLP prajects. If you want to get early access of it, you \\\n",
    "should book your order now.\""
   ]
  },
  {
   "cell_type": "code",
   "execution_count": 3,
   "metadata": {},
   "outputs": [
    {
     "data": {
      "text/plain": [
       "['In',\n",
       " 'this',\n",
       " 'book',\n",
       " 'authored',\n",
       " 'by',\n",
       " 'Sohom',\n",
       " 'Ghosh',\n",
       " 'and',\n",
       " 'Dwight',\n",
       " 'Gunning',\n",
       " ',',\n",
       " 'we',\n",
       " 'shall',\n",
       " 'learnning',\n",
       " 'how',\n",
       " 'to',\n",
       " 'pracess',\n",
       " 'Natueral',\n",
       " 'Language',\n",
       " 'and']"
      ]
     },
     "execution_count": 3,
     "metadata": {},
     "output_type": "execute_result"
    }
   ],
   "source": [
    "words = word_tokenize(sentence)\n",
    "words[0:20]"
   ]
  },
  {
   "cell_type": "code",
   "execution_count": 4,
   "metadata": {},
   "outputs": [
    {
     "name": "stdout",
     "output_type": "stream",
     "text": [
      "Sohom has been corrected to: Soom\n",
      "Ghosh has been corrected to: Ghost\n",
      "learnning has been corrected to: learning\n",
      "pracess has been corrected to: process\n",
      "Natueral has been corrected to: Natural\n",
      "prajects has been corrected to: projects\n"
     ]
    }
   ],
   "source": [
    "corrected_sentence = \"\"\n",
    "corrected_word_list = []\n",
    "for wd in words:\n",
    "    if wd not in string.punctuation:\n",
    "        wd_c = spell(wd)\n",
    "        if wd_c != wd:\n",
    "            print(wd + \" has been corrected to: \" + wd_c)\n",
    "            corrected_sentence = corrected_sentence + ' ' +wd_c\n",
    "            corrected_word_list.append(wd_c)\n",
    "        else:\n",
    "            corrected_sentence = corrected_sentence + ' ' + wd\n",
    "            corrected_word_list.append(wd)\n",
    "    else:\n",
    "        corrected_sentence = corrected_sentence + wd\n",
    "        corrected_word_list.append(wd)"
   ]
  },
  {
   "cell_type": "code",
   "execution_count": 5,
   "metadata": {},
   "outputs": [
    {
     "data": {
      "text/plain": [
       "' In this book authored by Soom Ghost and Dwight Gunning, we shall learning how to process Natural Language and extract insights from it. The first four chapter will introduce you to the basics of NLP. Later chapters will describe how to deal with complex NLP projects. If you want to get early access of it, you should book your order now.'"
      ]
     },
     "execution_count": 5,
     "metadata": {},
     "output_type": "execute_result"
    }
   ],
   "source": [
    "corrected_sentence"
   ]
  },
  {
   "cell_type": "code",
   "execution_count": 6,
   "metadata": {},
   "outputs": [
    {
     "data": {
      "text/plain": [
       "['In',\n",
       " 'this',\n",
       " 'book',\n",
       " 'authored',\n",
       " 'by',\n",
       " 'Soom',\n",
       " 'Ghost',\n",
       " 'and',\n",
       " 'Dwight',\n",
       " 'Gunning',\n",
       " ',',\n",
       " 'we',\n",
       " 'shall',\n",
       " 'learning',\n",
       " 'how',\n",
       " 'to',\n",
       " 'process',\n",
       " 'Natural',\n",
       " 'Language',\n",
       " 'and']"
      ]
     },
     "execution_count": 6,
     "metadata": {},
     "output_type": "execute_result"
    }
   ],
   "source": [
    "corrected_word_list[:20]"
   ]
  },
  {
   "cell_type": "code",
   "execution_count": 7,
   "metadata": {},
   "outputs": [
    {
     "data": {
      "text/plain": [
       "[('In', 'IN'),\n",
       " ('this', 'DT'),\n",
       " ('book', 'NN'),\n",
       " ('authored', 'VBN'),\n",
       " ('by', 'IN'),\n",
       " ('Soom', 'NNP'),\n",
       " ('Ghost', 'NNP'),\n",
       " ('and', 'CC'),\n",
       " ('Dwight', 'NNP'),\n",
       " ('Gunning', 'NNP'),\n",
       " (',', ','),\n",
       " ('we', 'PRP'),\n",
       " ('shall', 'MD'),\n",
       " ('learning', 'VB'),\n",
       " ('how', 'WRB'),\n",
       " ('to', 'TO'),\n",
       " ('process', 'VB'),\n",
       " ('Natural', 'NNP'),\n",
       " ('Language', 'NNP'),\n",
       " ('and', 'CC'),\n",
       " ('extract', 'JJ'),\n",
       " ('insights', 'NNS'),\n",
       " ('from', 'IN'),\n",
       " ('it', 'PRP'),\n",
       " ('.', '.'),\n",
       " ('The', 'DT'),\n",
       " ('first', 'JJ'),\n",
       " ('four', 'CD'),\n",
       " ('chapter', 'NN'),\n",
       " ('will', 'MD'),\n",
       " ('introduce', 'VB'),\n",
       " ('you', 'PRP'),\n",
       " ('to', 'TO'),\n",
       " ('the', 'DT'),\n",
       " ('basics', 'NNS'),\n",
       " ('of', 'IN'),\n",
       " ('NLP', 'NNP'),\n",
       " ('.', '.'),\n",
       " ('Later', 'NNP'),\n",
       " ('chapters', 'NNS'),\n",
       " ('will', 'MD'),\n",
       " ('describe', 'VB'),\n",
       " ('how', 'WRB'),\n",
       " ('to', 'TO'),\n",
       " ('deal', 'VB'),\n",
       " ('with', 'IN'),\n",
       " ('complex', 'JJ'),\n",
       " ('NLP', 'NNP'),\n",
       " ('projects', 'NNS'),\n",
       " ('.', '.'),\n",
       " ('If', 'IN'),\n",
       " ('you', 'PRP'),\n",
       " ('want', 'VBP'),\n",
       " ('to', 'TO'),\n",
       " ('get', 'VB'),\n",
       " ('early', 'JJ'),\n",
       " ('access', 'NN'),\n",
       " ('of', 'IN'),\n",
       " ('it', 'PRP'),\n",
       " (',', ','),\n",
       " ('you', 'PRP'),\n",
       " ('should', 'MD'),\n",
       " ('book', 'NN'),\n",
       " ('your', 'PRP$'),\n",
       " ('order', 'NN'),\n",
       " ('now', 'RB'),\n",
       " ('.', '.')]"
      ]
     },
     "execution_count": 7,
     "metadata": {},
     "output_type": "execute_result"
    }
   ],
   "source": [
    "nltk.pos_tag(corrected_word_list)"
   ]
  },
  {
   "cell_type": "code",
   "execution_count": 8,
   "metadata": {},
   "outputs": [
    {
     "data": {
      "text/plain": [
       "['In',\n",
       " 'book',\n",
       " 'authored',\n",
       " 'Soom',\n",
       " 'Ghost',\n",
       " 'Dwight',\n",
       " 'Gunning',\n",
       " ',',\n",
       " 'shall',\n",
       " 'learning',\n",
       " 'process',\n",
       " 'Natural',\n",
       " 'Language',\n",
       " 'extract',\n",
       " 'insights',\n",
       " '.',\n",
       " 'The',\n",
       " 'first',\n",
       " 'four',\n",
       " 'chapter']"
      ]
     },
     "execution_count": 8,
     "metadata": {},
     "output_type": "execute_result"
    }
   ],
   "source": [
    "stop_words = stopwords.words('english')\n",
    "corrected_word_list_without_stopwords = []\n",
    "for wd in corrected_word_list:\n",
    "    if wd not in stop_words:\n",
    "        corrected_word_list_without_stopwords.append(wd)\n",
    "corrected_word_list_without_stopwords[:20]      "
   ]
  },
  {
   "cell_type": "code",
   "execution_count": 9,
   "metadata": {},
   "outputs": [
    {
     "data": {
      "text/plain": [
       "['In',\n",
       " 'book',\n",
       " 'author',\n",
       " 'soom',\n",
       " 'ghost',\n",
       " 'dwight',\n",
       " 'gun',\n",
       " ',',\n",
       " 'shall',\n",
       " 'learn',\n",
       " 'process',\n",
       " 'natur',\n",
       " 'languag',\n",
       " 'extract',\n",
       " 'insight',\n",
       " '.',\n",
       " 'the',\n",
       " 'first',\n",
       " 'four',\n",
       " 'chapter']"
      ]
     },
     "execution_count": 9,
     "metadata": {},
     "output_type": "execute_result"
    }
   ],
   "source": [
    "stemmer = nltk.stem.PorterStemmer()\n",
    "corrected_word_list_without_stopwords_stemmed = []\n",
    "for wd in corrected_word_list_without_stopwords:\n",
    "    corrected_word_list_without_stopwords_stemmed.append(stemmer.stem(wd))\n",
    "corrected_word_list_without_stopwords_stemmed[:20]"
   ]
  },
  {
   "cell_type": "code",
   "execution_count": 10,
   "metadata": {},
   "outputs": [
    {
     "data": {
      "text/plain": [
       "['In',\n",
       " 'book',\n",
       " 'authored',\n",
       " 'Soom',\n",
       " 'Ghost',\n",
       " 'Dwight',\n",
       " 'Gunning',\n",
       " ',',\n",
       " 'shall',\n",
       " 'learning',\n",
       " 'process',\n",
       " 'Natural',\n",
       " 'Language',\n",
       " 'extract',\n",
       " 'insight',\n",
       " '.',\n",
       " 'The',\n",
       " 'first',\n",
       " 'four',\n",
       " 'chapter']"
      ]
     },
     "execution_count": 10,
     "metadata": {},
     "output_type": "execute_result"
    }
   ],
   "source": [
    "lemmatizer = WordNetLemmatizer()\n",
    "corrected_word_list_without_stopwords_lemmatized = []\n",
    "for wd in corrected_word_list_without_stopwords:\n",
    "    corrected_word_list_without_stopwords_lemmatized.append(lemmatizer.lemmatize(wd))\n",
    "corrected_word_list_without_stopwords_lemmatized[:20]"
   ]
  },
  {
   "cell_type": "code",
   "execution_count": 11,
   "metadata": {},
   "outputs": [
    {
     "data": {
      "text/plain": [
       "[' In this book authored by Soom Ghost and Dwight Gunning, we shall learning how to process Natural Language and extract insights from it.',\n",
       " 'The first four chapter will introduce you to the basics of NLP.',\n",
       " 'Later chapters will describe how to deal with complex NLP projects.',\n",
       " 'If you want to get early access of it, you should book your order now.']"
      ]
     },
     "execution_count": 11,
     "metadata": {},
     "output_type": "execute_result"
    }
   ],
   "source": [
    "sent_tokenize(corrected_sentence)"
   ]
  }
 ],
 "metadata": {
  "kernelspec": {
   "display_name": "Python 3",
   "language": "python",
   "name": "python3"
  },
  "language_info": {
   "codemirror_mode": {
    "name": "ipython",
    "version": 3
   },
   "file_extension": ".py",
   "mimetype": "text/x-python",
   "name": "python",
   "nbconvert_exporter": "python",
   "pygments_lexer": "ipython3",
   "version": "3.7.1"
  }
 },
 "nbformat": 4,
 "nbformat_minor": 2
}
