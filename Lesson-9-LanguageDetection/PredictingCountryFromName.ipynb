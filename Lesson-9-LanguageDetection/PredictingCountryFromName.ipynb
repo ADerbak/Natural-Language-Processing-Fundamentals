{
 "cells": [
  {
   "cell_type": "markdown",
   "metadata": {},
   "source": [
    "# Predicting Country from Names"
   ]
  },
  {
   "cell_type": "code",
   "execution_count": 2,
   "metadata": {},
   "outputs": [],
   "source": [
    "import pandas as pd\n",
    "pd.set_option('display.max_rows', 1000)\n",
    "names = pd.read_csv('data/every-politician/names.csv')"
   ]
  },
  {
   "cell_type": "markdown",
   "metadata": {},
   "source": [
    "## Load Data"
   ]
  },
  {
   "cell_type": "code",
   "execution_count": 3,
   "metadata": {},
   "outputs": [
    {
     "data": {
      "text/html": [
       "<div>\n",
       "<style scoped>\n",
       "    .dataframe tbody tr th:only-of-type {\n",
       "        vertical-align: middle;\n",
       "    }\n",
       "\n",
       "    .dataframe tbody tr th {\n",
       "        vertical-align: top;\n",
       "    }\n",
       "\n",
       "    .dataframe thead th {\n",
       "        text-align: right;\n",
       "    }\n",
       "</style>\n",
       "<table border=\"1\" class=\"dataframe\">\n",
       "  <thead>\n",
       "    <tr style=\"text-align: right;\">\n",
       "      <th></th>\n",
       "      <th>id</th>\n",
       "      <th>name</th>\n",
       "      <th>country</th>\n",
       "      <th>legislature</th>\n",
       "    </tr>\n",
       "  </thead>\n",
       "  <tbody>\n",
       "    <tr>\n",
       "      <th>24753</th>\n",
       "      <td>7424e432-77c5-40b9-b883-eb6f52fbfa15</td>\n",
       "      <td>Μαύρου Ελένη</td>\n",
       "      <td>Cyprus</td>\n",
       "      <td>House-of-Representatives</td>\n",
       "    </tr>\n",
       "    <tr>\n",
       "      <th>31502</th>\n",
       "      <td>a2e2e170-ed3d-4f27-baaa-5d2efa7970ed</td>\n",
       "      <td>Nadia Ramassamy</td>\n",
       "      <td>France</td>\n",
       "      <td>National-Assembly</td>\n",
       "    </tr>\n",
       "    <tr>\n",
       "      <th>41124</th>\n",
       "      <td>dc66046e-2d61-4650-ae45-c648cc7bdba4</td>\n",
       "      <td>모니카 그뤼터스</td>\n",
       "      <td>Germany</td>\n",
       "      <td>Bundestag</td>\n",
       "    </tr>\n",
       "    <tr>\n",
       "      <th>71855</th>\n",
       "      <td>b995d209-00e5-4b24-a4be-db667b0b8b11</td>\n",
       "      <td>Нигматулин, Нурлан Зайруллаевич</td>\n",
       "      <td>Kazakhstan</td>\n",
       "      <td>Assembly</td>\n",
       "    </tr>\n",
       "    <tr>\n",
       "      <th>68434</th>\n",
       "      <td>f16fa51a-5871-44cb-acbc-c68d2dd0891d</td>\n",
       "      <td>Shigeki Kobayashi</td>\n",
       "      <td>Japan</td>\n",
       "      <td>House-of-Representatives</td>\n",
       "    </tr>\n",
       "    <tr>\n",
       "      <th>31602</th>\n",
       "      <td>ebe94d0a-a539-4b9a-926b-4c0d3af3a3c4</td>\n",
       "      <td>Patrick Labaune</td>\n",
       "      <td>France</td>\n",
       "      <td>National-Assembly</td>\n",
       "    </tr>\n",
       "    <tr>\n",
       "      <th>89866</th>\n",
       "      <td>9f92aedc-2a2b-4caf-9f6b-85a2809c5e25</td>\n",
       "      <td>Sin Pyong-kang</td>\n",
       "      <td>North-Korea</td>\n",
       "      <td>National-Assembly</td>\n",
       "    </tr>\n",
       "    <tr>\n",
       "      <th>30427</th>\n",
       "      <td>30a0f93b-e548-4ea5-8a4d-c43e594504ed</td>\n",
       "      <td>Bertrand Bouyx</td>\n",
       "      <td>France</td>\n",
       "      <td>National-Assembly</td>\n",
       "    </tr>\n",
       "    <tr>\n",
       "      <th>92506</th>\n",
       "      <td>73a0292f-2032-409d-863e-7715e1aca704</td>\n",
       "      <td>گرو هارلم بروندلاند</td>\n",
       "      <td>Norway</td>\n",
       "      <td>Storting</td>\n",
       "    </tr>\n",
       "    <tr>\n",
       "      <th>57768</th>\n",
       "      <td>a6e8e3d8-efd6-40b0-a072-1e0855440424</td>\n",
       "      <td>Niall Collins</td>\n",
       "      <td>Ireland</td>\n",
       "      <td>Dail</td>\n",
       "    </tr>\n",
       "  </tbody>\n",
       "</table>\n",
       "</div>"
      ],
      "text/plain": [
       "                                         id                             name  \\\n",
       "24753  7424e432-77c5-40b9-b883-eb6f52fbfa15                     Μαύρου Ελένη   \n",
       "31502  a2e2e170-ed3d-4f27-baaa-5d2efa7970ed                  Nadia Ramassamy   \n",
       "41124  dc66046e-2d61-4650-ae45-c648cc7bdba4                         모니카 그뤼터스   \n",
       "71855  b995d209-00e5-4b24-a4be-db667b0b8b11  Нигматулин, Нурлан Зайруллаевич   \n",
       "68434  f16fa51a-5871-44cb-acbc-c68d2dd0891d                Shigeki Kobayashi   \n",
       "31602  ebe94d0a-a539-4b9a-926b-4c0d3af3a3c4                  Patrick Labaune   \n",
       "89866  9f92aedc-2a2b-4caf-9f6b-85a2809c5e25                   Sin Pyong-kang   \n",
       "30427  30a0f93b-e548-4ea5-8a4d-c43e594504ed                   Bertrand Bouyx   \n",
       "92506  73a0292f-2032-409d-863e-7715e1aca704              گرو هارلم بروندلاند   \n",
       "57768  a6e8e3d8-efd6-40b0-a072-1e0855440424                    Niall Collins   \n",
       "\n",
       "           country               legislature  \n",
       "24753       Cyprus  House-of-Representatives  \n",
       "31502       France         National-Assembly  \n",
       "41124      Germany                 Bundestag  \n",
       "71855   Kazakhstan                  Assembly  \n",
       "68434        Japan  House-of-Representatives  \n",
       "31602       France         National-Assembly  \n",
       "89866  North-Korea         National-Assembly  \n",
       "30427       France         National-Assembly  \n",
       "92506       Norway                  Storting  \n",
       "57768      Ireland                      Dail  "
      ]
     },
     "execution_count": 3,
     "metadata": {},
     "output_type": "execute_result"
    }
   ],
   "source": [
    "names.sample(10)"
   ]
  },
  {
   "cell_type": "markdown",
   "metadata": {},
   "source": [
    "## Subset Countries"
   ]
  },
  {
   "cell_type": "code",
   "execution_count": 5,
   "metadata": {},
   "outputs": [],
   "source": [
    "countries = ['China', 'Thailand', 'Russia',\n",
    "             'Brazil', 'Japan', 'Ukraine',\n",
    "             'UK', 'Spain', 'Iceland']\n",
    "customer_names = names[names.country.isin(countries)].reset_index(drop=True)"
   ]
  },
  {
   "cell_type": "code",
   "execution_count": 6,
   "metadata": {},
   "outputs": [
    {
     "data": {
      "text/html": [
       "<div>\n",
       "<style scoped>\n",
       "    .dataframe tbody tr th:only-of-type {\n",
       "        vertical-align: middle;\n",
       "    }\n",
       "\n",
       "    .dataframe tbody tr th {\n",
       "        vertical-align: top;\n",
       "    }\n",
       "\n",
       "    .dataframe thead th {\n",
       "        text-align: right;\n",
       "    }\n",
       "</style>\n",
       "<table border=\"1\" class=\"dataframe\">\n",
       "  <thead>\n",
       "    <tr style=\"text-align: right;\">\n",
       "      <th></th>\n",
       "      <th>id</th>\n",
       "      <th>name</th>\n",
       "      <th>country</th>\n",
       "      <th>legislature</th>\n",
       "    </tr>\n",
       "  </thead>\n",
       "  <tbody>\n",
       "    <tr>\n",
       "      <th>7320</th>\n",
       "      <td>859fc3c6-c8a4-428e-9ed0-db9677cbfc35</td>\n",
       "      <td>おぶち ゆうこ</td>\n",
       "      <td>Japan</td>\n",
       "      <td>House-of-Representatives</td>\n",
       "    </tr>\n",
       "    <tr>\n",
       "      <th>14449</th>\n",
       "      <td>433f8d8f-0879-4ecd-a088-d1c8f2b0bd84</td>\n",
       "      <td>Juhims Zvjahiļskis</td>\n",
       "      <td>Ukraine</td>\n",
       "      <td>Verkhovna-Rada</td>\n",
       "    </tr>\n",
       "    <tr>\n",
       "      <th>2561</th>\n",
       "      <td>c7505ece-1453-4b37-947d-655f6a8fe5ee</td>\n",
       "      <td>张忠民</td>\n",
       "      <td>China</td>\n",
       "      <td>Congress</td>\n",
       "    </tr>\n",
       "    <tr>\n",
       "      <th>5288</th>\n",
       "      <td>e67c0c7d-2986-4ed4-a73b-aae6b41edda2</td>\n",
       "      <td>AKABA Kazuyoshi</td>\n",
       "      <td>Japan</td>\n",
       "      <td>House-of-Representatives</td>\n",
       "    </tr>\n",
       "    <tr>\n",
       "      <th>8538</th>\n",
       "      <td>6cf1b73c-574f-4a67-8c92-fc14a4bb42a8</td>\n",
       "      <td>田所嘉徳</td>\n",
       "      <td>Japan</td>\n",
       "      <td>House-of-Representatives</td>\n",
       "    </tr>\n",
       "    <tr>\n",
       "      <th>4860</th>\n",
       "      <td>956f67aa-9fba-4a05-83b3-eeb850731b3f</td>\n",
       "      <td>Guðjón Arnar Kristjánsson</td>\n",
       "      <td>Iceland</td>\n",
       "      <td>Assembly</td>\n",
       "    </tr>\n",
       "    <tr>\n",
       "      <th>17322</th>\n",
       "      <td>27352be9-c266-498d-8303-f3ce61c30d59</td>\n",
       "      <td>Lynda Clark</td>\n",
       "      <td>UK</td>\n",
       "      <td>Commons</td>\n",
       "    </tr>\n",
       "    <tr>\n",
       "      <th>20133</th>\n",
       "      <td>14573aa9-0e99-4ab8-b7ba-5443e59df132</td>\n",
       "      <td>スティーブン・メトカーフ</td>\n",
       "      <td>UK</td>\n",
       "      <td>Commons</td>\n",
       "    </tr>\n",
       "    <tr>\n",
       "      <th>8423</th>\n",
       "      <td>e8842709-b508-4404-94b4-51f2d6124f24</td>\n",
       "      <td>武部新</td>\n",
       "      <td>Japan</td>\n",
       "      <td>House-of-Representatives</td>\n",
       "    </tr>\n",
       "    <tr>\n",
       "      <th>11880</th>\n",
       "      <td>8af09397-3e3e-433d-ad38-afca040677d5</td>\n",
       "      <td>نيكولاي فالويف</td>\n",
       "      <td>Russia</td>\n",
       "      <td>Duma</td>\n",
       "    </tr>\n",
       "  </tbody>\n",
       "</table>\n",
       "</div>"
      ],
      "text/plain": [
       "                                         id                       name  \\\n",
       "7320   859fc3c6-c8a4-428e-9ed0-db9677cbfc35                    おぶち ゆうこ   \n",
       "14449  433f8d8f-0879-4ecd-a088-d1c8f2b0bd84         Juhims Zvjahiļskis   \n",
       "2561   c7505ece-1453-4b37-947d-655f6a8fe5ee                        张忠民   \n",
       "5288   e67c0c7d-2986-4ed4-a73b-aae6b41edda2            AKABA Kazuyoshi   \n",
       "8538   6cf1b73c-574f-4a67-8c92-fc14a4bb42a8                       田所嘉徳   \n",
       "4860   956f67aa-9fba-4a05-83b3-eeb850731b3f  Guðjón Arnar Kristjánsson   \n",
       "17322  27352be9-c266-498d-8303-f3ce61c30d59                Lynda Clark   \n",
       "20133  14573aa9-0e99-4ab8-b7ba-5443e59df132               スティーブン・メトカーフ   \n",
       "8423   e8842709-b508-4404-94b4-51f2d6124f24                        武部新   \n",
       "11880  8af09397-3e3e-433d-ad38-afca040677d5             نيكولاي فالويف   \n",
       "\n",
       "       country               legislature  \n",
       "7320     Japan  House-of-Representatives  \n",
       "14449  Ukraine            Verkhovna-Rada  \n",
       "2561     China                  Congress  \n",
       "5288     Japan  House-of-Representatives  \n",
       "8538     Japan  House-of-Representatives  \n",
       "4860   Iceland                  Assembly  \n",
       "17322       UK                   Commons  \n",
       "20133       UK                   Commons  \n",
       "8423     Japan  House-of-Representatives  \n",
       "11880   Russia                      Duma  "
      ]
     },
     "execution_count": 6,
     "metadata": {},
     "output_type": "execute_result"
    }
   ],
   "source": [
    "customer_names.sample(10)"
   ]
  },
  {
   "cell_type": "code",
   "execution_count": 215,
   "metadata": {},
   "outputs": [
    {
     "data": {
      "text/plain": [
       "UK          5593\n",
       "Japan       3756\n",
       "China       3435\n",
       "Russia      3083\n",
       "Ukraine     1898\n",
       "Spain       1749\n",
       "Brazil      1341\n",
       "Iceland      502\n",
       "Thailand     364\n",
       "Name: country, dtype: int64"
      ]
     },
     "execution_count": 215,
     "metadata": {},
     "output_type": "execute_result"
    }
   ],
   "source": [
    "customer_names.country.value_counts()"
   ]
  },
  {
   "cell_type": "markdown",
   "metadata": {},
   "source": [
    "## Encode Names"
   ]
  },
  {
   "cell_type": "code",
   "execution_count": 7,
   "metadata": {},
   "outputs": [
    {
     "name": "stderr",
     "output_type": "stream",
     "text": [
      "Using TensorFlow backend.\n"
     ]
    }
   ],
   "source": [
    "from keras.preprocessing import sequence\n",
    "from keras.models import Sequential\n",
    "from keras.layers import Dense, Embedding, Activation, Dropout\n",
    "from keras.layers import LSTM\n",
    "from keras.utils import to_categorical\n",
    "from keras.preprocessing.text import one_hot"
   ]
  },
  {
   "cell_type": "code",
   "execution_count": 8,
   "metadata": {},
   "outputs": [],
   "source": [
    "from keras.preprocessing.text import Tokenizer\n",
    "char_tokenizer = Tokenizer(char_level=True)"
   ]
  },
  {
   "cell_type": "code",
   "execution_count": 9,
   "metadata": {},
   "outputs": [],
   "source": [
    "char_tokenizer.fit_on_texts(customer_names.name)"
   ]
  },
  {
   "cell_type": "code",
   "execution_count": 10,
   "metadata": {},
   "outputs": [],
   "source": [
    "customer_names_encoded = char_tokenizer.texts_to_sequences(customer_names.name)"
   ]
  },
  {
   "cell_type": "code",
   "execution_count": 12,
   "metadata": {},
   "outputs": [
    {
     "data": {
      "text/plain": [
       "([2, 35, 6, 12, 1, 18, 6, 10, 110, 19, 3, 15, 2, 1, 30, 5, 312],\n",
       " [2, 48, 4, 7, 10, 4, 1, 18, 4, 15, 15, 2])"
      ]
     },
     "execution_count": 12,
     "metadata": {},
     "output_type": "execute_result"
    }
   ],
   "source": [
    "customer_names_encoded[0], customer_names_encoded[20]"
   ]
  },
  {
   "cell_type": "code",
   "execution_count": 14,
   "metadata": {},
   "outputs": [],
   "source": [
    "len_longest_name = len(max(customer_names_encoded, key=len))\n",
    "customer_names_encoded = sequence.pad_sequences(customer_names_encoded, \n",
    "                                                maxlen=len_longest_name)"
   ]
  },
  {
   "cell_type": "code",
   "execution_count": 15,
   "metadata": {},
   "outputs": [
    {
     "data": {
      "text/plain": [
       "(array([  0,   0,   0,   0,   0,   0,   0,   0,   0,   0,   0,   0,   0,\n",
       "          0,   0,   0,   0,   0,   0,   0,   0,   0,   0,   0,   0,   0,\n",
       "          0,   0,   0,   0,   0,   0,   0,   0,   0,   0,   0,   0,   0,\n",
       "          0,   0,   0,   0,   2,  35,   6,  12,   1,  18,   6,  10, 110,\n",
       "         19,   3,  15,   2,   1,  30,   5, 312]),\n",
       " array([ 0,  0,  0,  0,  0,  0,  0,  0,  0,  0,  0,  0,  0,  0,  0,  0,  0,\n",
       "         0,  0,  0,  0,  0,  0,  0,  0,  0,  0,  0,  0,  0,  0,  0,  0,  0,\n",
       "         0,  0,  0,  0,  0,  0,  0,  0,  0,  0,  0,  0,  0,  0,  2, 48,  4,\n",
       "         7, 10,  4,  1, 18,  4, 15, 15,  2]))"
      ]
     },
     "execution_count": 15,
     "metadata": {},
     "output_type": "execute_result"
    }
   ],
   "source": [
    "customer_names_encoded[0], customer_names_encoded[20]"
   ]
  },
  {
   "cell_type": "markdown",
   "metadata": {},
   "source": [
    "## One Hot Encode Countries"
   ]
  },
  {
   "cell_type": "code",
   "execution_count": 17,
   "metadata": {},
   "outputs": [],
   "source": [
    "countries_one_hot_df = pd.get_dummies(customer_names.country)\n",
    "countries_one_hot = countries_one_hot_df.values"
   ]
  },
  {
   "cell_type": "code",
   "execution_count": 21,
   "metadata": {},
   "outputs": [
    {
     "data": {
      "text/html": [
       "<div>\n",
       "<style scoped>\n",
       "    .dataframe tbody tr th:only-of-type {\n",
       "        vertical-align: middle;\n",
       "    }\n",
       "\n",
       "    .dataframe tbody tr th {\n",
       "        vertical-align: top;\n",
       "    }\n",
       "\n",
       "    .dataframe thead th {\n",
       "        text-align: right;\n",
       "    }\n",
       "</style>\n",
       "<table border=\"1\" class=\"dataframe\">\n",
       "  <thead>\n",
       "    <tr style=\"text-align: right;\">\n",
       "      <th></th>\n",
       "      <th>Brazil</th>\n",
       "      <th>China</th>\n",
       "      <th>Iceland</th>\n",
       "      <th>Japan</th>\n",
       "      <th>Russia</th>\n",
       "      <th>Spain</th>\n",
       "      <th>Thailand</th>\n",
       "      <th>UK</th>\n",
       "      <th>Ukraine</th>\n",
       "    </tr>\n",
       "  </thead>\n",
       "  <tbody>\n",
       "    <tr>\n",
       "      <th>5353</th>\n",
       "      <td>0</td>\n",
       "      <td>0</td>\n",
       "      <td>0</td>\n",
       "      <td>1</td>\n",
       "      <td>0</td>\n",
       "      <td>0</td>\n",
       "      <td>0</td>\n",
       "      <td>0</td>\n",
       "      <td>0</td>\n",
       "    </tr>\n",
       "    <tr>\n",
       "      <th>4976</th>\n",
       "      <td>0</td>\n",
       "      <td>0</td>\n",
       "      <td>1</td>\n",
       "      <td>0</td>\n",
       "      <td>0</td>\n",
       "      <td>0</td>\n",
       "      <td>0</td>\n",
       "      <td>0</td>\n",
       "      <td>0</td>\n",
       "    </tr>\n",
       "    <tr>\n",
       "      <th>8120</th>\n",
       "      <td>0</td>\n",
       "      <td>0</td>\n",
       "      <td>0</td>\n",
       "      <td>1</td>\n",
       "      <td>0</td>\n",
       "      <td>0</td>\n",
       "      <td>0</td>\n",
       "      <td>0</td>\n",
       "      <td>0</td>\n",
       "    </tr>\n",
       "    <tr>\n",
       "      <th>19194</th>\n",
       "      <td>0</td>\n",
       "      <td>0</td>\n",
       "      <td>0</td>\n",
       "      <td>0</td>\n",
       "      <td>0</td>\n",
       "      <td>0</td>\n",
       "      <td>0</td>\n",
       "      <td>1</td>\n",
       "      <td>0</td>\n",
       "    </tr>\n",
       "    <tr>\n",
       "      <th>3334</th>\n",
       "      <td>0</td>\n",
       "      <td>1</td>\n",
       "      <td>0</td>\n",
       "      <td>0</td>\n",
       "      <td>0</td>\n",
       "      <td>0</td>\n",
       "      <td>0</td>\n",
       "      <td>0</td>\n",
       "      <td>0</td>\n",
       "    </tr>\n",
       "    <tr>\n",
       "      <th>3392</th>\n",
       "      <td>0</td>\n",
       "      <td>1</td>\n",
       "      <td>0</td>\n",
       "      <td>0</td>\n",
       "      <td>0</td>\n",
       "      <td>0</td>\n",
       "      <td>0</td>\n",
       "      <td>0</td>\n",
       "      <td>0</td>\n",
       "    </tr>\n",
       "    <tr>\n",
       "      <th>16334</th>\n",
       "      <td>0</td>\n",
       "      <td>0</td>\n",
       "      <td>0</td>\n",
       "      <td>0</td>\n",
       "      <td>0</td>\n",
       "      <td>0</td>\n",
       "      <td>0</td>\n",
       "      <td>1</td>\n",
       "      <td>0</td>\n",
       "    </tr>\n",
       "    <tr>\n",
       "      <th>8443</th>\n",
       "      <td>0</td>\n",
       "      <td>0</td>\n",
       "      <td>0</td>\n",
       "      <td>1</td>\n",
       "      <td>0</td>\n",
       "      <td>0</td>\n",
       "      <td>0</td>\n",
       "      <td>0</td>\n",
       "      <td>0</td>\n",
       "    </tr>\n",
       "    <tr>\n",
       "      <th>13838</th>\n",
       "      <td>0</td>\n",
       "      <td>0</td>\n",
       "      <td>0</td>\n",
       "      <td>0</td>\n",
       "      <td>0</td>\n",
       "      <td>1</td>\n",
       "      <td>0</td>\n",
       "      <td>0</td>\n",
       "      <td>0</td>\n",
       "    </tr>\n",
       "    <tr>\n",
       "      <th>6109</th>\n",
       "      <td>0</td>\n",
       "      <td>0</td>\n",
       "      <td>0</td>\n",
       "      <td>1</td>\n",
       "      <td>0</td>\n",
       "      <td>0</td>\n",
       "      <td>0</td>\n",
       "      <td>0</td>\n",
       "      <td>0</td>\n",
       "    </tr>\n",
       "  </tbody>\n",
       "</table>\n",
       "</div>"
      ],
      "text/plain": [
       "       Brazil  China  Iceland  Japan  Russia  Spain  Thailand  UK  Ukraine\n",
       "5353        0      0        0      1       0      0         0   0        0\n",
       "4976        0      0        1      0       0      0         0   0        0\n",
       "8120        0      0        0      1       0      0         0   0        0\n",
       "19194       0      0        0      0       0      0         0   1        0\n",
       "3334        0      1        0      0       0      0         0   0        0\n",
       "3392        0      1        0      0       0      0         0   0        0\n",
       "16334       0      0        0      0       0      0         0   1        0\n",
       "8443        0      0        0      1       0      0         0   0        0\n",
       "13838       0      0        0      0       0      1         0   0        0\n",
       "6109        0      0        0      1       0      0         0   0        0"
      ]
     },
     "execution_count": 21,
     "metadata": {},
     "output_type": "execute_result"
    }
   ],
   "source": [
    "countries_one_hot_df.sample(10)"
   ]
  },
  {
   "cell_type": "code",
   "execution_count": 22,
   "metadata": {},
   "outputs": [],
   "source": [
    "def get_country(country_one_hot):\n",
    "    countries_one_hot_df.dot(countries_one_hot_df.columns)"
   ]
  },
  {
   "cell_type": "code",
   "execution_count": 23,
   "metadata": {},
   "outputs": [
    {
     "data": {
      "text/plain": [
       "'Japan'"
      ]
     },
     "execution_count": 23,
     "metadata": {},
     "output_type": "execute_result"
    }
   ],
   "source": [
    "countries_one_hot_df.columns[3]"
   ]
  },
  {
   "cell_type": "markdown",
   "metadata": {},
   "source": [
    "## Pad up to length of Longest Name"
   ]
  },
  {
   "cell_type": "code",
   "execution_count": 24,
   "metadata": {},
   "outputs": [
    {
     "data": {
      "text/plain": [
       "60"
      ]
     },
     "execution_count": 24,
     "metadata": {},
     "output_type": "execute_result"
    }
   ],
   "source": [
    "len(min(customer_names_encoded, key=len))"
   ]
  },
  {
   "cell_type": "markdown",
   "metadata": {},
   "source": [
    "## Prepare X and y"
   ]
  },
  {
   "cell_type": "code",
   "execution_count": 25,
   "metadata": {},
   "outputs": [],
   "source": [
    "X = customer_names_encoded\n",
    "y = countries_one_hot"
   ]
  },
  {
   "cell_type": "markdown",
   "metadata": {},
   "source": [
    "## Split into Train and Test Set"
   ]
  },
  {
   "cell_type": "code",
   "execution_count": 26,
   "metadata": {},
   "outputs": [],
   "source": [
    "from sklearn.model_selection import train_test_split"
   ]
  },
  {
   "cell_type": "code",
   "execution_count": 27,
   "metadata": {},
   "outputs": [],
   "source": [
    " X_train, X_test, y_train, y_test = train_test_split(X, y, test_size=0.2, random_state=42)"
   ]
  },
  {
   "cell_type": "code",
   "execution_count": 28,
   "metadata": {},
   "outputs": [
    {
     "data": {
      "text/plain": [
       "(17376, 4345)"
      ]
     },
     "execution_count": 28,
     "metadata": {},
     "output_type": "execute_result"
    }
   ],
   "source": [
    "len(X_train), len(X_test)"
   ]
  },
  {
   "cell_type": "code",
   "execution_count": 29,
   "metadata": {},
   "outputs": [
    {
     "name": "stdout",
     "output_type": "stream",
     "text": [
      "x_train shape: (17376, 60)\n",
      "x_test shape: (4345, 60)\n",
      "y_train shape: (17376, 9)\n",
      "y_test shape: (4345, 9)\n"
     ]
    }
   ],
   "source": [
    "print('x_train shape:', X_train.shape)\n",
    "print('x_test shape:', X_test.shape)\n",
    "print('y_train shape:', y_train.shape)\n",
    "print('y_test shape:', y_test.shape)"
   ]
  },
  {
   "cell_type": "markdown",
   "metadata": {},
   "source": [
    "## Build Model"
   ]
  },
  {
   "cell_type": "code",
   "execution_count": 30,
   "metadata": {
    "scrolled": true
   },
   "outputs": [
    {
     "name": "stdout",
     "output_type": "stream",
     "text": [
      "WARNING:tensorflow:From C:\\Users\\dwight\\Anaconda3\\envs\\packt\\lib\\site-packages\\tensorflow\\python\\framework\\op_def_library.py:263: colocate_with (from tensorflow.python.framework.ops) is deprecated and will be removed in a future version.\n",
      "Instructions for updating:\n",
      "Colocations handled automatically by placer.\n",
      "WARNING:tensorflow:From C:\\Users\\dwight\\Anaconda3\\envs\\packt\\lib\\site-packages\\keras\\backend\\tensorflow_backend.py:3445: calling dropout (from tensorflow.python.ops.nn_ops) with keep_prob is deprecated and will be removed in a future version.\n",
      "Instructions for updating:\n",
      "Please use `rate` instead of `keep_prob`. Rate should be set to `rate = 1 - keep_prob`.\n",
      "Train...\n",
      "WARNING:tensorflow:From C:\\Users\\dwight\\Anaconda3\\envs\\packt\\lib\\site-packages\\tensorflow\\python\\ops\\math_ops.py:3066: to_int32 (from tensorflow.python.ops.math_ops) is deprecated and will be removed in a future version.\n",
      "Instructions for updating:\n",
      "Use tf.cast instead.\n",
      "Train on 17376 samples, validate on 4345 samples\n",
      "Epoch 1/15\n",
      "17376/17376 [==============================] - 25s 1ms/step - loss: 1.2263 - acc: 0.5725 - val_loss: 0.8729 - val_acc: 0.7146\n",
      "Epoch 2/15\n",
      "17376/17376 [==============================] - 22s 1ms/step - loss: 0.9466 - acc: 0.6774 - val_loss: 0.8118 - val_acc: 0.7222\n",
      "Epoch 3/15\n",
      "17376/17376 [==============================] - 22s 1ms/step - loss: 0.9633 - acc: 0.6690 - val_loss: 0.8291 - val_acc: 0.7142\n",
      "Epoch 4/15\n",
      "17376/17376 [==============================] - 22s 1ms/step - loss: 0.9446 - acc: 0.6736 - val_loss: 0.7902 - val_acc: 0.7411\n",
      "Epoch 5/15\n",
      "17376/17376 [==============================] - 22s 1ms/step - loss: 0.8971 - acc: 0.6977 - val_loss: 0.7947 - val_acc: 0.7339\n",
      "Epoch 6/15\n",
      "17376/17376 [==============================] - 21s 1ms/step - loss: 0.9044 - acc: 0.6952 - val_loss: 0.7851 - val_acc: 0.7388\n",
      "Epoch 7/15\n",
      "17376/17376 [==============================] - 22s 1ms/step - loss: 0.8898 - acc: 0.6929 - val_loss: 0.7677 - val_acc: 0.7379\n",
      "Epoch 8/15\n",
      "17376/17376 [==============================] - 22s 1ms/step - loss: 0.8692 - acc: 0.7019 - val_loss: 0.7591 - val_acc: 0.7399\n",
      "Epoch 9/15\n",
      "17376/17376 [==============================] - 22s 1ms/step - loss: 0.8710 - acc: 0.6987 - val_loss: 0.7590 - val_acc: 0.7461\n",
      "Epoch 10/15\n",
      "17376/17376 [==============================] - 22s 1ms/step - loss: 0.8423 - acc: 0.7091 - val_loss: 0.7361 - val_acc: 0.7554\n",
      "Epoch 11/15\n",
      "17376/17376 [==============================] - 22s 1ms/step - loss: 0.8162 - acc: 0.7201 - val_loss: 0.7370 - val_acc: 0.7533\n",
      "Epoch 12/15\n",
      "17376/17376 [==============================] - 22s 1ms/step - loss: 0.8225 - acc: 0.7230 - val_loss: 0.7350 - val_acc: 0.7537\n",
      "Epoch 13/15\n",
      "17376/17376 [==============================] - 22s 1ms/step - loss: 0.8242 - acc: 0.7182 - val_loss: 0.7248 - val_acc: 0.7524\n",
      "Epoch 14/15\n",
      "17376/17376 [==============================] - 22s 1ms/step - loss: 0.8070 - acc: 0.7235 - val_loss: 0.7106 - val_acc: 0.7556\n",
      "Epoch 15/15\n",
      "17376/17376 [==============================] - 22s 1ms/step - loss: 0.7965 - acc: 0.7286 - val_loss: 0.7085 - val_acc: 0.7620\n",
      "4345/4345 [==============================] - 1s 253us/step\n",
      "Test score: 0.7084899139623785\n",
      "Test accuracy: 0.7620253162362084\n"
     ]
    }
   ],
   "source": [
    "batch_size = 64\n",
    "embedding_size = 256\n",
    "num_classes = 9\n",
    "\n",
    "model = Sequential()\n",
    "model.add(Embedding(embedding_size, 128))\n",
    "model.add(LSTM(128, dropout=0.2, recurrent_dropout=0.2))\n",
    "model.add(Dropout(0.5))\n",
    "model.add(Dense(num_classes, activation='softmax'))\n",
    "#model.add(Activation('softmax'))\n",
    "\n",
    "# try using different optimizers and different optimizer configs\n",
    "model.compile(loss='categorical_crossentropy',\n",
    "              optimizer='adam',\n",
    "              metrics=['accuracy'])\n",
    "\n",
    "print('Train...')\n",
    "model.fit(X_train, y_train,\n",
    "          batch_size=batch_size,\n",
    "          epochs=15,\n",
    "          validation_data=(X_test, y_test))\n",
    "score, acc = model.evaluate(X_test, y_test,\n",
    "                            batch_size=batch_size)\n",
    "print('Test score:', score)\n",
    "print('Test accuracy:', acc)"
   ]
  },
  {
   "cell_type": "code",
   "execution_count": 32,
   "metadata": {
    "scrolled": false
   },
   "outputs": [],
   "source": [
    "model.save('models/NameToCountryModelKeras.mdl')"
   ]
  },
  {
   "cell_type": "markdown",
   "metadata": {},
   "source": [
    "## Prediction Functions"
   ]
  },
  {
   "cell_type": "code",
   "execution_count": 204,
   "metadata": {},
   "outputs": [],
   "source": [
    "def name_to_tensor(name:str):\n",
    "    name_tensor = char_tokenizer.texts_to_sequences([name])\n",
    "    name_tensor_padded = sequence.pad_sequences(name_tensor, maxlen=len_longest_name)\n",
    "    return name_tensor_padded[0]"
   ]
  },
  {
   "cell_type": "code",
   "execution_count": 205,
   "metadata": {},
   "outputs": [],
   "source": [
    "def predict_class(input):\n",
    "    return model.predict_classes( np.array([input,] ) )[0]"
   ]
  },
  {
   "cell_type": "code",
   "execution_count": 206,
   "metadata": {},
   "outputs": [
    {
     "data": {
      "text/plain": [
       "8"
      ]
     },
     "execution_count": 206,
     "metadata": {},
     "output_type": "execute_result"
    }
   ],
   "source": [
    "predict_class(X_train[0])"
   ]
  },
  {
   "cell_type": "code",
   "execution_count": 210,
   "metadata": {},
   "outputs": [
    {
     "data": {
      "text/plain": [
       "'China'"
      ]
     },
     "execution_count": 210,
     "metadata": {},
     "output_type": "execute_result"
    }
   ],
   "source": [
    "def predict_country(name:str):\n",
    "    name_tensor = name_to_tensor(name)\n",
    "    country_index = predict_class(name_tensor)\n",
    "    country = countries_one_hot_df.columns[country_index]\n",
    "    return country"
   ]
  },
  {
   "cell_type": "code",
   "execution_count": 211,
   "metadata": {},
   "outputs": [
    {
     "data": {
      "text/plain": [
       "'China'"
      ]
     },
     "execution_count": 211,
     "metadata": {},
     "output_type": "execute_result"
    }
   ],
   "source": [
    "predict_country('刘雪荣')"
   ]
  },
  {
   "cell_type": "code",
   "execution_count": 212,
   "metadata": {},
   "outputs": [
    {
     "data": {
      "text/plain": [
       "'UK'"
      ]
     },
     "execution_count": 212,
     "metadata": {},
     "output_type": "execute_result"
    }
   ],
   "source": [
    "predict_country('Dave Smith')"
   ]
  },
  {
   "cell_type": "code",
   "execution_count": 213,
   "metadata": {},
   "outputs": [
    {
     "data": {
      "text/plain": [
       "'Brazil'"
      ]
     },
     "execution_count": 213,
     "metadata": {},
     "output_type": "execute_result"
    }
   ],
   "source": [
    "predict_country('ADELSON BARRETO')"
   ]
  },
  {
   "cell_type": "code",
   "execution_count": null,
   "metadata": {},
   "outputs": [],
   "source": []
  }
 ],
 "metadata": {
  "kernelspec": {
   "display_name": "Python [conda env:packt]",
   "language": "python",
   "name": "conda-env-packt-py"
  },
  "language_info": {
   "codemirror_mode": {
    "name": "ipython",
    "version": 3
   },
   "file_extension": ".py",
   "mimetype": "text/x-python",
   "name": "python",
   "nbconvert_exporter": "python",
   "pygments_lexer": "ipython3",
   "version": "3.7.2"
  }
 },
 "nbformat": 4,
 "nbformat_minor": 2
}
