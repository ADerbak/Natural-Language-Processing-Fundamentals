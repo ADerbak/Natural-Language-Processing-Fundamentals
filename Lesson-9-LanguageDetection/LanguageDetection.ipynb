{
 "cells": [
  {
   "cell_type": "markdown",
   "metadata": {},
   "source": [
    "# Language Detection"
   ]
  },
  {
   "cell_type": "code",
   "execution_count": 1,
   "metadata": {},
   "outputs": [],
   "source": [
    "from pathlib import Path\n",
    "import glob\n",
    "import os\n",
    "import pandas as pd"
   ]
  },
  {
   "cell_type": "code",
   "execution_count": 2,
   "metadata": {},
   "outputs": [],
   "source": [
    "NAMES_PATH = Path('data/names')"
   ]
  },
  {
   "cell_type": "code",
   "execution_count": 3,
   "metadata": {},
   "outputs": [
    {
     "name": "stdout",
     "output_type": "stream",
     "text": [
      "data\\names\\Arabic.txt\n",
      "data\\names\\Chinese.txt\n",
      "data\\names\\Czech.txt\n",
      "data\\names\\Dutch.txt\n",
      "data\\names\\English.txt\n",
      "data\\names\\French.txt\n",
      "data\\names\\German.txt\n",
      "data\\names\\Greek.txt\n",
      "data\\names\\Irish.txt\n",
      "data\\names\\Italian.txt\n",
      "data\\names\\Japanese.txt\n",
      "data\\names\\Korean.txt\n",
      "data\\names\\Polish.txt\n",
      "data\\names\\Portuguese.txt\n",
      "data\\names\\Russian.txt\n",
      "data\\names\\Scottish.txt\n",
      "data\\names\\Spanish.txt\n",
      "data\\names\\Vietnamese.txt\n"
     ]
    }
   ],
   "source": [
    "for name_file in NAMES_PATH.glob('*.txt'):\n",
    "    print(name_file)"
   ]
  },
  {
   "cell_type": "code",
   "execution_count": 4,
   "metadata": {},
   "outputs": [],
   "source": [
    "from languageutils import *"
   ]
  },
  {
   "cell_type": "markdown",
   "metadata": {},
   "source": [
    "## Load the Language Names Files"
   ]
  },
  {
   "cell_type": "code",
   "execution_count": 5,
   "metadata": {},
   "outputs": [],
   "source": [
    "name_files = NAMES_PATH.glob('*.txt')\n",
    "\n",
    "language_to_names = { file.name[:-4] : readLines(file) \n",
    "                                        for file in name_files }\n",
    "languages = list(language_to_names.keys())\n",
    "n_languages = len(language_to_names)"
   ]
  },
  {
   "cell_type": "markdown",
   "metadata": {},
   "source": [
    "#### Langage Dictionary"
   ]
  },
  {
   "cell_type": "code",
   "execution_count": 6,
   "metadata": {},
   "outputs": [
    {
     "data": {
      "text/plain": [
       "['Arabic',\n",
       " 'Chinese',\n",
       " 'Czech',\n",
       " 'Dutch',\n",
       " 'English',\n",
       " 'French',\n",
       " 'German',\n",
       " 'Greek',\n",
       " 'Irish',\n",
       " 'Italian',\n",
       " 'Japanese',\n",
       " 'Korean',\n",
       " 'Polish',\n",
       " 'Portuguese',\n",
       " 'Russian',\n",
       " 'Scottish',\n",
       " 'Spanish',\n",
       " 'Vietnamese']"
      ]
     },
     "execution_count": 6,
     "metadata": {},
     "output_type": "execute_result"
    }
   ],
   "source": [
    "languages"
   ]
  },
  {
   "cell_type": "code",
   "execution_count": 7,
   "metadata": {},
   "outputs": [
    {
     "data": {
      "text/plain": [
       "'Acton'"
      ]
     },
     "execution_count": 7,
     "metadata": {},
     "output_type": "execute_result"
    }
   ],
   "source": [
    "language_to_names['English'][10]"
   ]
  },
  {
   "cell_type": "code",
   "execution_count": 8,
   "metadata": {},
   "outputs": [
    {
     "data": {
      "text/html": [
       "<div>\n",
       "<style scoped>\n",
       "    .dataframe tbody tr th:only-of-type {\n",
       "        vertical-align: middle;\n",
       "    }\n",
       "\n",
       "    .dataframe tbody tr th {\n",
       "        vertical-align: top;\n",
       "    }\n",
       "\n",
       "    .dataframe thead th {\n",
       "        text-align: right;\n",
       "    }\n",
       "</style>\n",
       "<table border=\"1\" class=\"dataframe\">\n",
       "  <thead>\n",
       "    <tr style=\"text-align: right;\">\n",
       "      <th></th>\n",
       "      <th>Number of Names</th>\n",
       "      <th>Random Name</th>\n",
       "    </tr>\n",
       "    <tr>\n",
       "      <th>Language</th>\n",
       "      <th></th>\n",
       "      <th></th>\n",
       "    </tr>\n",
       "  </thead>\n",
       "  <tbody>\n",
       "    <tr>\n",
       "      <th>Russian</th>\n",
       "      <td>9408</td>\n",
       "      <td>Dabahov</td>\n",
       "    </tr>\n",
       "    <tr>\n",
       "      <th>English</th>\n",
       "      <td>3668</td>\n",
       "      <td>Elzer</td>\n",
       "    </tr>\n",
       "    <tr>\n",
       "      <th>Arabic</th>\n",
       "      <td>2000</td>\n",
       "      <td>Nader</td>\n",
       "    </tr>\n",
       "    <tr>\n",
       "      <th>Japanese</th>\n",
       "      <td>991</td>\n",
       "      <td>Masudu</td>\n",
       "    </tr>\n",
       "    <tr>\n",
       "      <th>German</th>\n",
       "      <td>724</td>\n",
       "      <td>Schwartz</td>\n",
       "    </tr>\n",
       "    <tr>\n",
       "      <th>Italian</th>\n",
       "      <td>709</td>\n",
       "      <td>Abatantuono</td>\n",
       "    </tr>\n",
       "    <tr>\n",
       "      <th>Czech</th>\n",
       "      <td>519</td>\n",
       "      <td>Pech</td>\n",
       "    </tr>\n",
       "    <tr>\n",
       "      <th>Spanish</th>\n",
       "      <td>298</td>\n",
       "      <td>Alvarado</td>\n",
       "    </tr>\n",
       "    <tr>\n",
       "      <th>Dutch</th>\n",
       "      <td>297</td>\n",
       "      <td>Mulder</td>\n",
       "    </tr>\n",
       "    <tr>\n",
       "      <th>French</th>\n",
       "      <td>277</td>\n",
       "      <td>Bisset</td>\n",
       "    </tr>\n",
       "    <tr>\n",
       "      <th>Chinese</th>\n",
       "      <td>268</td>\n",
       "      <td>Hsiao</td>\n",
       "    </tr>\n",
       "    <tr>\n",
       "      <th>Irish</th>\n",
       "      <td>232</td>\n",
       "      <td>O'Callaghann</td>\n",
       "    </tr>\n",
       "    <tr>\n",
       "      <th>Greek</th>\n",
       "      <td>203</td>\n",
       "      <td>Stroggylis</td>\n",
       "    </tr>\n",
       "    <tr>\n",
       "      <th>Polish</th>\n",
       "      <td>139</td>\n",
       "      <td>Kozlow</td>\n",
       "    </tr>\n",
       "    <tr>\n",
       "      <th>Scottish</th>\n",
       "      <td>100</td>\n",
       "      <td>Wood</td>\n",
       "    </tr>\n",
       "    <tr>\n",
       "      <th>Korean</th>\n",
       "      <td>94</td>\n",
       "      <td>Ngai</td>\n",
       "    </tr>\n",
       "    <tr>\n",
       "      <th>Portuguese</th>\n",
       "      <td>74</td>\n",
       "      <td>Gouveia</td>\n",
       "    </tr>\n",
       "    <tr>\n",
       "      <th>Vietnamese</th>\n",
       "      <td>73</td>\n",
       "      <td>Chu</td>\n",
       "    </tr>\n",
       "  </tbody>\n",
       "</table>\n",
       "</div>"
      ],
      "text/plain": [
       "            Number of Names   Random Name\n",
       "Language                                 \n",
       "Russian                9408       Dabahov\n",
       "English                3668         Elzer\n",
       "Arabic                 2000         Nader\n",
       "Japanese                991        Masudu\n",
       "German                  724      Schwartz\n",
       "Italian                 709   Abatantuono\n",
       "Czech                   519          Pech\n",
       "Spanish                 298      Alvarado\n",
       "Dutch                   297        Mulder\n",
       "French                  277        Bisset\n",
       "Chinese                 268         Hsiao\n",
       "Irish                   232  O'Callaghann\n",
       "Greek                   203    Stroggylis\n",
       "Polish                  139        Kozlow\n",
       "Scottish                100          Wood\n",
       "Korean                   94          Ngai\n",
       "Portuguese               74       Gouveia\n",
       "Vietnamese               73           Chu"
      ]
     },
     "execution_count": 8,
     "metadata": {},
     "output_type": "execute_result"
    }
   ],
   "source": [
    "import random\n",
    "language_summary = pd.DataFrame([{'Language': k, \n",
    "                                  'Number of Names': len(v), \n",
    "                                  'Random Name': random.choice(v)} \n",
    "                                     for k,v in language_to_names.items()]).set_index('Language')\n",
    "language_summary.sort_values(['Number of Names'], ascending=False)"
   ]
  },
  {
   "cell_type": "markdown",
   "metadata": {},
   "source": [
    "### Turning Names into Tensors"
   ]
  },
  {
   "cell_type": "code",
   "execution_count": 9,
   "metadata": {},
   "outputs": [
    {
     "name": "stdout",
     "output_type": "stream",
     "text": [
      "torch.Size([1, 57])\n",
      "torch.Size([5, 1, 57])\n"
     ]
    }
   ],
   "source": [
    "import torch\n",
    "\n",
    "# Find letter index from all_letters, e.g. \"a\" = 0\n",
    "def letter_to_index(letter):\n",
    "    return all_letters.find(letter)\n",
    "\n",
    "# Just for demonstration, turn a letter into a <1 x n_letters> Tensor\n",
    "def letter_to_tensor(letter):\n",
    "    tensor = torch.zeros(1, n_letters)\n",
    "    tensor[0][letter_to_index(letter)] = 1\n",
    "    return tensor\n",
    "\n",
    "# Turn a line into a <line_length x 1 x n_letters>,\n",
    "# or an array of one-hot letter vectors\n",
    "def line_to_tensor(line):\n",
    "    tensor = torch.zeros(len(line), 1, n_letters)\n",
    "    for li, letter in enumerate(line):\n",
    "        tensor[li][0][letter_to_index(letter)] = 1\n",
    "    return tensor\n",
    "\n",
    "print(letter_to_tensor('J').size())\n",
    "\n",
    "print(line_to_tensor('Jones').size())"
   ]
  },
  {
   "cell_type": "markdown",
   "metadata": {},
   "source": [
    "## Creating the Network"
   ]
  },
  {
   "cell_type": "code",
   "execution_count": 10,
   "metadata": {},
   "outputs": [],
   "source": [
    "import torch.nn as nn\n",
    "\n",
    "class RecurrentNeuralNet(nn.Module):\n",
    "    \n",
    "    def __init__(self, input_size, hidden_size, output_size):\n",
    "        super(RecurrentNeuralNet, self).__init__()\n",
    "\n",
    "        self.hidden_size = hidden_size\n",
    "\n",
    "        self.i2h = nn.Linear(input_size + hidden_size, hidden_size)\n",
    "        self.i2o = nn.Linear(input_size + hidden_size, output_size)\n",
    "        self.softmax = nn.LogSoftmax(dim=1)\n",
    "\n",
    "    def forward(self, input, hidden):\n",
    "        combined = torch.cat((input, hidden), 1)\n",
    "        hidden = self.i2h(combined)\n",
    "        output = self.i2o(combined)\n",
    "        output = self.softmax(output)\n",
    "        return output, hidden\n",
    "\n",
    "    def initHidden(self):\n",
    "        return torch.zeros(1, self.hidden_size)\n",
    "\n",
    "n_hidden = 128\n",
    "rnn = RecurrentNeuralNet(n_letters, n_hidden, n_languages)"
   ]
  },
  {
   "cell_type": "code",
   "execution_count": 11,
   "metadata": {},
   "outputs": [
    {
     "data": {
      "text/plain": [
       "RecurrentNeuralNet(\n",
       "  (i2h): Linear(in_features=185, out_features=128, bias=True)\n",
       "  (i2o): Linear(in_features=185, out_features=18, bias=True)\n",
       "  (softmax): LogSoftmax()\n",
       ")"
      ]
     },
     "execution_count": 11,
     "metadata": {},
     "output_type": "execute_result"
    }
   ],
   "source": [
    "rnn"
   ]
  },
  {
   "cell_type": "code",
   "execution_count": 12,
   "metadata": {},
   "outputs": [
    {
     "data": {
      "text/plain": [
       "'57 letters plus 128 features = input size of 185'"
      ]
     },
     "execution_count": 12,
     "metadata": {},
     "output_type": "execute_result"
    }
   ],
   "source": [
    "f'{n_letters} letters plus {n_hidden} features = input size of {n_letters + n_hidden}'"
   ]
  },
  {
   "cell_type": "code",
   "execution_count": 13,
   "metadata": {},
   "outputs": [],
   "source": [
    "input = letter_to_tensor('A')\n",
    "hidden =torch.zeros(1, n_hidden)\n",
    "\n",
    "output, next_hidden = rnn(input, hidden)"
   ]
  },
  {
   "cell_type": "code",
   "execution_count": 14,
   "metadata": {},
   "outputs": [
    {
     "data": {
      "text/plain": [
       "(tensor([[-2.9198, -2.8764, -2.9860, -2.8830, -2.8451, -2.8856, -2.9189, -2.9801,\n",
       "          -2.8894, -2.9044, -2.8245, -2.7949, -2.8031, -2.9143, -2.9370, -2.9129,\n",
       "          -2.7949, -2.9886]], grad_fn=<LogSoftmaxBackward>),\n",
       " tensor([[ 0.0406,  0.0906, -0.0462, -0.0013, -0.0273,  0.0710, -0.0088, -0.0196,\n",
       "          -0.0772, -0.0617,  0.0196,  0.0508,  0.0149, -0.0758,  0.0093, -0.0840,\n",
       "           0.0689,  0.0105,  0.0180,  0.0522, -0.0119, -0.0009, -0.0590,  0.0672,\n",
       "           0.1149,  0.1396, -0.0223, -0.0362, -0.0084,  0.0347,  0.0118, -0.0472,\n",
       "           0.0043,  0.0708, -0.0834, -0.0164, -0.0805, -0.0096,  0.0162,  0.0130,\n",
       "           0.1018, -0.0098,  0.0184,  0.0294,  0.0053, -0.0139,  0.0429, -0.0744,\n",
       "          -0.0485, -0.0614, -0.0170,  0.1035,  0.0992, -0.0426,  0.1221, -0.0229,\n",
       "          -0.0344, -0.1202, -0.0249,  0.0468, -0.0129, -0.0424,  0.0088, -0.0446,\n",
       "          -0.0745,  0.0810,  0.0234, -0.0127, -0.0675, -0.0420,  0.1141, -0.0880,\n",
       "          -0.0274,  0.0291, -0.0116, -0.1385, -0.0081, -0.0068,  0.0133,  0.0004,\n",
       "           0.0569,  0.0014, -0.0457,  0.1269,  0.0179,  0.0530, -0.0211,  0.0042,\n",
       "          -0.0427,  0.0752,  0.0130,  0.0155,  0.1133, -0.0080, -0.0722, -0.0063,\n",
       "          -0.0598, -0.0515, -0.0104,  0.0386,  0.0141,  0.0028,  0.0948, -0.0228,\n",
       "          -0.0922,  0.0202,  0.0501,  0.0026,  0.0938, -0.0220,  0.0205, -0.0391,\n",
       "           0.0598, -0.0366,  0.0111, -0.0308, -0.0281, -0.0723, -0.0797, -0.0676,\n",
       "          -0.0376,  0.0147, -0.0388,  0.0791, -0.1012, -0.0191,  0.0654, -0.0498]],\n",
       "        grad_fn=<AddmmBackward>))"
      ]
     },
     "execution_count": 14,
     "metadata": {},
     "output_type": "execute_result"
    }
   ],
   "source": [
    "output, next_hidden"
   ]
  },
  {
   "cell_type": "code",
   "execution_count": 15,
   "metadata": {},
   "outputs": [
    {
     "data": {
      "text/plain": [
       "(tensor([[-2.9198, -2.8764, -2.9860, -2.8830, -2.8451, -2.8856, -2.9189, -2.9801,\n",
       "          -2.8894, -2.9044, -2.8245, -2.7949, -2.8031, -2.9143, -2.9370, -2.9129,\n",
       "          -2.7949, -2.9886]], grad_fn=<LogSoftmaxBackward>),\n",
       " tensor([[ 0.0406,  0.0906, -0.0462, -0.0013, -0.0273,  0.0710, -0.0088, -0.0196,\n",
       "          -0.0772, -0.0617,  0.0196,  0.0508,  0.0149, -0.0758,  0.0093, -0.0840,\n",
       "           0.0689,  0.0105,  0.0180,  0.0522, -0.0119, -0.0009, -0.0590,  0.0672,\n",
       "           0.1149,  0.1396, -0.0223, -0.0362, -0.0084,  0.0347,  0.0118, -0.0472,\n",
       "           0.0043,  0.0708, -0.0834, -0.0164, -0.0805, -0.0096,  0.0162,  0.0130,\n",
       "           0.1018, -0.0098,  0.0184,  0.0294,  0.0053, -0.0139,  0.0429, -0.0744,\n",
       "          -0.0485, -0.0614, -0.0170,  0.1035,  0.0992, -0.0426,  0.1221, -0.0229,\n",
       "          -0.0344, -0.1202, -0.0249,  0.0468, -0.0129, -0.0424,  0.0088, -0.0446,\n",
       "          -0.0745,  0.0810,  0.0234, -0.0127, -0.0675, -0.0420,  0.1141, -0.0880,\n",
       "          -0.0274,  0.0291, -0.0116, -0.1385, -0.0081, -0.0068,  0.0133,  0.0004,\n",
       "           0.0569,  0.0014, -0.0457,  0.1269,  0.0179,  0.0530, -0.0211,  0.0042,\n",
       "          -0.0427,  0.0752,  0.0130,  0.0155,  0.1133, -0.0080, -0.0722, -0.0063,\n",
       "          -0.0598, -0.0515, -0.0104,  0.0386,  0.0141,  0.0028,  0.0948, -0.0228,\n",
       "          -0.0922,  0.0202,  0.0501,  0.0026,  0.0938, -0.0220,  0.0205, -0.0391,\n",
       "           0.0598, -0.0366,  0.0111, -0.0308, -0.0281, -0.0723, -0.0797, -0.0676,\n",
       "          -0.0376,  0.0147, -0.0388,  0.0791, -0.1012, -0.0191,  0.0654, -0.0498]],\n",
       "        grad_fn=<AddmmBackward>))"
      ]
     },
     "execution_count": 15,
     "metadata": {},
     "output_type": "execute_result"
    }
   ],
   "source": [
    "input = line_to_tensor('Albert')\n",
    "hidden = torch.zeros(1, n_hidden)\n",
    "\n",
    "output, next_hidden = rnn(input[0], hidden)\n",
    "output, next_hidden"
   ]
  },
  {
   "cell_type": "code",
   "execution_count": 16,
   "metadata": {},
   "outputs": [
    {
     "data": {
      "text/plain": [
       "torch.Size([1, 18])"
      ]
     },
     "execution_count": 16,
     "metadata": {},
     "output_type": "execute_result"
    }
   ],
   "source": [
    "output.shape"
   ]
  },
  {
   "cell_type": "code",
   "execution_count": 17,
   "metadata": {},
   "outputs": [
    {
     "data": {
      "text/plain": [
       "torch.Size([1, 128])"
      ]
     },
     "execution_count": 17,
     "metadata": {},
     "output_type": "execute_result"
    }
   ],
   "source": [
    "hidden.shape"
   ]
  },
  {
   "cell_type": "markdown",
   "metadata": {},
   "source": [
    "## Training"
   ]
  },
  {
   "cell_type": "code",
   "execution_count": 18,
   "metadata": {},
   "outputs": [
    {
     "name": "stdout",
     "output_type": "stream",
     "text": [
      "('Spanish', 16)\n"
     ]
    }
   ],
   "source": [
    "def get_language(output):\n",
    "    top_n, top_i = output.topk(1)\n",
    "    language_i = top_i[0].item()\n",
    "    return languages[language_i], language_i\n",
    "\n",
    "print(get_language(output))"
   ]
  },
  {
   "cell_type": "code",
   "execution_count": 19,
   "metadata": {},
   "outputs": [
    {
     "name": "stdout",
     "output_type": "stream",
     "text": [
      "category = English / line = Reading\n",
      "category = Czech / line = Meszes\n",
      "category = Chinese / line = Siu\n",
      "category = French / line = Pape\n",
      "category = Chinese / line = Wang\n",
      "category = Italian / line = Zunino\n",
      "category = Japanese / line = Otomo\n",
      "category = Spanish / line = Asis\n",
      "category = Russian / line = Galstyan\n",
      "category = Portuguese / line = Maria\n"
     ]
    }
   ],
   "source": [
    "import random\n",
    "\n",
    "def choice_from(lst):\n",
    "    return lst[random.randint(0, len(lst) - 1)]\n",
    "\n",
    "def training_example():\n",
    "    language = choice_from(languages)\n",
    "    line = choice_from(language_to_names[language])\n",
    "    language_index = languages.index(language)\n",
    "    language_tensor = torch.tensor([language_index], dtype=torch.long)\n",
    "    line_tensor = line_to_tensor(line)\n",
    "    return language, line, language_tensor, line_tensor\n",
    "\n",
    "for i in range(10):\n",
    "    category, line, _, _ = training_example()\n",
    "    print('category =', category, '/ line =', line,)"
   ]
  },
  {
   "cell_type": "markdown",
   "metadata": {},
   "source": [
    "### Loss Functions"
   ]
  },
  {
   "cell_type": "code",
   "execution_count": 20,
   "metadata": {},
   "outputs": [],
   "source": [
    "loss_function = nn.NLLLoss()"
   ]
  },
  {
   "cell_type": "code",
   "execution_count": 21,
   "metadata": {},
   "outputs": [],
   "source": [
    "learning_rate = 0.005 \n",
    "\n",
    "def train(category_vector, line_vector):\n",
    "    hidden = rnn.initHidden()\n",
    "\n",
    "    rnn.zero_grad()\n",
    "\n",
    "    for i in range(line_vector.size()[0]):\n",
    "        output, hidden = rnn(line_vector[i], hidden)\n",
    "\n",
    "    loss = loss_function(output, category_vector)\n",
    "    loss.backward()\n",
    "\n",
    "    for p in rnn.parameters():\n",
    "        p.data.add_(-learning_rate, p.grad.data)\n",
    "\n",
    "    return output, loss.item()"
   ]
  },
  {
   "cell_type": "code",
   "execution_count": 22,
   "metadata": {},
   "outputs": [
    {
     "name": "stdout",
     "output_type": "stream",
     "text": [
      "5000 8% (0m 25s) 2.6640 Yun / Chinese ✗ (Korean)\n",
      "10000 16% (0m 52s) 1.5585 Doan / Chinese ✗ (Vietnamese)\n",
      "15000 25% (1m 18s) 2.2632 Auberton / Scottish ✗ (English)\n",
      "20000 33% (1m 49s) 2.1745 Ton / Korean ✗ (Vietnamese)\n",
      "25000 41% (2m 39s) 2.4187 Breda / Spanish ✗ (Italian)\n",
      "30000 50% (3m 28s) 0.4854 Thuy / Vietnamese ✓\n",
      "35000 58% (4m 40s) 1.7235 Hanania / Czech ✗ (Arabic)\n",
      "40000 66% (5m 33s) 0.5937 Meeuweszen / Dutch ✓\n",
      "45000 75% (6m 18s) 1.1977 Sepulveda / Spanish ✓\n",
      "50000 83% (6m 28s) 4.2492 Jagoda / Japanese ✗ (Polish)\n",
      "55000 91% (6m 38s) 1.5862 Krol / Scottish ✗ (Polish)\n",
      "60000 100% (6m 48s) 0.3391 Mclaughlin / Scottish ✓\n"
     ]
    }
   ],
   "source": [
    "import time\n",
    "import math\n",
    "\n",
    "n_iters = 60000\n",
    "print_every = 5000\n",
    "plot_every = 1000\n",
    "\n",
    "\n",
    "# Keep track of losses for plotting\n",
    "current_loss = 0\n",
    "all_losses = []\n",
    "\n",
    "def time_elapsed(since):\n",
    "    s = time.time() - since\n",
    "    m = math.floor(s / 60)\n",
    "    s -= m * 60\n",
    "    return '%dm %ds' % (m, s)\n",
    "\n",
    "start = time.time()\n",
    "\n",
    "for iter in range(1, n_iters + 1):\n",
    "    category, line, category_vector, line_vector = training_example()\n",
    "    output, loss = train(category_vector, line_vector)\n",
    "    current_loss += loss\n",
    "\n",
    "    # Print iter number, loss, name and guess\n",
    "    if iter % print_every == 0:\n",
    "        guess, guess_i = get_language(output)\n",
    "        correct = '✓' if guess == category else '✗ (%s)' % category\n",
    "        print('%d %d%% (%s) %.4f %s / %s %s' % (iter, iter / n_iters * 100, time_elapsed(start), loss, line, guess, correct))\n",
    "\n",
    "    # Add current loss avg to list of losses\n",
    "    if iter % plot_every == 0:\n",
    "        all_losses.append(current_loss / plot_every)\n",
    "        current_loss = 0"
   ]
  },
  {
   "cell_type": "code",
   "execution_count": 23,
   "metadata": {},
   "outputs": [
    {
     "data": {
      "text/plain": [
       "[<matplotlib.lines.Line2D at 0x215158dd080>]"
      ]
     },
     "execution_count": 23,
     "metadata": {},
     "output_type": "execute_result"
    },
    {
     "data": {
      "image/png": "[encoded data removed]",
      "text/plain": [
       "<Figure size 432x288 with 1 Axes>"
      ]
     },
     "metadata": {
      "needs_background": "light"
     },
     "output_type": "display_data"
    }
   ],
   "source": [
    "import matplotlib.pyplot as plt\n",
    "import matplotlib.ticker as ticker\n",
    "\n",
    "%matplotlib inline\n",
    "\n",
    "plt.figure()\n",
    "plt.plot(all_losses)\n"
   ]
  },
  {
   "cell_type": "code",
   "execution_count": 24,
   "metadata": {},
   "outputs": [
    {
     "data": {
      "text/plain": [
       "RecurrentNeuralNet(\n",
       "  (i2h): Linear(in_features=185, out_features=128, bias=True)\n",
       "  (i2o): Linear(in_features=185, out_features=18, bias=True)\n",
       "  (softmax): LogSoftmax()\n",
       ")"
      ]
     },
     "execution_count": 24,
     "metadata": {},
     "output_type": "execute_result"
    }
   ],
   "source": [
    "rnn"
   ]
  },
  {
   "cell_type": "markdown",
   "metadata": {},
   "source": [
    "## Evaluating the Results"
   ]
  },
  {
   "cell_type": "code",
   "execution_count": 25,
   "metadata": {},
   "outputs": [
    {
     "data": {
      "image/png": "[encoded data removed]",
      "text/plain": [
       "<Figure size 576x576 with 2 Axes>"
      ]
     },
     "metadata": {
      "needs_background": "light"
     },
     "output_type": "display_data"
    }
   ],
   "source": [
    "#Keep track of correct guesses in a confusion matrix\n",
    "confusion_vector = torch.zeros(n_languages, n_languages)\n",
    "n_confusion = 10000\n",
    "\n",
    "# Just return an output given a line\n",
    "def get_output(line_vector):\n",
    "    hidden = rnn.initHidden()\n",
    "\n",
    "    for i in range(line_vector.size()[0]):\n",
    "        output, hidden = rnn(line_vector[i], hidden)\n",
    "\n",
    "    return output\n",
    "\n",
    "# Go through a bunch of examples and record which are correctly guessed\n",
    "for i in range(n_confusion):\n",
    "    category, line, category_vector, line_vector = training_example()\n",
    "    output = get_output(line_vector)\n",
    "    guess, guess_i = get_language(output)\n",
    "    category_i = languages.index(category)\n",
    "    confusion_vector[category_i][guess_i] += 1\n",
    "\n",
    "# Normalize by dividing every row by its sum\n",
    "for i in range(n_languages):\n",
    "    confusion_vector[i] = confusion_vector[i] / confusion_vector[i].sum()\n",
    "\n",
    "# Set up plot\n",
    "fig = plt.figure(figsize=(8,8))\n",
    "ax = fig.add_subplot(111)\n",
    "cax = ax.matshow(confusion_vector.numpy())\n",
    "fig.colorbar(cax)\n",
    "\n",
    "# Set up axes\n",
    "ax.set_xticklabels([''] + languages, rotation=90)\n",
    "ax.set_yticklabels([''] + languages)\n",
    "\n",
    "# Force label at every tick\n",
    "ax.xaxis.set_major_locator(ticker.MultipleLocator(1))\n",
    "ax.yaxis.set_major_locator(ticker.MultipleLocator(1))\n",
    "\n",
    "# sphinx_gallery_thumbnail_number = 2\n",
    "plt.show()"
   ]
  },
  {
   "cell_type": "markdown",
   "metadata": {},
   "source": [
    "## Saving and reloading models"
   ]
  },
  {
   "cell_type": "code",
   "execution_count": 26,
   "metadata": {},
   "outputs": [],
   "source": [
    "model_path = 'models/NameLanguageModel.rnn'\n",
    "torch.save(rnn.state_dict(), model_path)"
   ]
  },
  {
   "cell_type": "code",
   "execution_count": 27,
   "metadata": {},
   "outputs": [],
   "source": [
    "rnn.load_state_dict(torch.load(model_path))"
   ]
  },
  {
   "cell_type": "code",
   "execution_count": 28,
   "metadata": {},
   "outputs": [],
   "source": [
    "def predict_name_language(name):\n",
    "    name_tensor = line_to_tensor(name)\n",
    "    output = get_output(name_tensor)\n",
    "    guess, guess_i = get_language(output)\n",
    "    return guess"
   ]
  },
  {
   "cell_type": "code",
   "execution_count": 29,
   "metadata": {},
   "outputs": [
    {
     "data": {
      "text/plain": [
       "'English'"
      ]
     },
     "execution_count": 29,
     "metadata": {},
     "output_type": "execute_result"
    }
   ],
   "source": [
    "predict_name_language('Allen')"
   ]
  },
  {
   "cell_type": "code",
   "execution_count": 30,
   "metadata": {},
   "outputs": [],
   "source": [
    "customer_data = pd.read_csv('data/CustomerData.csv')"
   ]
  },
  {
   "cell_type": "code",
   "execution_count": 31,
   "metadata": {},
   "outputs": [
    {
     "data": {
      "text/html": [
       "<div>\n",
       "<style scoped>\n",
       "    .dataframe tbody tr th:only-of-type {\n",
       "        vertical-align: middle;\n",
       "    }\n",
       "\n",
       "    .dataframe tbody tr th {\n",
       "        vertical-align: top;\n",
       "    }\n",
       "\n",
       "    .dataframe thead th {\n",
       "        text-align: right;\n",
       "    }\n",
       "</style>\n",
       "<table border=\"1\" class=\"dataframe\">\n",
       "  <thead>\n",
       "    <tr style=\"text-align: right;\">\n",
       "      <th></th>\n",
       "      <th>Person</th>\n",
       "      <th>City</th>\n",
       "      <th>Agency</th>\n",
       "    </tr>\n",
       "  </thead>\n",
       "  <tbody>\n",
       "    <tr>\n",
       "      <th>0</th>\n",
       "      <td>Panousis</td>\n",
       "      <td>Ortizmouth</td>\n",
       "      <td>Cambridge Travel</td>\n",
       "    </tr>\n",
       "    <tr>\n",
       "      <th>1</th>\n",
       "      <td>Zhang</td>\n",
       "      <td>Isabelview</td>\n",
       "      <td>Cambridge Travel</td>\n",
       "    </tr>\n",
       "    <tr>\n",
       "      <th>2</th>\n",
       "      <td>Li</td>\n",
       "      <td>Daniellechester</td>\n",
       "      <td>Pegasus Vacations</td>\n",
       "    </tr>\n",
       "    <tr>\n",
       "      <th>3</th>\n",
       "      <td>Moreau</td>\n",
       "      <td>Daniellechester</td>\n",
       "      <td>Cambridge Travel</td>\n",
       "    </tr>\n",
       "    <tr>\n",
       "      <th>4</th>\n",
       "      <td>Jansen</td>\n",
       "      <td>Ortizmouth</td>\n",
       "      <td>Cambridge Travel</td>\n",
       "    </tr>\n",
       "    <tr>\n",
       "      <th>5</th>\n",
       "      <td>Novak</td>\n",
       "      <td>Isabelview</td>\n",
       "      <td>Magellan Stays</td>\n",
       "    </tr>\n",
       "    <tr>\n",
       "      <th>6</th>\n",
       "      <td>Van Dijk</td>\n",
       "      <td>South Cynthia</td>\n",
       "      <td>Magellan Stays</td>\n",
       "    </tr>\n",
       "    <tr>\n",
       "      <th>7</th>\n",
       "      <td>McCarthy</td>\n",
       "      <td>Andreaside</td>\n",
       "      <td>Pegasus Vacations</td>\n",
       "    </tr>\n",
       "    <tr>\n",
       "      <th>8</th>\n",
       "      <td>Fearghal</td>\n",
       "      <td>Erinfurt</td>\n",
       "      <td>Cambridge Travel</td>\n",
       "    </tr>\n",
       "    <tr>\n",
       "      <th>9</th>\n",
       "      <td>Williams</td>\n",
       "      <td>New Stephenborough</td>\n",
       "      <td>Cambridge Travel</td>\n",
       "    </tr>\n",
       "    <tr>\n",
       "      <th>10</th>\n",
       "      <td>Jones</td>\n",
       "      <td>Isabelview</td>\n",
       "      <td>Magellan Stays</td>\n",
       "    </tr>\n",
       "    <tr>\n",
       "      <th>11</th>\n",
       "      <td>Wagner</td>\n",
       "      <td>Daniellechester</td>\n",
       "      <td>Pegasus Vacations</td>\n",
       "    </tr>\n",
       "    <tr>\n",
       "      <th>12</th>\n",
       "      <td>Almeida</td>\n",
       "      <td>Erinfurt</td>\n",
       "      <td>Cambridge Travel</td>\n",
       "    </tr>\n",
       "    <tr>\n",
       "      <th>13</th>\n",
       "      <td>Ferreira</td>\n",
       "      <td>Lake Debra</td>\n",
       "      <td>Cambridge Travel</td>\n",
       "    </tr>\n",
       "    <tr>\n",
       "      <th>14</th>\n",
       "      <td>Kelly</td>\n",
       "      <td>Andreaside</td>\n",
       "      <td>Cambridge Travel</td>\n",
       "    </tr>\n",
       "    <tr>\n",
       "      <th>15</th>\n",
       "      <td>Pokorny</td>\n",
       "      <td>Isabelview</td>\n",
       "      <td>Magellan Stays</td>\n",
       "    </tr>\n",
       "    <tr>\n",
       "      <th>16</th>\n",
       "      <td>Popov</td>\n",
       "      <td>Lake Debra</td>\n",
       "      <td>Pegasus Vacations</td>\n",
       "    </tr>\n",
       "    <tr>\n",
       "      <th>17</th>\n",
       "      <td>Alves</td>\n",
       "      <td>Erinfurt</td>\n",
       "      <td>Pegasus Vacations</td>\n",
       "    </tr>\n",
       "    <tr>\n",
       "      <th>18</th>\n",
       "      <td>Van de Berg</td>\n",
       "      <td>Isabelview</td>\n",
       "      <td>Pegasus Vacations</td>\n",
       "    </tr>\n",
       "    <tr>\n",
       "      <th>19</th>\n",
       "      <td>Silva</td>\n",
       "      <td>Ortizmouth</td>\n",
       "      <td>Cambridge Travel</td>\n",
       "    </tr>\n",
       "  </tbody>\n",
       "</table>\n",
       "</div>"
      ],
      "text/plain": [
       "         Person                City             Agency\n",
       "0      Panousis          Ortizmouth   Cambridge Travel\n",
       "1         Zhang          Isabelview   Cambridge Travel\n",
       "2            Li     Daniellechester  Pegasus Vacations\n",
       "3       Moreau      Daniellechester   Cambridge Travel\n",
       "4        Jansen          Ortizmouth   Cambridge Travel\n",
       "5         Novak          Isabelview     Magellan Stays\n",
       "6      Van Dijk       South Cynthia     Magellan Stays\n",
       "7      McCarthy          Andreaside  Pegasus Vacations\n",
       "8      Fearghal            Erinfurt   Cambridge Travel\n",
       "9      Williams  New Stephenborough   Cambridge Travel\n",
       "10        Jones          Isabelview     Magellan Stays\n",
       "11       Wagner     Daniellechester  Pegasus Vacations\n",
       "12      Almeida            Erinfurt   Cambridge Travel\n",
       "13     Ferreira          Lake Debra   Cambridge Travel\n",
       "14        Kelly          Andreaside   Cambridge Travel\n",
       "15      Pokorny          Isabelview     Magellan Stays\n",
       "16        Popov          Lake Debra  Pegasus Vacations\n",
       "17        Alves            Erinfurt  Pegasus Vacations\n",
       "18  Van de Berg          Isabelview  Pegasus Vacations\n",
       "19        Silva          Ortizmouth   Cambridge Travel"
      ]
     },
     "execution_count": 31,
     "metadata": {},
     "output_type": "execute_result"
    }
   ],
   "source": [
    "customer_data.head(20)"
   ]
  },
  {
   "cell_type": "code",
   "execution_count": 32,
   "metadata": {},
   "outputs": [],
   "source": [
    "lang = customer_data.Person.apply(predict_name_language)\n",
    "customer_data['Language'] = lang"
   ]
  },
  {
   "cell_type": "code",
   "execution_count": 33,
   "metadata": {},
   "outputs": [
    {
     "data": {
      "text/html": [
       "<div>\n",
       "<style scoped>\n",
       "    .dataframe tbody tr th:only-of-type {\n",
       "        vertical-align: middle;\n",
       "    }\n",
       "\n",
       "    .dataframe tbody tr th {\n",
       "        vertical-align: top;\n",
       "    }\n",
       "\n",
       "    .dataframe thead th {\n",
       "        text-align: right;\n",
       "    }\n",
       "</style>\n",
       "<table border=\"1\" class=\"dataframe\">\n",
       "  <thead>\n",
       "    <tr style=\"text-align: right;\">\n",
       "      <th></th>\n",
       "      <th>Person</th>\n",
       "      <th>City</th>\n",
       "      <th>Agency</th>\n",
       "      <th>Language</th>\n",
       "    </tr>\n",
       "  </thead>\n",
       "  <tbody>\n",
       "    <tr>\n",
       "      <th>0</th>\n",
       "      <td>Panousis</td>\n",
       "      <td>Ortizmouth</td>\n",
       "      <td>Cambridge Travel</td>\n",
       "      <td>Greek</td>\n",
       "    </tr>\n",
       "    <tr>\n",
       "      <th>1</th>\n",
       "      <td>Zhang</td>\n",
       "      <td>Isabelview</td>\n",
       "      <td>Cambridge Travel</td>\n",
       "      <td>Chinese</td>\n",
       "    </tr>\n",
       "    <tr>\n",
       "      <th>2</th>\n",
       "      <td>Li</td>\n",
       "      <td>Daniellechester</td>\n",
       "      <td>Pegasus Vacations</td>\n",
       "      <td>Vietnamese</td>\n",
       "    </tr>\n",
       "    <tr>\n",
       "      <th>3</th>\n",
       "      <td>Moreau</td>\n",
       "      <td>Daniellechester</td>\n",
       "      <td>Cambridge Travel</td>\n",
       "      <td>Irish</td>\n",
       "    </tr>\n",
       "    <tr>\n",
       "      <th>4</th>\n",
       "      <td>Jansen</td>\n",
       "      <td>Ortizmouth</td>\n",
       "      <td>Cambridge Travel</td>\n",
       "      <td>Dutch</td>\n",
       "    </tr>\n",
       "    <tr>\n",
       "      <th>5</th>\n",
       "      <td>Novak</td>\n",
       "      <td>Isabelview</td>\n",
       "      <td>Magellan Stays</td>\n",
       "      <td>Czech</td>\n",
       "    </tr>\n",
       "    <tr>\n",
       "      <th>6</th>\n",
       "      <td>Van Dijk</td>\n",
       "      <td>South Cynthia</td>\n",
       "      <td>Magellan Stays</td>\n",
       "      <td>Czech</td>\n",
       "    </tr>\n",
       "    <tr>\n",
       "      <th>7</th>\n",
       "      <td>McCarthy</td>\n",
       "      <td>Andreaside</td>\n",
       "      <td>Pegasus Vacations</td>\n",
       "      <td>Scottish</td>\n",
       "    </tr>\n",
       "    <tr>\n",
       "      <th>8</th>\n",
       "      <td>Fearghal</td>\n",
       "      <td>Erinfurt</td>\n",
       "      <td>Cambridge Travel</td>\n",
       "      <td>Irish</td>\n",
       "    </tr>\n",
       "    <tr>\n",
       "      <th>9</th>\n",
       "      <td>Williams</td>\n",
       "      <td>New Stephenborough</td>\n",
       "      <td>Cambridge Travel</td>\n",
       "      <td>Dutch</td>\n",
       "    </tr>\n",
       "    <tr>\n",
       "      <th>10</th>\n",
       "      <td>Jones</td>\n",
       "      <td>Isabelview</td>\n",
       "      <td>Magellan Stays</td>\n",
       "      <td>Dutch</td>\n",
       "    </tr>\n",
       "    <tr>\n",
       "      <th>11</th>\n",
       "      <td>Wagner</td>\n",
       "      <td>Daniellechester</td>\n",
       "      <td>Pegasus Vacations</td>\n",
       "      <td>German</td>\n",
       "    </tr>\n",
       "    <tr>\n",
       "      <th>12</th>\n",
       "      <td>Almeida</td>\n",
       "      <td>Erinfurt</td>\n",
       "      <td>Cambridge Travel</td>\n",
       "      <td>Portuguese</td>\n",
       "    </tr>\n",
       "    <tr>\n",
       "      <th>13</th>\n",
       "      <td>Ferreira</td>\n",
       "      <td>Lake Debra</td>\n",
       "      <td>Cambridge Travel</td>\n",
       "      <td>Portuguese</td>\n",
       "    </tr>\n",
       "    <tr>\n",
       "      <th>14</th>\n",
       "      <td>Kelly</td>\n",
       "      <td>Andreaside</td>\n",
       "      <td>Cambridge Travel</td>\n",
       "      <td>Scottish</td>\n",
       "    </tr>\n",
       "    <tr>\n",
       "      <th>15</th>\n",
       "      <td>Pokorny</td>\n",
       "      <td>Isabelview</td>\n",
       "      <td>Magellan Stays</td>\n",
       "      <td>Dutch</td>\n",
       "    </tr>\n",
       "    <tr>\n",
       "      <th>16</th>\n",
       "      <td>Popov</td>\n",
       "      <td>Lake Debra</td>\n",
       "      <td>Pegasus Vacations</td>\n",
       "      <td>Russian</td>\n",
       "    </tr>\n",
       "    <tr>\n",
       "      <th>17</th>\n",
       "      <td>Alves</td>\n",
       "      <td>Erinfurt</td>\n",
       "      <td>Pegasus Vacations</td>\n",
       "      <td>Portuguese</td>\n",
       "    </tr>\n",
       "    <tr>\n",
       "      <th>18</th>\n",
       "      <td>Van de Berg</td>\n",
       "      <td>Isabelview</td>\n",
       "      <td>Pegasus Vacations</td>\n",
       "      <td>Dutch</td>\n",
       "    </tr>\n",
       "    <tr>\n",
       "      <th>19</th>\n",
       "      <td>Silva</td>\n",
       "      <td>Ortizmouth</td>\n",
       "      <td>Cambridge Travel</td>\n",
       "      <td>Czech</td>\n",
       "    </tr>\n",
       "    <tr>\n",
       "      <th>20</th>\n",
       "      <td>Fernandes</td>\n",
       "      <td>Maryborough</td>\n",
       "      <td>Magellan Stays</td>\n",
       "      <td>Dutch</td>\n",
       "    </tr>\n",
       "    <tr>\n",
       "      <th>21</th>\n",
       "      <td>Mikhailov</td>\n",
       "      <td>South Cynthia</td>\n",
       "      <td>Pegasus Vacations</td>\n",
       "      <td>Russian</td>\n",
       "    </tr>\n",
       "    <tr>\n",
       "      <th>22</th>\n",
       "      <td>OBrien</td>\n",
       "      <td>New Stephenborough</td>\n",
       "      <td>Cambridge Travel</td>\n",
       "      <td>Irish</td>\n",
       "    </tr>\n",
       "    <tr>\n",
       "      <th>23</th>\n",
       "      <td>Johnson</td>\n",
       "      <td>New Stephenborough</td>\n",
       "      <td>Pegasus Vacations</td>\n",
       "      <td>Scottish</td>\n",
       "    </tr>\n",
       "    <tr>\n",
       "      <th>24</th>\n",
       "      <td>De Vries</td>\n",
       "      <td>New Stephenborough</td>\n",
       "      <td>Pegasus Vacations</td>\n",
       "      <td>Dutch</td>\n",
       "    </tr>\n",
       "    <tr>\n",
       "      <th>25</th>\n",
       "      <td>Sokolov</td>\n",
       "      <td>Lake Debra</td>\n",
       "      <td>Pegasus Vacations</td>\n",
       "      <td>Russian</td>\n",
       "    </tr>\n",
       "    <tr>\n",
       "      <th>26</th>\n",
       "      <td>Fedorov</td>\n",
       "      <td>Isabelview</td>\n",
       "      <td>Magellan Stays</td>\n",
       "      <td>Russian</td>\n",
       "    </tr>\n",
       "    <tr>\n",
       "      <th>27</th>\n",
       "      <td>Dao</td>\n",
       "      <td>Isabelview</td>\n",
       "      <td>Cambridge Travel</td>\n",
       "      <td>Vietnamese</td>\n",
       "    </tr>\n",
       "    <tr>\n",
       "      <th>28</th>\n",
       "      <td>Nolan</td>\n",
       "      <td>Daniellechester</td>\n",
       "      <td>Cambridge Travel</td>\n",
       "      <td>Irish</td>\n",
       "    </tr>\n",
       "    <tr>\n",
       "      <th>29</th>\n",
       "      <td>Nguyen</td>\n",
       "      <td>New Stephenborough</td>\n",
       "      <td>Pegasus Vacations</td>\n",
       "      <td>Irish</td>\n",
       "    </tr>\n",
       "    <tr>\n",
       "      <th>...</th>\n",
       "      <td>...</td>\n",
       "      <td>...</td>\n",
       "      <td>...</td>\n",
       "      <td>...</td>\n",
       "    </tr>\n",
       "    <tr>\n",
       "      <th>70</th>\n",
       "      <td>Kuznetsov</td>\n",
       "      <td>Lake Debra</td>\n",
       "      <td>Pegasus Vacations</td>\n",
       "      <td>Russian</td>\n",
       "    </tr>\n",
       "    <tr>\n",
       "      <th>71</th>\n",
       "      <td>Volkov</td>\n",
       "      <td>New Stephenborough</td>\n",
       "      <td>Pegasus Vacations</td>\n",
       "      <td>Russian</td>\n",
       "    </tr>\n",
       "    <tr>\n",
       "      <th>72</th>\n",
       "      <td>Kratochvil</td>\n",
       "      <td>Isabelview</td>\n",
       "      <td>Cambridge Travel</td>\n",
       "      <td>Russian</td>\n",
       "    </tr>\n",
       "    <tr>\n",
       "      <th>73</th>\n",
       "      <td>Santos</td>\n",
       "      <td>Ortizmouth</td>\n",
       "      <td>Pegasus Vacations</td>\n",
       "      <td>Greek</td>\n",
       "    </tr>\n",
       "    <tr>\n",
       "      <th>74</th>\n",
       "      <td>Rodrigues</td>\n",
       "      <td>Flemington</td>\n",
       "      <td>Cambridge Travel</td>\n",
       "      <td>Portuguese</td>\n",
       "    </tr>\n",
       "    <tr>\n",
       "      <th>75</th>\n",
       "      <td>De Jong</td>\n",
       "      <td>Maryborough</td>\n",
       "      <td>Magellan Stays</td>\n",
       "      <td>Korean</td>\n",
       "    </tr>\n",
       "    <tr>\n",
       "      <th>76</th>\n",
       "      <td>Schmidl</td>\n",
       "      <td>Maryborough</td>\n",
       "      <td>Magellan Stays</td>\n",
       "      <td>Irish</td>\n",
       "    </tr>\n",
       "    <tr>\n",
       "      <th>77</th>\n",
       "      <td>Do</td>\n",
       "      <td>South Cynthia</td>\n",
       "      <td>Cambridge Travel</td>\n",
       "      <td>Vietnamese</td>\n",
       "    </tr>\n",
       "    <tr>\n",
       "      <th>78</th>\n",
       "      <td>Cerny</td>\n",
       "      <td>South Cynthia</td>\n",
       "      <td>Magellan Stays</td>\n",
       "      <td>Italian</td>\n",
       "    </tr>\n",
       "    <tr>\n",
       "      <th>79</th>\n",
       "      <td>Müller</td>\n",
       "      <td>Ortizmouth</td>\n",
       "      <td>Magellan Stays</td>\n",
       "      <td>Scottish</td>\n",
       "    </tr>\n",
       "    <tr>\n",
       "      <th>80</th>\n",
       "      <td>Huang</td>\n",
       "      <td>South Cynthia</td>\n",
       "      <td>Magellan Stays</td>\n",
       "      <td>Vietnamese</td>\n",
       "    </tr>\n",
       "    <tr>\n",
       "      <th>81</th>\n",
       "      <td>Zhou</td>\n",
       "      <td>Lake Debra</td>\n",
       "      <td>Pegasus Vacations</td>\n",
       "      <td>Korean</td>\n",
       "    </tr>\n",
       "    <tr>\n",
       "      <th>82</th>\n",
       "      <td>Austin</td>\n",
       "      <td>Maryborough</td>\n",
       "      <td>Pegasus Vacations</td>\n",
       "      <td>English</td>\n",
       "    </tr>\n",
       "    <tr>\n",
       "      <th>83</th>\n",
       "      <td>Ivanov</td>\n",
       "      <td>Erinfurt</td>\n",
       "      <td>Pegasus Vacations</td>\n",
       "      <td>Russian</td>\n",
       "    </tr>\n",
       "    <tr>\n",
       "      <th>84</th>\n",
       "      <td>Reis</td>\n",
       "      <td>Isabelview</td>\n",
       "      <td>Pegasus Vacations</td>\n",
       "      <td>Greek</td>\n",
       "    </tr>\n",
       "    <tr>\n",
       "      <th>85</th>\n",
       "      <td>Mayer</td>\n",
       "      <td>Erinfurt</td>\n",
       "      <td>Pegasus Vacations</td>\n",
       "      <td>German</td>\n",
       "    </tr>\n",
       "    <tr>\n",
       "      <th>86</th>\n",
       "      <td>Doherty</td>\n",
       "      <td>Andreaside</td>\n",
       "      <td>Pegasus Vacations</td>\n",
       "      <td>Irish</td>\n",
       "    </tr>\n",
       "    <tr>\n",
       "      <th>87</th>\n",
       "      <td>Pereira</td>\n",
       "      <td>Isabelview</td>\n",
       "      <td>Pegasus Vacations</td>\n",
       "      <td>Portuguese</td>\n",
       "    </tr>\n",
       "    <tr>\n",
       "      <th>88</th>\n",
       "      <td>Schneider</td>\n",
       "      <td>Lake Debra</td>\n",
       "      <td>Magellan Stays</td>\n",
       "      <td>German</td>\n",
       "    </tr>\n",
       "    <tr>\n",
       "      <th>89</th>\n",
       "      <td>Petrov</td>\n",
       "      <td>Maryborough</td>\n",
       "      <td>Pegasus Vacations</td>\n",
       "      <td>Russian</td>\n",
       "    </tr>\n",
       "    <tr>\n",
       "      <th>90</th>\n",
       "      <td>Kolletis</td>\n",
       "      <td>New Stephenborough</td>\n",
       "      <td>Magellan Stays</td>\n",
       "      <td>Greek</td>\n",
       "    </tr>\n",
       "    <tr>\n",
       "      <th>91</th>\n",
       "      <td>Miller</td>\n",
       "      <td>Andreaside</td>\n",
       "      <td>Pegasus Vacations</td>\n",
       "      <td>Scottish</td>\n",
       "    </tr>\n",
       "    <tr>\n",
       "      <th>92</th>\n",
       "      <td>Girard</td>\n",
       "      <td>Ortizmouth</td>\n",
       "      <td>Cambridge Travel</td>\n",
       "      <td>Irish</td>\n",
       "    </tr>\n",
       "    <tr>\n",
       "      <th>93</th>\n",
       "      <td>Zhao</td>\n",
       "      <td>New Stephenborough</td>\n",
       "      <td>Cambridge Travel</td>\n",
       "      <td>Chinese</td>\n",
       "    </tr>\n",
       "    <tr>\n",
       "      <th>94</th>\n",
       "      <td>Pham</td>\n",
       "      <td>Daniellechester</td>\n",
       "      <td>Cambridge Travel</td>\n",
       "      <td>Chinese</td>\n",
       "    </tr>\n",
       "    <tr>\n",
       "      <th>95</th>\n",
       "      <td>Le</td>\n",
       "      <td>Andreaside</td>\n",
       "      <td>Pegasus Vacations</td>\n",
       "      <td>Vietnamese</td>\n",
       "    </tr>\n",
       "    <tr>\n",
       "      <th>96</th>\n",
       "      <td>Tran</td>\n",
       "      <td>Isabelview</td>\n",
       "      <td>Pegasus Vacations</td>\n",
       "      <td>Vietnamese</td>\n",
       "    </tr>\n",
       "    <tr>\n",
       "      <th>97</th>\n",
       "      <td>Lefèvre</td>\n",
       "      <td>South Cynthia</td>\n",
       "      <td>Cambridge Travel</td>\n",
       "      <td>Spanish</td>\n",
       "    </tr>\n",
       "    <tr>\n",
       "      <th>98</th>\n",
       "      <td>Hoang</td>\n",
       "      <td>South Cynthia</td>\n",
       "      <td>Cambridge Travel</td>\n",
       "      <td>Vietnamese</td>\n",
       "    </tr>\n",
       "    <tr>\n",
       "      <th>99</th>\n",
       "      <td>Ngo</td>\n",
       "      <td>Isabelview</td>\n",
       "      <td>Pegasus Vacations</td>\n",
       "      <td>Korean</td>\n",
       "    </tr>\n",
       "  </tbody>\n",
       "</table>\n",
       "<p>100 rows × 4 columns</p>\n",
       "</div>"
      ],
      "text/plain": [
       "         Person                City             Agency    Language\n",
       "0      Panousis          Ortizmouth   Cambridge Travel       Greek\n",
       "1         Zhang          Isabelview   Cambridge Travel     Chinese\n",
       "2            Li     Daniellechester  Pegasus Vacations  Vietnamese\n",
       "3       Moreau      Daniellechester   Cambridge Travel       Irish\n",
       "4        Jansen          Ortizmouth   Cambridge Travel       Dutch\n",
       "5         Novak          Isabelview     Magellan Stays       Czech\n",
       "6      Van Dijk       South Cynthia     Magellan Stays       Czech\n",
       "7      McCarthy          Andreaside  Pegasus Vacations    Scottish\n",
       "8      Fearghal            Erinfurt   Cambridge Travel       Irish\n",
       "9      Williams  New Stephenborough   Cambridge Travel       Dutch\n",
       "10        Jones          Isabelview     Magellan Stays       Dutch\n",
       "11       Wagner     Daniellechester  Pegasus Vacations      German\n",
       "12      Almeida            Erinfurt   Cambridge Travel  Portuguese\n",
       "13     Ferreira          Lake Debra   Cambridge Travel  Portuguese\n",
       "14        Kelly          Andreaside   Cambridge Travel    Scottish\n",
       "15      Pokorny          Isabelview     Magellan Stays       Dutch\n",
       "16        Popov          Lake Debra  Pegasus Vacations     Russian\n",
       "17        Alves            Erinfurt  Pegasus Vacations  Portuguese\n",
       "18  Van de Berg          Isabelview  Pegasus Vacations       Dutch\n",
       "19        Silva          Ortizmouth   Cambridge Travel       Czech\n",
       "20    Fernandes         Maryborough     Magellan Stays       Dutch\n",
       "21    Mikhailov       South Cynthia  Pegasus Vacations     Russian\n",
       "22      OBrien  New Stephenborough   Cambridge Travel       Irish\n",
       "23      Johnson  New Stephenborough  Pegasus Vacations    Scottish\n",
       "24     De Vries  New Stephenborough  Pegasus Vacations       Dutch\n",
       "25      Sokolov          Lake Debra  Pegasus Vacations     Russian\n",
       "26      Fedorov          Isabelview     Magellan Stays     Russian\n",
       "27          Dao          Isabelview   Cambridge Travel  Vietnamese\n",
       "28        Nolan     Daniellechester   Cambridge Travel       Irish\n",
       "29       Nguyen  New Stephenborough  Pegasus Vacations       Irish\n",
       "..          ...                 ...                ...         ...\n",
       "70    Kuznetsov          Lake Debra  Pegasus Vacations     Russian\n",
       "71       Volkov  New Stephenborough  Pegasus Vacations     Russian\n",
       "72   Kratochvil          Isabelview   Cambridge Travel     Russian\n",
       "73       Santos          Ortizmouth  Pegasus Vacations       Greek\n",
       "74    Rodrigues          Flemington   Cambridge Travel  Portuguese\n",
       "75      De Jong         Maryborough     Magellan Stays      Korean\n",
       "76      Schmidl         Maryborough     Magellan Stays       Irish\n",
       "77           Do       South Cynthia   Cambridge Travel  Vietnamese\n",
       "78        Cerny       South Cynthia     Magellan Stays     Italian\n",
       "79       Müller          Ortizmouth     Magellan Stays    Scottish\n",
       "80        Huang       South Cynthia     Magellan Stays  Vietnamese\n",
       "81         Zhou          Lake Debra  Pegasus Vacations      Korean\n",
       "82       Austin         Maryborough  Pegasus Vacations     English\n",
       "83       Ivanov            Erinfurt  Pegasus Vacations     Russian\n",
       "84         Reis          Isabelview  Pegasus Vacations       Greek\n",
       "85        Mayer            Erinfurt  Pegasus Vacations      German\n",
       "86      Doherty          Andreaside  Pegasus Vacations       Irish\n",
       "87      Pereira          Isabelview  Pegasus Vacations  Portuguese\n",
       "88    Schneider          Lake Debra     Magellan Stays      German\n",
       "89       Petrov         Maryborough  Pegasus Vacations     Russian\n",
       "90     Kolletis  New Stephenborough     Magellan Stays       Greek\n",
       "91       Miller          Andreaside  Pegasus Vacations    Scottish\n",
       "92      Girard           Ortizmouth   Cambridge Travel       Irish\n",
       "93         Zhao  New Stephenborough   Cambridge Travel     Chinese\n",
       "94         Pham     Daniellechester   Cambridge Travel     Chinese\n",
       "95           Le          Andreaside  Pegasus Vacations  Vietnamese\n",
       "96         Tran          Isabelview  Pegasus Vacations  Vietnamese\n",
       "97     Lefèvre        South Cynthia   Cambridge Travel     Spanish\n",
       "98        Hoang       South Cynthia   Cambridge Travel  Vietnamese\n",
       "99          Ngo          Isabelview  Pegasus Vacations      Korean\n",
       "\n",
       "[100 rows x 4 columns]"
      ]
     },
     "execution_count": 33,
     "metadata": {},
     "output_type": "execute_result"
    }
   ],
   "source": [
    "customer_data"
   ]
  },
  {
   "cell_type": "code",
   "execution_count": 34,
   "metadata": {},
   "outputs": [],
   "source": [
    "customer_data.to_csv('data/CustomerDataWithLanguage.csv', index=False)"
   ]
  },
  {
   "cell_type": "code",
   "execution_count": 35,
   "metadata": {},
   "outputs": [
    {
     "data": {
      "text/plain": [
       "20074"
      ]
     },
     "execution_count": 35,
     "metadata": {},
     "output_type": "execute_result"
    }
   ],
   "source": [
    "sum([ len(x) for k,x in language_to_names.items()])"
   ]
  },
  {
   "cell_type": "code",
   "execution_count": 36,
   "metadata": {},
   "outputs": [
    {
     "data": {
      "text/plain": [
       "3668"
      ]
     },
     "execution_count": 36,
     "metadata": {},
     "output_type": "execute_result"
    }
   ],
   "source": [
    "len(language_to_names['English'])"
   ]
  },
  {
   "cell_type": "code",
   "execution_count": 37,
   "metadata": {},
   "outputs": [
    {
     "data": {
      "text/html": [
       "<div>\n",
       "<style scoped>\n",
       "    .dataframe tbody tr th:only-of-type {\n",
       "        vertical-align: middle;\n",
       "    }\n",
       "\n",
       "    .dataframe tbody tr th {\n",
       "        vertical-align: top;\n",
       "    }\n",
       "\n",
       "    .dataframe thead th {\n",
       "        text-align: right;\n",
       "    }\n",
       "</style>\n",
       "<table border=\"1\" class=\"dataframe\">\n",
       "  <thead>\n",
       "    <tr style=\"text-align: right;\">\n",
       "      <th></th>\n",
       "      <th>0</th>\n",
       "      <th>1</th>\n",
       "    </tr>\n",
       "  </thead>\n",
       "  <tbody>\n",
       "    <tr>\n",
       "      <th>0</th>\n",
       "      <td>Arabic</td>\n",
       "      <td>2000</td>\n",
       "    </tr>\n",
       "    <tr>\n",
       "      <th>1</th>\n",
       "      <td>Chinese</td>\n",
       "      <td>268</td>\n",
       "    </tr>\n",
       "    <tr>\n",
       "      <th>2</th>\n",
       "      <td>Czech</td>\n",
       "      <td>519</td>\n",
       "    </tr>\n",
       "    <tr>\n",
       "      <th>3</th>\n",
       "      <td>Dutch</td>\n",
       "      <td>297</td>\n",
       "    </tr>\n",
       "    <tr>\n",
       "      <th>4</th>\n",
       "      <td>English</td>\n",
       "      <td>3668</td>\n",
       "    </tr>\n",
       "    <tr>\n",
       "      <th>5</th>\n",
       "      <td>French</td>\n",
       "      <td>277</td>\n",
       "    </tr>\n",
       "    <tr>\n",
       "      <th>6</th>\n",
       "      <td>German</td>\n",
       "      <td>724</td>\n",
       "    </tr>\n",
       "    <tr>\n",
       "      <th>7</th>\n",
       "      <td>Greek</td>\n",
       "      <td>203</td>\n",
       "    </tr>\n",
       "    <tr>\n",
       "      <th>8</th>\n",
       "      <td>Irish</td>\n",
       "      <td>232</td>\n",
       "    </tr>\n",
       "    <tr>\n",
       "      <th>9</th>\n",
       "      <td>Italian</td>\n",
       "      <td>709</td>\n",
       "    </tr>\n",
       "    <tr>\n",
       "      <th>10</th>\n",
       "      <td>Japanese</td>\n",
       "      <td>991</td>\n",
       "    </tr>\n",
       "    <tr>\n",
       "      <th>11</th>\n",
       "      <td>Korean</td>\n",
       "      <td>94</td>\n",
       "    </tr>\n",
       "    <tr>\n",
       "      <th>12</th>\n",
       "      <td>Polish</td>\n",
       "      <td>139</td>\n",
       "    </tr>\n",
       "    <tr>\n",
       "      <th>13</th>\n",
       "      <td>Portuguese</td>\n",
       "      <td>74</td>\n",
       "    </tr>\n",
       "    <tr>\n",
       "      <th>14</th>\n",
       "      <td>Russian</td>\n",
       "      <td>9408</td>\n",
       "    </tr>\n",
       "    <tr>\n",
       "      <th>15</th>\n",
       "      <td>Scottish</td>\n",
       "      <td>100</td>\n",
       "    </tr>\n",
       "    <tr>\n",
       "      <th>16</th>\n",
       "      <td>Spanish</td>\n",
       "      <td>298</td>\n",
       "    </tr>\n",
       "    <tr>\n",
       "      <th>17</th>\n",
       "      <td>Vietnamese</td>\n",
       "      <td>73</td>\n",
       "    </tr>\n",
       "  </tbody>\n",
       "</table>\n",
       "</div>"
      ],
      "text/plain": [
       "             0     1\n",
       "0       Arabic  2000\n",
       "1      Chinese   268\n",
       "2        Czech   519\n",
       "3        Dutch   297\n",
       "4      English  3668\n",
       "5       French   277\n",
       "6       German   724\n",
       "7        Greek   203\n",
       "8        Irish   232\n",
       "9      Italian   709\n",
       "10    Japanese   991\n",
       "11      Korean    94\n",
       "12      Polish   139\n",
       "13  Portuguese    74\n",
       "14     Russian  9408\n",
       "15    Scottish   100\n",
       "16     Spanish   298\n",
       "17  Vietnamese    73"
      ]
     },
     "execution_count": 37,
     "metadata": {},
     "output_type": "execute_result"
    }
   ],
   "source": [
    "pd.DataFrame([ (k, len(x)) for k,x in language_to_names.items()])"
   ]
  }
 ],
 "metadata": {
  "kernelspec": {
   "display_name": "Python [conda env:packt]",
   "language": "python",
   "name": "conda-env-packt-py"
  },
  "language_info": {
   "codemirror_mode": {
    "name": "ipython",
    "version": 3
   },
   "file_extension": ".py",
   "mimetype": "text/x-python",
   "name": "python",
   "nbconvert_exporter": "python",
   "pygments_lexer": "ipython3",
   "version": "3.7.2"
  }
 },
 "nbformat": 4,
 "nbformat_minor": 2
}
