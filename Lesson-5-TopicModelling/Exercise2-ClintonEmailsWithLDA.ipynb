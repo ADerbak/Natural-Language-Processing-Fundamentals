{
 "cells": [
  {
   "cell_type": "markdown",
   "metadata": {},
   "source": [
    "## Clinton Emails"
   ]
  },
  {
   "cell_type": "code",
   "execution_count": 18,
   "metadata": {},
   "outputs": [
    {
     "data": {
      "application/javascript": [
       "IPython.notebook.set_autosave_interval(120000)"
      ]
     },
     "metadata": {},
     "output_type": "display_data"
    },
    {
     "name": "stdout",
     "output_type": "stream",
     "text": [
      "Autosaving every 120 seconds\n"
     ]
    }
   ],
   "source": [
    "import pandas as pd\n",
    "import warnings\n",
    "\n",
    "warnings.filterwarnings('ignore')\n",
    "%autosave 120\n",
    "pd.set_option('display.max_colwidth', 900)"
   ]
  },
  {
   "cell_type": "code",
   "execution_count": 19,
   "metadata": {},
   "outputs": [],
   "source": [
    "emails = pd.read_csv('data/Hillary-clinton-emails/Emails.csv')\n",
    "emails = emails.dropna(subset=['ExtractedBodyText'])\n",
    "cols = [col for col in emails.columns if \n",
    "        col.startswith('Extr') or col=='RawText']\n",
    "emails = emails[cols]"
   ]
  },
  {
   "cell_type": "code",
   "execution_count": 20,
   "metadata": {},
   "outputs": [
    {
     "data": {
      "text/html": [
       "<div>\n",
       "<style scoped>\n",
       "    .dataframe tbody tr th:only-of-type {\n",
       "        vertical-align: middle;\n",
       "    }\n",
       "\n",
       "    .dataframe tbody tr th {\n",
       "        vertical-align: top;\n",
       "    }\n",
       "\n",
       "    .dataframe thead th {\n",
       "        text-align: right;\n",
       "    }\n",
       "</style>\n",
       "<table border=\"1\" class=\"dataframe\">\n",
       "  <thead>\n",
       "    <tr style=\"text-align: right;\">\n",
       "      <th></th>\n",
       "      <th>ExtractedSubject</th>\n",
       "      <th>ExtractedTo</th>\n",
       "      <th>ExtractedFrom</th>\n",
       "      <th>ExtractedCc</th>\n",
       "      <th>ExtractedDateSent</th>\n",
       "      <th>ExtractedCaseNumber</th>\n",
       "      <th>ExtractedDocNumber</th>\n",
       "      <th>ExtractedDateReleased</th>\n",
       "      <th>ExtractedReleaseInPartOrFull</th>\n",
       "      <th>ExtractedBodyText</th>\n",
       "      <th>RawText</th>\n",
       "    </tr>\n",
       "  </thead>\n",
       "  <tbody>\n",
       "    <tr>\n",
       "      <th>1</th>\n",
       "      <td>NaN</td>\n",
       "      <td>NaN</td>\n",
       "      <td>NaN</td>\n",
       "      <td>NaN</td>\n",
       "      <td>NaN</td>\n",
       "      <td>F-2015-04841</td>\n",
       "      <td>C05739546</td>\n",
       "      <td>05/13/2015</td>\n",
       "      <td>RELEASE IN PART</td>\n",
       "      <td>B6\\nThursday, March 3, 2011 9:45 PM\\nH: Latest How Syria is aiding Qaddafi and more... Sid\\nhrc memo syria aiding libya 030311.docx; hrc memo syria aiding libya 030311.docx\\nMarch 3, 2011\\nFor: Hillary</td>\n",
       "      <td>UNCLASSIFIED\\nU.S. Department of State\\nCase No. F-2015-04841\\nDoc No. C05739546\\nDate: 05/13/2015\\nSTATE DEPT. - PRODUCED TO HOUSE SELECT BENGHAZI COMM.\\nSUBJECT TO AGREEMENT ON SENSITIVE INFORMATION &amp; REDACTIONS. NO FOIA WAIVER.\\nRELEASE IN\\nPART B6\\nFrom:\\nSent:\\nTo:\\nSubject:\\nAttachments:\\nB6\\nThursday, March 3, 2011 9:45 PM\\nH: Latest How Syria is aiding Qaddafi and more... Sid\\nhrc memo syria aiding libya 030311.docx; hrc memo syria aiding libya 030311.docx\\nCONFIDENTIAL\\nMarch 3, 2011\\nFor: Hillary\\nFrom: Sid\\nRe: Syria aiding Qaddafi\\nThis memo has two parts. Part one is the report that Syria is providing air support for Qaddafi. Part two is a note\\nto Cody from Lord David Owen, former UK foreign secretary on his views of an increasingly complex crisis. It\\nseems that the situation is developing into a protracted civil war with various nations backing opposing sides\\nwith un...</td>\n",
       "    </tr>\n",
       "    <tr>\n",
       "      <th>2</th>\n",
       "      <td>Re: Chris Stevens</td>\n",
       "      <td>B6</td>\n",
       "      <td>Mills, Cheryl D &lt;MillsCD@state.gov&gt;</td>\n",
       "      <td>Abedin, Huma</td>\n",
       "      <td>Wednesday, September 12, 2012 11:52 AM</td>\n",
       "      <td>F-2015-04841</td>\n",
       "      <td>C05739547</td>\n",
       "      <td>05/14/2015</td>\n",
       "      <td>RELEASE IN PART</td>\n",
       "      <td>Thx</td>\n",
       "      <td>UNCLASSIFIED\\nU.S. Department of State\\nCase No. F-2015-04841\\nDoc No. C05739547\\nDate: 05/14/2015\\nSTATE DEPT. - PRODUCED TO HOUSE SELECT BENGHAZI COMM.\\nSUBJECT TO AGREEMENT ON SENSITIVE INFORMATION &amp; REDACTIONS. NO FOIA WAIVER.\\nRELEASE IN\\nPART B6\\nFrom: Mills, Cheryl D &lt;MillsCD@state.gov&gt;\\nSent: Wednesday, September 12, 2012 11:52 AM\\nTo: B6\\nCc: Abedin, Huma\\nSubject: Re: Chris Stevens\\nThx\\nOriginal Message\\nFrom: Anne-Marie Slaughter [\\nSent: Wednesday, September 12, 2012 07:46 AM\\nTo: Ihdr22@clintonernail.com' &lt;hdr22@clintonemail corn&gt;\\nCc: Abed in, Huma; Mills, Cheryl D\\nSubject: Chris Stevens\\nTo you and all my former colleagues, I'm so terribly sorry. Our FSOs stand on the front lines just as surely and devotedly\\nas our soldiers do. Thinking of you and Pat and everyone this morning.\\nAM\\nUNCLASSIFIED\\nU.S. Department of State\\nCase No. F-2015-04841\\nDoc No. C05739547\\nDa...</td>\n",
       "    </tr>\n",
       "    <tr>\n",
       "      <th>4</th>\n",
       "      <td>NaN</td>\n",
       "      <td>NaN</td>\n",
       "      <td>NaN</td>\n",
       "      <td>NaN</td>\n",
       "      <td>NaN</td>\n",
       "      <td>F-2015-04841</td>\n",
       "      <td>C05739554</td>\n",
       "      <td>05/13/2015</td>\n",
       "      <td>RELEASE IN PART</td>\n",
       "      <td>H &lt;hrod17@clintonemail.com&gt;\\nFriday, March 11, 2011 1:36 PM\\nHuma Abedin\\nFw: H: Latest: How Syria is aiding Qaddafi and more... Sid\\nhrc memo syria aiding libya 030311.docx\\nPis print.</td>\n",
       "      <td>B6\\nUNCLASSIFIED\\nU.S. Department of State\\nCase No. F-2015-04841\\nDoc No. C05739554\\nDate: 05/13/2015\\nSTATE DEPT. - PRODUCED TO HOUSE SELECT BENGHAZI COMM.\\nSUBJECT TO AGREEMENT ON SENSITIVE INFORMATION &amp; REDACTIONS. NO FOIA WAIVER.\\nRELEASE IN\\nPART B6\\nFrom:\\nSent:\\nTo:\\nSubject:\\nAttachments:\\nH &lt;hrod17@clintonemail.com&gt;\\nFriday, March 11, 2011 1:36 PM\\nHuma Abedin\\nFw: H: Latest: How Syria is aiding Qaddafi and more... Sid\\nhrc memo syria aiding libya 030311.docx\\nPis print.\\nFrom:\\nSent: Thursday, March 03, 2011 09:45 PM\\nTo: H\\nSubject: H: Latest: How Syria is aiding Qaddafi and more... Sid\\nCONFIDENTIAL\\nMarch 3, 2011\\nFor: Hillary\\nFrom: Sid\\nRe: Syria aiding Qaddafi\\nThis memo has two parts. Part one is the report that Syria is providing air support for Qaddafi. Part two is a note\\nto Cody from Lord David Owen, former UK foreign secretary on his views of an increasingly co...</td>\n",
       "    </tr>\n",
       "    <tr>\n",
       "      <th>5</th>\n",
       "      <td>Meet The Right Wing Extremist Behind Anti-Muslim Film That Sparked Deadly Riots</td>\n",
       "      <td>NaN</td>\n",
       "      <td>NaN</td>\n",
       "      <td>NaN</td>\n",
       "      <td>Wednesday, September 12, 2012 01:00 PM</td>\n",
       "      <td>F-2015-04841</td>\n",
       "      <td>C05739559</td>\n",
       "      <td>05/13/2015</td>\n",
       "      <td>RELEASE IN PART</td>\n",
       "      <td>Pis print.\\n-•-...-^\\nH &lt; hrod17@clintonernailcom&gt;\\nWednesday, September 12, 2012 2:11 PM\\n°Russorv@state.gov'\\nFw: Meet The Right-Wing Extremist Behind Anti-fvluslim Film That Sparked Deadly Riots\\nFrom [meat)\\nSent: Wednesday, September 12, 2012 01:00 PM\\nTo: 11\\nSubject: Meet The Right Wing Extremist Behind Anti-Muslim Film That Sparked Deadly Riots\\nhtte/maxbiumenthal.com12012/09/meet-the-right-wing-extremist-behind-anti-musiim-tihn-that-sparked-\\ndeadly-riots/\\nSent from my Verizon Wireless 4G LTE DROID\\nU.S. Department of State\\nCase No. F-2015-04841\\nDoc No. C05739559\\nDate: 05/13/2015\\nSTATE DEPT. - PRODUCED TO HOUSE SELECT BENGHAZI COMM.\\nSUBJECT TO AGREEMENT ON SENSITIVE INFORMATION &amp; REDACTIONS. NO FOIA WAIVER. STATE-5CB0045251</td>\n",
       "      <td>B6\\nUNCLASSIFIED\\nU.S. Department of State\\nCase No. F-2015-04841\\nDoc No. C05739559\\nDate: 05/13/2015\\nSTATE DEPT. - PRODUCED TO HOUSE SELECT BENGHAZI COMM.\\nSUBJECT TO AGREEMENT ON SENSITIVE INFORMATION &amp; REDACTIONS. NO FOIA WAIVER.\\nRELEASE IN\\nPART B6\\nFrom:\\nSent\\nTo:\\nSubject\\nPis print.\\n-•-...-^\\nH &lt; hrod17@clintonernailcom&gt;\\nWednesday, September 12, 2012 2:11 PM\\n°Russorv@state.gov'\\nFw: Meet The Right-Wing Extremist Behind Anti-fvluslim Film That Sparked Deadly Riots\\nFrom [meat)\\nSent: Wednesday, September 12, 2012 01:00 PM\\nTo: 11\\nSubject: Meet The Right Wing Extremist Behind Anti-Muslim Film That Sparked Deadly Riots\\nhtte/maxbiumenthal.com12012/09/meet-the-right-wing-extremist-behind-anti-musiim-tihn-that-sparked-\\ndeadly-riots/\\nSent from my Verizon Wireless 4G LTE DROID\\nUNCLASSIFIED\\nU.S. Department of State\\nCase No. F-2015-04841\\nDoc No. C05739559\\nDate: 05/13/201...</td>\n",
       "    </tr>\n",
       "  </tbody>\n",
       "</table>\n",
       "</div>"
      ],
      "text/plain": [
       "                                                                  ExtractedSubject  \\\n",
       "1                                                                              NaN   \n",
       "2                                                                Re: Chris Stevens   \n",
       "4                                                                              NaN   \n",
       "5  Meet The Right Wing Extremist Behind Anti-Muslim Film That Sparked Deadly Riots   \n",
       "\n",
       "  ExtractedTo                        ExtractedFrom   ExtractedCc  \\\n",
       "1         NaN                                  NaN           NaN   \n",
       "2          B6  Mills, Cheryl D <MillsCD@state.gov>  Abedin, Huma   \n",
       "4         NaN                                  NaN           NaN   \n",
       "5         NaN                                  NaN           NaN   \n",
       "\n",
       "                        ExtractedDateSent ExtractedCaseNumber  \\\n",
       "1                                     NaN        F-2015-04841   \n",
       "2  Wednesday, September 12, 2012 11:52 AM        F-2015-04841   \n",
       "4                                     NaN        F-2015-04841   \n",
       "5  Wednesday, September 12, 2012 01:00 PM        F-2015-04841   \n",
       "\n",
       "  ExtractedDocNumber ExtractedDateReleased ExtractedReleaseInPartOrFull  \\\n",
       "1          C05739546            05/13/2015              RELEASE IN PART   \n",
       "2          C05739547            05/14/2015              RELEASE IN PART   \n",
       "4          C05739554            05/13/2015              RELEASE IN PART   \n",
       "5          C05739559            05/13/2015              RELEASE IN PART   \n",
       "\n",
       "                                                                                                                                                                                                                                                                                                                                                                                                                                                                                                                                                                                                                                                                                                                                                              ExtractedBodyText  \\\n",
       "1                                                                                                                                                                                                                                                                                                                                                                                                                                                                                                                                                                     B6\\nThursday, March 3, 2011 9:45 PM\\nH: Latest How Syria is aiding Qaddafi and more... Sid\\nhrc memo syria aiding libya 030311.docx; hrc memo syria aiding libya 030311.docx\\nMarch 3, 2011\\nFor: Hillary   \n",
       "2                                                                                                                                                                                                                                                                                                                                                                                                                                                                                                                                                                                                                                                                                                                                                                           Thx   \n",
       "4                                                                                                                                                                                                                                                                                                                                                                                                                                                                                                                                                                                     H <hrod17@clintonemail.com>\\nFriday, March 11, 2011 1:36 PM\\nHuma Abedin\\nFw: H: Latest: How Syria is aiding Qaddafi and more... Sid\\nhrc memo syria aiding libya 030311.docx\\nPis print.   \n",
       "5  Pis print.\\n-•-...-^\\nH < hrod17@clintonernailcom>\\nWednesday, September 12, 2012 2:11 PM\\n°Russorv@state.gov'\\nFw: Meet The Right-Wing Extremist Behind Anti-fvluslim Film That Sparked Deadly Riots\\nFrom [meat)\\nSent: Wednesday, September 12, 2012 01:00 PM\\nTo: 11\\nSubject: Meet The Right Wing Extremist Behind Anti-Muslim Film That Sparked Deadly Riots\\nhtte/maxbiumenthal.com12012/09/meet-the-right-wing-extremist-behind-anti-musiim-tihn-that-sparked-\\ndeadly-riots/\\nSent from my Verizon Wireless 4G LTE DROID\\nU.S. Department of State\\nCase No. F-2015-04841\\nDoc No. C05739559\\nDate: 05/13/2015\\nSTATE DEPT. - PRODUCED TO HOUSE SELECT BENGHAZI COMM.\\nSUBJECT TO AGREEMENT ON SENSITIVE INFORMATION & REDACTIONS. NO FOIA WAIVER. STATE-5CB0045251   \n",
       "\n",
       "                                                                                                                                                                                                                                                                                                                                                                                                                                                                                                                                                                                                                                                                                                                                                                                                                                                                                                                               RawText  \n",
       "1  UNCLASSIFIED\\nU.S. Department of State\\nCase No. F-2015-04841\\nDoc No. C05739546\\nDate: 05/13/2015\\nSTATE DEPT. - PRODUCED TO HOUSE SELECT BENGHAZI COMM.\\nSUBJECT TO AGREEMENT ON SENSITIVE INFORMATION & REDACTIONS. NO FOIA WAIVER.\\nRELEASE IN\\nPART B6\\nFrom:\\nSent:\\nTo:\\nSubject:\\nAttachments:\\nB6\\nThursday, March 3, 2011 9:45 PM\\nH: Latest How Syria is aiding Qaddafi and more... Sid\\nhrc memo syria aiding libya 030311.docx; hrc memo syria aiding libya 030311.docx\\nCONFIDENTIAL\\nMarch 3, 2011\\nFor: Hillary\\nFrom: Sid\\nRe: Syria aiding Qaddafi\\nThis memo has two parts. Part one is the report that Syria is providing air support for Qaddafi. Part two is a note\\nto Cody from Lord David Owen, former UK foreign secretary on his views of an increasingly complex crisis. It\\nseems that the situation is developing into a protracted civil war with various nations backing opposing sides\\nwith un...  \n",
       "2  UNCLASSIFIED\\nU.S. Department of State\\nCase No. F-2015-04841\\nDoc No. C05739547\\nDate: 05/14/2015\\nSTATE DEPT. - PRODUCED TO HOUSE SELECT BENGHAZI COMM.\\nSUBJECT TO AGREEMENT ON SENSITIVE INFORMATION & REDACTIONS. NO FOIA WAIVER.\\nRELEASE IN\\nPART B6\\nFrom: Mills, Cheryl D <MillsCD@state.gov>\\nSent: Wednesday, September 12, 2012 11:52 AM\\nTo: B6\\nCc: Abedin, Huma\\nSubject: Re: Chris Stevens\\nThx\\nOriginal Message\\nFrom: Anne-Marie Slaughter [\\nSent: Wednesday, September 12, 2012 07:46 AM\\nTo: Ihdr22@clintonernail.com' <hdr22@clintonemail corn>\\nCc: Abed in, Huma; Mills, Cheryl D\\nSubject: Chris Stevens\\nTo you and all my former colleagues, I'm so terribly sorry. Our FSOs stand on the front lines just as surely and devotedly\\nas our soldiers do. Thinking of you and Pat and everyone this morning.\\nAM\\nUNCLASSIFIED\\nU.S. Department of State\\nCase No. F-2015-04841\\nDoc No. C05739547\\nDa...  \n",
       "4  B6\\nUNCLASSIFIED\\nU.S. Department of State\\nCase No. F-2015-04841\\nDoc No. C05739554\\nDate: 05/13/2015\\nSTATE DEPT. - PRODUCED TO HOUSE SELECT BENGHAZI COMM.\\nSUBJECT TO AGREEMENT ON SENSITIVE INFORMATION & REDACTIONS. NO FOIA WAIVER.\\nRELEASE IN\\nPART B6\\nFrom:\\nSent:\\nTo:\\nSubject:\\nAttachments:\\nH <hrod17@clintonemail.com>\\nFriday, March 11, 2011 1:36 PM\\nHuma Abedin\\nFw: H: Latest: How Syria is aiding Qaddafi and more... Sid\\nhrc memo syria aiding libya 030311.docx\\nPis print.\\nFrom:\\nSent: Thursday, March 03, 2011 09:45 PM\\nTo: H\\nSubject: H: Latest: How Syria is aiding Qaddafi and more... Sid\\nCONFIDENTIAL\\nMarch 3, 2011\\nFor: Hillary\\nFrom: Sid\\nRe: Syria aiding Qaddafi\\nThis memo has two parts. Part one is the report that Syria is providing air support for Qaddafi. Part two is a note\\nto Cody from Lord David Owen, former UK foreign secretary on his views of an increasingly co...  \n",
       "5  B6\\nUNCLASSIFIED\\nU.S. Department of State\\nCase No. F-2015-04841\\nDoc No. C05739559\\nDate: 05/13/2015\\nSTATE DEPT. - PRODUCED TO HOUSE SELECT BENGHAZI COMM.\\nSUBJECT TO AGREEMENT ON SENSITIVE INFORMATION & REDACTIONS. NO FOIA WAIVER.\\nRELEASE IN\\nPART B6\\nFrom:\\nSent\\nTo:\\nSubject\\nPis print.\\n-•-...-^\\nH < hrod17@clintonernailcom>\\nWednesday, September 12, 2012 2:11 PM\\n°Russorv@state.gov'\\nFw: Meet The Right-Wing Extremist Behind Anti-fvluslim Film That Sparked Deadly Riots\\nFrom [meat)\\nSent: Wednesday, September 12, 2012 01:00 PM\\nTo: 11\\nSubject: Meet The Right Wing Extremist Behind Anti-Muslim Film That Sparked Deadly Riots\\nhtte/maxbiumenthal.com12012/09/meet-the-right-wing-extremist-behind-anti-musiim-tihn-that-sparked-\\ndeadly-riots/\\nSent from my Verizon Wireless 4G LTE DROID\\nUNCLASSIFIED\\nU.S. Department of State\\nCase No. F-2015-04841\\nDoc No. C05739559\\nDate: 05/13/201...  "
      ]
     },
     "execution_count": 20,
     "metadata": {},
     "output_type": "execute_result"
    }
   ],
   "source": [
    "emails.head(4)"
   ]
  },
  {
   "cell_type": "code",
   "execution_count": 21,
   "metadata": {},
   "outputs": [],
   "source": [
    "NAN_VALUE = str(-999)\n",
    "emails = emails.fillna(NAN_VALUE)\n",
    "\n",
    "for col in emails.columns:\n",
    "    if col.startswith('Extr'):\n",
    "        emails[col] = emails[col].astype(str)"
   ]
  },
  {
   "cell_type": "code",
   "execution_count": 22,
   "metadata": {},
   "outputs": [],
   "source": [
    "import re\n",
    "\n",
    "DATE = '[A-Z][a-z]{5,}, [A-Z][a-z]{3,} [0-9]{1,2}, 201[0-9]( [0-9]{1,2}:[0-9]{1,2} [AP]M)?'\n",
    "SHORT_DATE = '[A-Z][a-z]{3,}, [0-9]{1,2} [A-Z][a-z]{2} 201[0-9]'\n",
    "TIME = '[0-9]{1,2}:[0-9]{1,2} [AP]M'\n",
    "EMAIL_ADDRESS = '[a-zA-Z0-9_.+-]+@[a-zA-Z0-9-]+\\.?[a-zA-Z0-9-.]+'\n",
    "EMAIL_FIELDS = '(Sent|Subject|From|Fw|Re|Cc|To|Attachments|Date):?'\n",
    "ALL_UPPERCASE = '[A-Z]{2,}'\n",
    "STATE_DEPT_TEXT = 'U.S. Department of State| Case No|Doc No|B5|B6'"
   ]
  },
  {
   "cell_type": "code",
   "execution_count": 27,
   "metadata": {},
   "outputs": [],
   "source": [
    "def clean(text):\n",
    "    text = re.sub('\\n', ' ', text)\n",
    "    text = re.sub(DATE, '', text)\n",
    "    text = re.sub(SHORT_DATE, '', text)\n",
    "    text = re.sub(TIME, '', text)\n",
    "    text = re.sub(EMAIL_FIELDS, '', text)\n",
    "    text = re.sub(EMAIL_ADDRESS, '', text)\n",
    "    text = re.sub(ALL_UPPERCASE, '', text)\n",
    "    text = re.sub(STATE_DEPT_TEXT, '', text)\n",
    "    return text\n",
    "\n",
    "emails['CleanText'] = emails.RawText.apply(clean)"
   ]
  },
  {
   "cell_type": "code",
   "execution_count": 28,
   "metadata": {},
   "outputs": [],
   "source": [
    "def remove_extracted_field(text, field_value):\n",
    "    if field_value == NAN_VALUE:\n",
    "        return text\n",
    "    return text.replace(str(field_value), '')\n",
    "\n",
    "for col in emails.columns:\n",
    "    if col.startswith('Extracted'):\n",
    "        emails.CleanText =  emails.apply(lambda d: \n",
    "                                        remove_extracted_field(d.CleanText,\n",
    "                                                     d[col]),\n",
    "                                                    axis=1)"
   ]
  },
  {
   "cell_type": "code",
   "execution_count": 30,
   "metadata": {},
   "outputs": [
    {
     "data": {
      "text/html": [
       "<div>\n",
       "<style scoped>\n",
       "    .dataframe tbody tr th:only-of-type {\n",
       "        vertical-align: middle;\n",
       "    }\n",
       "\n",
       "    .dataframe tbody tr th {\n",
       "        vertical-align: top;\n",
       "    }\n",
       "\n",
       "    .dataframe thead th {\n",
       "        text-align: right;\n",
       "    }\n",
       "</style>\n",
       "<table border=\"1\" class=\"dataframe\">\n",
       "  <thead>\n",
       "    <tr style=\"text-align: right;\">\n",
       "      <th></th>\n",
       "      <th>CleanText</th>\n",
       "    </tr>\n",
       "  </thead>\n",
       "  <tbody>\n",
       "    <tr>\n",
       "      <th>1</th>\n",
       "      <td>. F-2015-04841 . C05739546  05/13/2015  . -      .       &amp; .   .            H: Latest How Syria is aiding Qaddafi and more... Sid hrc memo syria aiding libya 030311.docx; hrc memo syria aiding libya 030311.docx  March 3, 2011 For: Hillary  Sid  Syria aiding Qaddafi This memo has two parts. Part one is the report that Syria is providing air support for Qaddafi. Part two is a note to Cody from Lord David Owen, former  foreign secretary on his views of an increasingly complex crisis. It seems that the situation is developing into a protracted civil war with various nations backing opposing sides with unforeseen consequences. Under these circumstances the crucial challenge is to deprive Qaddafi of his strategic depth—his support both financial and military. I. port During the afternoon of March 3, advisers to Muammar Qaddafi stated privately that the Libyan Leader has decided that civil...</td>\n",
       "    </tr>\n",
       "    <tr>\n",
       "      <th>2</th>\n",
       "      <td>. F-2015-04841 . C05739547  05/14/2015  . -      .       &amp; .   .      Mills, Cheryl D &lt;&gt;      Abedin, Huma   Chris Stevens Thx Original Message  Anne-Marie Slaughter [    ' &lt; corn&gt;  Abed in, Huma; Mills, Cheryl D  Chris Stevens  you and all my former colleagues, I'm so terribly sorry. Our s stand on the front lines just as surely and devotedly as our soldiers do. Thinking of you and Pat and everyone this morning.   . F-2015-04841 . C05739547  05/14/2015  . -      .       &amp; .   . -50045248</td>\n",
       "    </tr>\n",
       "    <tr>\n",
       "      <th>4</th>\n",
       "      <td>. F-2015-04841 . C05739554  05/13/2015  . -      .       &amp; .   .          H &lt;&gt;  Huma Abedin  H: Latest: How Syria is aiding Qaddafi and more... Sid hrc memo syria aiding libya 030311.docx Pis print.     H  H: Latest: How Syria is aiding Qaddafi and more... Sid  March 3, 2011 For: Hillary  Sid  Syria aiding Qaddafi This memo has two parts. Part one is the report that Syria is providing air support for Qaddafi. Part two is a note to Cody from Lord David Owen, former  foreign secretary on his views of an increasingly complex crisis. It seems that the situation is developing into a protracted civil war with various nations backing opposing sides with unforeseen consequences. Under these circumstances the crucial challenge is to deprive Qaddafi of his strategic depth—his support both financial and military. I. port During the afternoon of March 3, advisers to Muammar Qaddafi stated priv...</td>\n",
       "    </tr>\n",
       "    <tr>\n",
       "      <th>5</th>\n",
       "      <td>. F-2015-04841 . C05739559  05/13/2015  . -      .       &amp; .   .         Pis print. -•-...-^ H &lt; &gt;  °'  Meet The Right-Wing Extremist Behind Anti-fvluslim Film That Sparked Deadly Riots  [meat)    11  Meet The Right Wing Extremist Behind Anti-Muslim Film That Sparked Deadly Riots htte/maxbiumenthal.com12012/09/meet-the-right-wing-extremist-behind-anti-musiim-tihn-that-sparked- deadly-riots/  from my Verizon Wireless 4G    . F-2015-04841 . C05739559  05/13/2015  . -      .       &amp; .   . -50045251</td>\n",
       "    </tr>\n",
       "    <tr>\n",
       "      <th>7</th>\n",
       "      <td>. F-2015-04841 . C05739561  05/13/2015  . -      .       &amp; .   .          H &lt;&gt;  Huma Abedin  H: Latest: How Syria is aiding Qaddafi and more... Sid hrc memo Syria aiding libya 030311.docx Pis print.     H  H: Latest: How Syria is aiding Qaddafi and more... Sid  March 3, 2011 For: Hillary  Sid  Syria aiding Qaddafi This memo has two parts. Part one is the report that Syria is providing air support for Qaddafi. Part two is a note to Cody from Lord David Owen, former  foreign secretary on his views of an increasingly complex crisis. It seems that the situation is developing into a protracted civil war with various nations backing opposing sides with unforeseen consequences. Under these circumstances the crucial challenge is to deprive Qaddafi of his strategic depth--his support both financial and military. I. port During the afternoon of March 3, advisers to Muammar Qaddafi stated pri...</td>\n",
       "    </tr>\n",
       "  </tbody>\n",
       "</table>\n",
       "</div>"
      ],
      "text/plain": [
       "                                                                                                                                                                                                                                                                                                                                                                                                                                                                                                                                                                                                                                                                                                                                                                                                                                                                                                                             CleanText\n",
       "1   . F-2015-04841 . C05739546  05/13/2015  . -      .       & .   .            H: Latest How Syria is aiding Qaddafi and more... Sid hrc memo syria aiding libya 030311.docx; hrc memo syria aiding libya 030311.docx  March 3, 2011 For: Hillary  Sid  Syria aiding Qaddafi This memo has two parts. Part one is the report that Syria is providing air support for Qaddafi. Part two is a note to Cody from Lord David Owen, former  foreign secretary on his views of an increasingly complex crisis. It seems that the situation is developing into a protracted civil war with various nations backing opposing sides with unforeseen consequences. Under these circumstances the crucial challenge is to deprive Qaddafi of his strategic depth—his support both financial and military. I. port During the afternoon of March 3, advisers to Muammar Qaddafi stated privately that the Libyan Leader has decided that civil...\n",
       "2                                                                                                                                                                                                                                                                                                                                                                                                                      . F-2015-04841 . C05739547  05/14/2015  . -      .       & .   .      Mills, Cheryl D <>      Abedin, Huma   Chris Stevens Thx Original Message  Anne-Marie Slaughter [    ' < corn>  Abed in, Huma; Mills, Cheryl D  Chris Stevens  you and all my former colleagues, I'm so terribly sorry. Our s stand on the front lines just as surely and devotedly as our soldiers do. Thinking of you and Pat and everyone this morning.   . F-2015-04841 . C05739547  05/14/2015  . -      .       & .   . -50045248 \n",
       "\n",
       "4    . F-2015-04841 . C05739554  05/13/2015  . -      .       & .   .          H <>  Huma Abedin  H: Latest: How Syria is aiding Qaddafi and more... Sid hrc memo syria aiding libya 030311.docx Pis print.     H  H: Latest: How Syria is aiding Qaddafi and more... Sid  March 3, 2011 For: Hillary  Sid  Syria aiding Qaddafi This memo has two parts. Part one is the report that Syria is providing air support for Qaddafi. Part two is a note to Cody from Lord David Owen, former  foreign secretary on his views of an increasingly complex crisis. It seems that the situation is developing into a protracted civil war with various nations backing opposing sides with unforeseen consequences. Under these circumstances the crucial challenge is to deprive Qaddafi of his strategic depth—his support both financial and military. I. port During the afternoon of March 3, advisers to Muammar Qaddafi stated priv...\n",
       "5                                                                                                                                                                                                                                                                                                                                                                                                               . F-2015-04841 . C05739559  05/13/2015  . -      .       & .   .         Pis print. -•-...-^ H < >  °'  Meet The Right-Wing Extremist Behind Anti-fvluslim Film That Sparked Deadly Riots  [meat)    11  Meet The Right Wing Extremist Behind Anti-Muslim Film That Sparked Deadly Riots htte/maxbiumenthal.com12012/09/meet-the-right-wing-extremist-behind-anti-musiim-tihn-that-sparked- deadly-riots/  from my Verizon Wireless 4G    . F-2015-04841 . C05739559  05/13/2015  . -      .       & .   . -50045251 \n",
       "\n",
       "7    . F-2015-04841 . C05739561  05/13/2015  . -      .       & .   .          H <>  Huma Abedin  H: Latest: How Syria is aiding Qaddafi and more... Sid hrc memo Syria aiding libya 030311.docx Pis print.     H  H: Latest: How Syria is aiding Qaddafi and more... Sid  March 3, 2011 For: Hillary  Sid  Syria aiding Qaddafi This memo has two parts. Part one is the report that Syria is providing air support for Qaddafi. Part two is a note to Cody from Lord David Owen, former  foreign secretary on his views of an increasingly complex crisis. It seems that the situation is developing into a protracted civil war with various nations backing opposing sides with unforeseen consequences. Under these circumstances the crucial challenge is to deprive Qaddafi of his strategic depth--his support both financial and military. I. port During the afternoon of March 3, advisers to Muammar Qaddafi stated pri..."
      ]
     },
     "execution_count": 30,
     "metadata": {},
     "output_type": "execute_result"
    }
   ],
   "source": [
    "emails[['CleanText']].head(5)"
   ]
  },
  {
   "cell_type": "markdown",
   "metadata": {},
   "source": [
    "## LDA"
   ]
  },
  {
   "cell_type": "code",
   "execution_count": 32,
   "metadata": {},
   "outputs": [],
   "source": [
    "from gensim.parsing.preprocessing import preprocess_string\n",
    "\n",
    "email_documents = emails.CleanText.apply(preprocess_string).tolist()"
   ]
  },
  {
   "cell_type": "code",
   "execution_count": 37,
   "metadata": {},
   "outputs": [],
   "source": [
    "from gensim import corpora\n",
    "from gensim.models.ldamodel import LdaModel\n",
    "\n",
    "dictionary = corpora.Dictionary(email_documents)\n",
    "corpus = [dictionary.doc2bow(text) for text in email_documents]"
   ]
  },
  {
   "cell_type": "code",
   "execution_count": null,
   "metadata": {},
   "outputs": [],
   "source": [
    "NUM_TOPICS = 8\n",
    "ldamodel = LdaModel(corpus, \n",
    "                    num_topics = NUM_TOPICS, \n",
    "                    id2word=dictionary, passes=15)"
   ]
  },
  {
   "cell_type": "code",
   "execution_count": 12,
   "metadata": {},
   "outputs": [
    {
     "data": {
      "text/plain": [
       "[(0,\n",
       "  '0.049*\"messag\" + 0.046*\"origin\" + 0.018*\"cheryl\" + 0.015*\"sullivan\" + 0.015*\"abedin\" + 0.014*\"mill\"'),\n",
       " (1,\n",
       "  '0.011*\"govern\" + 0.010*\"libya\" + 0.010*\"sourc\" + 0.009*\"libyan\" + 0.008*\"minist\" + 0.007*\"state\"'),\n",
       " (2,\n",
       "  '0.013*\"said\" + 0.012*\"obama\" + 0.010*\"senat\" + 0.010*\"parti\" + 0.008*\"presid\" + 0.007*\"hous\"'),\n",
       " (3,\n",
       "  '0.031*\"haiti\" + 0.012*\"haitian\" + 0.008*\"govern\" + 0.007*\"report\" + 0.007*\"said\" + 0.006*\"children\"'),\n",
       " (4,\n",
       "  '0.018*\"secretari\" + 0.016*\"offic\" + 0.013*\"state\" + 0.010*\"depart\" + 0.008*\"foreign\" + 0.008*\"room\"'),\n",
       " (5,\n",
       "  '0.014*\"clinton\" + 0.010*\"secretari\" + 0.009*\"presid\" + 0.008*\"said\" + 0.008*\"state\" + 0.005*\"right\"'),\n",
       " (6,\n",
       "  '0.008*\"american\" + 0.007*\"state\" + 0.006*\"govern\" + 0.005*\"new\" + 0.005*\"israel\" + 0.004*\"presid\"'),\n",
       " (7,\n",
       "  '0.009*\"work\" + 0.007*\"develop\" + 0.006*\"women\" + 0.006*\"state\" + 0.006*\"new\" + 0.005*\"year\"')]"
      ]
     },
     "execution_count": 12,
     "metadata": {},
     "output_type": "execute_result"
    }
   ],
   "source": [
    "ldamodel.print_topics(num_words=6)"
   ]
  },
  {
   "cell_type": "code",
   "execution_count": 65,
   "metadata": {},
   "outputs": [],
   "source": [
    "from gensim.models.coherencemodel import CoherenceModel\n",
    "\n",
    "def calculate_coherence_score(documents, dictionary, model):\n",
    "    coherence_model = CoherenceModel(model=model, \n",
    "                                     texts=documents, \n",
    "                                     dictionary=dictionary, \n",
    "                                     coherence='c_v')\n",
    "    return coherence_model.get_coherence()\n",
    "\n",
    "def get_coherence_values(start, stop):\n",
    "    for num_topics in range(start, stop):\n",
    "        print(f'\\nCalculating coherence for {num_topics} topics')\n",
    "        ldamodel = LdaModel(corpus, \n",
    "                    num_topics = num_topics, \n",
    "                    id2word=dictionary, passes=2)\n",
    "        coherence = calculate_coherence_score(email_documents, \n",
    "                                              dictionary, \n",
    "                                              ldamodel)\n",
    "        yield coherence"
   ]
  },
  {
   "cell_type": "code",
   "execution_count": 66,
   "metadata": {},
   "outputs": [
    {
     "name": "stdout",
     "output_type": "stream",
     "text": [
      "\n",
      "Calculating coherence for 2 topics\n",
      "\n",
      "Calculating coherence for 3 topics\n",
      "\n",
      "Calculating coherence for 4 topics\n",
      "\n",
      "Calculating coherence for 5 topics\n",
      "\n",
      "Calculating coherence for 6 topics\n",
      "\n",
      "Calculating coherence for 7 topics\n",
      "\n",
      "Calculating coherence for 8 topics\n",
      "\n",
      "Calculating coherence for 9 topics\n",
      "\n",
      "Calculating coherence for 10 topics\n",
      "\n",
      "Calculating coherence for 11 topics\n",
      "\n",
      "Calculating coherence for 12 topics\n",
      "\n",
      "Calculating coherence for 13 topics\n",
      "\n",
      "Calculating coherence for 14 topics\n",
      "\n",
      "Calculating coherence for 15 topics\n",
      "\n",
      "Calculating coherence for 16 topics\n",
      "\n",
      "Calculating coherence for 17 topics\n",
      "\n",
      "Calculating coherence for 18 topics\n",
      "\n",
      "Calculating coherence for 19 topics\n",
      "\n",
      "Calculating coherence for 20 topics\n",
      "\n",
      "Calculating coherence for 21 topics\n",
      "\n",
      "Calculating coherence for 22 topics\n",
      "\n",
      "Calculating coherence for 23 topics\n",
      "\n",
      "Calculating coherence for 24 topics\n",
      "\n",
      "Calculating coherence for 25 topics\n",
      "\n",
      "Calculating coherence for 26 topics\n",
      "\n",
      "Calculating coherence for 27 topics\n",
      "\n",
      "Calculating coherence for 28 topics\n",
      "\n",
      "Calculating coherence for 29 topics\n"
     ]
    }
   ],
   "source": [
    "min_topics, max_topics = 2,30\n",
    "coherence_scores = list(get_coherence_values(min_topics, max_topics))"
   ]
  },
  {
   "cell_type": "code",
   "execution_count": 67,
   "metadata": {},
   "outputs": [
    {
     "data": {
      "image/png": "[encoded data removed]",
      "text/plain": [
       "<Figure size 720x576 with 1 Axes>"
      ]
     },
     "metadata": {
      "needs_background": "light"
     },
     "output_type": "display_data"
    }
   ],
   "source": [
    "import matplotlib.pyplot as plt\n",
    "import matplotlib.style as style\n",
    "from matplotlib.ticker import MaxNLocator\n",
    "\n",
    "style.use('fivethirtyeight')\n",
    "\n",
    "%matplotlib inline\n",
    "\n",
    "x = [int(i) for i in range(min_topics, max_topics)]\n",
    "\n",
    "ax = plt.figure(figsize=(10,8))\n",
    "plt.xticks(x)\n",
    "plt.plot(x, coherence_scores)\n",
    "plt.xlabel('Number of topics')\n",
    "plt.ylabel('Coherence Value')\n",
    "plt.title('Coherence Scores', fontsize=10);\n",
    "\n",
    "#plt.xaxis.set_major_locator(MaxNLocator(integer=True))"
   ]
  },
  {
   "cell_type": "code",
   "execution_count": 60,
   "metadata": {},
   "outputs": [],
   "source": [
    "plt.title??"
   ]
  },
  {
   "cell_type": "code",
   "execution_count": null,
   "metadata": {},
   "outputs": [],
   "source": []
  }
 ],
 "metadata": {
  "kernelspec": {
   "display_name": "Python [conda env:packt]",
   "language": "python",
   "name": "conda-env-packt-py"
  },
  "language_info": {
   "codemirror_mode": {
    "name": "ipython",
    "version": 3
   },
   "file_extension": ".py",
   "mimetype": "text/x-python",
   "name": "python",
   "nbconvert_exporter": "python",
   "pygments_lexer": "ipython3",
   "version": "3.7.2"
  }
 },
 "nbformat": 4,
 "nbformat_minor": 2
}
