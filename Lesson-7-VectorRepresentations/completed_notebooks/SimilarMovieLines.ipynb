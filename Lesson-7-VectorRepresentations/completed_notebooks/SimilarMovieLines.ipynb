{
 "cells": [
  {
   "cell_type": "markdown",
   "metadata": {},
   "source": [
    "# Similar Movie Lines"
   ]
  },
  {
   "cell_type": "code",
   "execution_count": 9,
   "metadata": {},
   "outputs": [],
   "source": [
    "import warnings\n",
    "warnings.filterwarnings(\"ignore\")\n",
    "\n",
    "from gensim.models import Doc2Vec\n",
    "import pandas as pd"
   ]
  },
  {
   "cell_type": "code",
   "execution_count": 10,
   "metadata": {},
   "outputs": [],
   "source": [
    "docVecModel = Doc2Vec.load('../data/MovieLinesModel.d2v')"
   ]
  },
  {
   "cell_type": "code",
   "execution_count": 15,
   "metadata": {},
   "outputs": [],
   "source": [
    "movie_lines_file = '../data/cornell-movie-dialogs/movie_lines.txt'\n",
    "with open(movie_lines_file) as f:\n",
    "    movie_lines = [line.strip().split('+++$+++') \n",
    "                   for line in f.readlines()];\n",
    "\n",
    "lines_df = pd.DataFrame([{'LineNumber': d[0].strip(), \n",
    "                                'Person': d[3].strip(),\n",
    "                                'Line': d[4].strip(),\n",
    "                                 'Movie' : d[2].strip()} \n",
    "                              for d in movie_lines])\n",
    "lines_df = lines_df.set_index('LineNumber')"
   ]
  },
  {
   "cell_type": "code",
   "execution_count": 12,
   "metadata": {},
   "outputs": [],
   "source": [
    "from gensim.parsing.preprocessing import preprocess_string, remove_stopwords\n",
    "\n",
    "def to_vector(sentence):\n",
    "    cleaned = preprocess_string(sentence)\n",
    "    docVector = docVecModel.infer_vector(cleaned)\n",
    "    return docVector\n",
    "\n",
    "def similar_movie_lines(sentence):\n",
    "    vector = to_vector(sentence)\n",
    "    similar_vectors = docVecModel.docvecs.most_similar(positive=[vector])\n",
    "    similar_lines = [ lines_df.ix[line[0]].Line for line in similar_vectors]\n",
    "    return similar_lines"
   ]
  },
  {
   "cell_type": "code",
   "execution_count": 14,
   "metadata": {},
   "outputs": [
    {
     "data": {
      "text/plain": [
       "['Pack your shit! We gotta get outta here! We gotta get out!',\n",
       " \"Ruined a brand-new pair of Lee Press- ons.  Well, I sat down for a beer and KA- BLEWEY! Next thing I know, somethin' blows through my kitchen window. Next thing I know, I'm ass up in Loretta's flower bed.\",\n",
       " \"Now see? Don't do that. I'll go along with all you say about me. But that... you can't pretend no more on that. Cuz I was just a kid, Momma.  I didn't know about any of that stuff he was doin' to me.  And you let him do it. Some big nobody in your life... and you let him do as he wanted... with the only SOMEBODY you had.\",\n",
       " \"Nah, he's nothin'. It's just sometimes... sometimes you just gotta punch somebody out, y'know?\",\n",
       " \"No, you listen. We're partners now and even though I'm running the show for you, I'm still running the show. That means I get a little respect. So I don't want to hear anymore of this Scooter, Buddy, Junior, Skippy, Tiger, bullshit. It's Jake.  And I gotta tell you, for a guy who spends all his time in a gym, you could be in better shape.\",\n",
       " \"That goddamned woman. Thinks she can cart Jill off and leave me alone like this. I'm more than pissed, Margie. I'm a whole lot more than pissed. I been that plenty and I know the difference. This is different.\",\n",
       " \"You'll get your money. Don't talk to any newspapers about this. Twombley's a big deal down in Massachusetts, you know. Tell them your lawyer says you shouldn't comment.\",\n",
       " \"Let's get the fuck outta here. You're not making any sense, man.\",\n",
       " \"You?  Don't make me laugh.  You can't take care of shit.  You've been dicking me around since we started on this turd-hunt.  All you're good for is games... So far, what I got outta you is nothin'...\",\n",
       " \"That's no mystery. Julio and Paolo brought it in,  You don't want to hurt those boys, do you? I mean, they sure as Hell have got something coming, but it ain't what the Law wants to give them. You understand?  No. How could you understand.\"]"
      ]
     },
     "execution_count": 14,
     "metadata": {},
     "output_type": "execute_result"
    }
   ],
   "source": [
    "similar_movie_lines(\"Sure, that's easy.  You gotta insult somebody.\")"
   ]
  },
  {
   "cell_type": "code",
   "execution_count": null,
   "metadata": {},
   "outputs": [],
   "source": []
  }
 ],
 "metadata": {
  "kernelspec": {
   "display_name": "Python [conda env:packt]",
   "language": "python",
   "name": "conda-env-packt-py"
  },
  "language_info": {
   "codemirror_mode": {
    "name": "ipython",
    "version": 3
   },
   "file_extension": ".py",
   "mimetype": "text/x-python",
   "name": "python",
   "nbconvert_exporter": "python",
   "pygments_lexer": "ipython3",
   "version": "3.6.7"
  }
 },
 "nbformat": 4,
 "nbformat_minor": 2
}
