{
 "cells": [
  {
   "cell_type": "markdown",
   "metadata": {},
   "source": [
    "## Document Vectors"
   ]
  },
  {
   "cell_type": "code",
   "execution_count": 1,
   "metadata": {},
   "outputs": [
    {
     "name": "stderr",
     "output_type": "stream",
     "text": [
      "C:\\Users\\dwight\\Anaconda3\\envs\\packt\\lib\\site-packages\\gensim\\utils.py:1212: UserWarning: detected Windows; aliasing chunkize to chunkize_serial\n",
      "  warnings.warn(\"detected Windows; aliasing chunkize to chunkize_serial\")\n"
     ]
    }
   ],
   "source": [
    "import pandas as pd\n",
    "from gensim import utils\n",
    "from gensim.models.doc2vec import TaggedDocument\n",
    "from gensim.models import Doc2Vec\n",
    "from gensim.parsing.preprocessing import preprocess_string, remove_stopwords\n",
    "import random\n",
    "\n",
    "import warnings\n",
    "warnings.filterwarnings(\"ignore\")"
   ]
  },
  {
   "cell_type": "code",
   "execution_count": 2,
   "metadata": {},
   "outputs": [],
   "source": [
    "pd.set_option('display.max_colwidth', -1)"
   ]
  },
  {
   "cell_type": "code",
   "execution_count": 3,
   "metadata": {},
   "outputs": [],
   "source": [
    "movie_lines_file = 'data/cornell-movie-dialogs/movie_lines.txt'"
   ]
  },
  {
   "cell_type": "markdown",
   "metadata": {},
   "source": [
    "## Load the Movie Dialogs"
   ]
  },
  {
   "cell_type": "code",
   "execution_count": 4,
   "metadata": {},
   "outputs": [],
   "source": [
    "with open(movie_lines_file) as f:\n",
    "    movie_lines = [line.strip().split('+++$+++') for line in f.readlines()];\n",
    "\n",
    "lines_df = pd.DataFrame([{'LineNumber': d[0].strip(), \n",
    "                                'Person': d[3].strip(),\n",
    "                                'Line': d[4].strip(),\n",
    "                                 'Movie' : d[2].strip()} \n",
    "                              for d in movie_lines])\n",
    "lines_df = lines_df.set_index('LineNumber')"
   ]
  },
  {
   "cell_type": "code",
   "execution_count": 5,
   "metadata": {},
   "outputs": [
    {
     "data": {
      "text/html": [
       "<div>\n",
       "<style scoped>\n",
       "    .dataframe tbody tr th:only-of-type {\n",
       "        vertical-align: middle;\n",
       "    }\n",
       "\n",
       "    .dataframe tbody tr th {\n",
       "        vertical-align: top;\n",
       "    }\n",
       "\n",
       "    .dataframe thead th {\n",
       "        text-align: right;\n",
       "    }\n",
       "</style>\n",
       "<table border=\"1\" class=\"dataframe\">\n",
       "  <thead>\n",
       "    <tr style=\"text-align: right;\">\n",
       "      <th></th>\n",
       "      <th>Line</th>\n",
       "      <th>Movie</th>\n",
       "      <th>Person</th>\n",
       "    </tr>\n",
       "    <tr>\n",
       "      <th>LineNumber</th>\n",
       "      <th></th>\n",
       "      <th></th>\n",
       "      <th></th>\n",
       "    </tr>\n",
       "  </thead>\n",
       "  <tbody>\n",
       "    <tr>\n",
       "      <th>L1045</th>\n",
       "      <td>They do not!</td>\n",
       "      <td>m0</td>\n",
       "      <td>BIANCA</td>\n",
       "    </tr>\n",
       "    <tr>\n",
       "      <th>L1044</th>\n",
       "      <td>They do to!</td>\n",
       "      <td>m0</td>\n",
       "      <td>CAMERON</td>\n",
       "    </tr>\n",
       "    <tr>\n",
       "      <th>L985</th>\n",
       "      <td>I hope so.</td>\n",
       "      <td>m0</td>\n",
       "      <td>BIANCA</td>\n",
       "    </tr>\n",
       "    <tr>\n",
       "      <th>L984</th>\n",
       "      <td>She okay?</td>\n",
       "      <td>m0</td>\n",
       "      <td>CAMERON</td>\n",
       "    </tr>\n",
       "    <tr>\n",
       "      <th>L925</th>\n",
       "      <td>Let's go.</td>\n",
       "      <td>m0</td>\n",
       "      <td>BIANCA</td>\n",
       "    </tr>\n",
       "    <tr>\n",
       "      <th>L924</th>\n",
       "      <td>Wow</td>\n",
       "      <td>m0</td>\n",
       "      <td>CAMERON</td>\n",
       "    </tr>\n",
       "    <tr>\n",
       "      <th>L872</th>\n",
       "      <td>Okay -- you're gonna need to learn how to lie.</td>\n",
       "      <td>m0</td>\n",
       "      <td>BIANCA</td>\n",
       "    </tr>\n",
       "    <tr>\n",
       "      <th>L871</th>\n",
       "      <td>No</td>\n",
       "      <td>m0</td>\n",
       "      <td>CAMERON</td>\n",
       "    </tr>\n",
       "    <tr>\n",
       "      <th>L870</th>\n",
       "      <td>I'm kidding.  You know how sometimes you just become this \"persona\"?  And you don't know how to quit?</td>\n",
       "      <td>m0</td>\n",
       "      <td>BIANCA</td>\n",
       "    </tr>\n",
       "    <tr>\n",
       "      <th>L869</th>\n",
       "      <td>Like my fear of wearing pastels?</td>\n",
       "      <td>m0</td>\n",
       "      <td>BIANCA</td>\n",
       "    </tr>\n",
       "  </tbody>\n",
       "</table>\n",
       "</div>"
      ],
      "text/plain": [
       "                                                                                                             Line  \\\n",
       "LineNumber                                                                                                          \n",
       "L1045       They do not!                                                                                            \n",
       "L1044       They do to!                                                                                             \n",
       "L985        I hope so.                                                                                              \n",
       "L984        She okay?                                                                                               \n",
       "L925        Let's go.                                                                                               \n",
       "L924        Wow                                                                                                     \n",
       "L872        Okay -- you're gonna need to learn how to lie.                                                          \n",
       "L871        No                                                                                                      \n",
       "L870        I'm kidding.  You know how sometimes you just become this \"persona\"?  And you don't know how to quit?   \n",
       "L869        Like my fear of wearing pastels?                                                                        \n",
       "\n",
       "           Movie   Person  \n",
       "LineNumber                 \n",
       "L1045       m0    BIANCA   \n",
       "L1044       m0    CAMERON  \n",
       "L985        m0    BIANCA   \n",
       "L984        m0    CAMERON  \n",
       "L925        m0    BIANCA   \n",
       "L924        m0    CAMERON  \n",
       "L872        m0    BIANCA   \n",
       "L871        m0    CAMERON  \n",
       "L870        m0    BIANCA   \n",
       "L869        m0    BIANCA   "
      ]
     },
     "execution_count": 5,
     "metadata": {},
     "output_type": "execute_result"
    }
   ],
   "source": [
    "lines_df.head(10)"
   ]
  },
  {
   "cell_type": "code",
   "execution_count": 6,
   "metadata": {},
   "outputs": [
    {
     "data": {
      "text/plain": [
       "304713"
      ]
     },
     "execution_count": 6,
     "metadata": {},
     "output_type": "execute_result"
    }
   ],
   "source": [
    "len(lines_df)"
   ]
  },
  {
   "cell_type": "code",
   "execution_count": 7,
   "metadata": {},
   "outputs": [
    {
     "data": {
      "text/plain": [
       "Line      265786\n",
       "Movie     617   \n",
       "Person    5356  \n",
       "dtype: int64"
      ]
     },
     "execution_count": 7,
     "metadata": {},
     "output_type": "execute_result"
    }
   ],
   "source": [
    "lines_df.nunique()"
   ]
  },
  {
   "cell_type": "code",
   "execution_count": 8,
   "metadata": {},
   "outputs": [],
   "source": [
    "lines_df_small = lines_df.head(30000)"
   ]
  },
  {
   "cell_type": "code",
   "execution_count": 9,
   "metadata": {},
   "outputs": [],
   "source": [
    "class DocumentDataset(object):\n",
    "    \n",
    "    def __init__(self, data:pd.DataFrame, column):\n",
    "        document = data[column].apply(self.preprocess)\n",
    "        self.documents = [ TaggedDocument( text, [index]) \n",
    "                          for index, text in document.iteritems() ]\n",
    "      \n",
    "    def preprocess(self, document):\n",
    "        return preprocess_string(remove_stopwords(document))\n",
    "        \n",
    "    def __iter__(self):\n",
    "        for document in self.documents:\n",
    "            yield documents\n",
    "            \n",
    "    def tagged_documents(self, shuffle=False):\n",
    "        if shuffle:\n",
    "            random.shuffle(self.documents)\n",
    "        return self.documents"
   ]
  },
  {
   "cell_type": "code",
   "execution_count": 10,
   "metadata": {},
   "outputs": [],
   "source": [
    "documents_dataset = DocumentDataset(lines_df_small, 'Line')"
   ]
  },
  {
   "cell_type": "markdown",
   "metadata": {},
   "source": [
    "## Document Vector Model"
   ]
  },
  {
   "cell_type": "code",
   "execution_count": 46,
   "metadata": {},
   "outputs": [],
   "source": [
    "docVecModel = Doc2Vec(min_count=1, window=5, vector_size=100, sample=1e-4, negative=5, workers=8)\n",
    "docVecModel.build_vocab(documents_dataset.tagged_documents())"
   ]
  },
  {
   "cell_type": "code",
   "execution_count": 47,
   "metadata": {},
   "outputs": [],
   "source": [
    "docVecModel.train(documents_dataset.tagged_documents(shuffle=True),\n",
    "            total_examples = docVecModel.corpus_count,\n",
    "           epochs=50)"
   ]
  },
  {
   "cell_type": "code",
   "execution_count": 48,
   "metadata": {},
   "outputs": [
    {
     "data": {
      "text/plain": [
       "30000"
      ]
     },
     "execution_count": 48,
     "metadata": {},
     "output_type": "execute_result"
    }
   ],
   "source": [
    "docVecModel.corpus_count"
   ]
  },
  {
   "cell_type": "code",
   "execution_count": 49,
   "metadata": {},
   "outputs": [],
   "source": [
    "docVecModel.save('./MovieLinesModel.d2v')"
   ]
  },
  {
   "cell_type": "code",
   "execution_count": 50,
   "metadata": {},
   "outputs": [],
   "source": [
    "docVecModel = Doc2Vec.load('./MovieLinesModel.d2v')"
   ]
  },
  {
   "cell_type": "code",
   "execution_count": 51,
   "metadata": {},
   "outputs": [
    {
     "data": {
      "text/plain": [
       "array([ 0.01866384, -0.02735597,  0.03549554,  0.00713976, -0.01847037,\n",
       "       -0.01506324,  0.03233443, -0.00103617, -0.00867593, -0.00680243,\n",
       "        0.02211063, -0.05607864,  0.00808516,  0.02167984,  0.02369967,\n",
       "       -0.00482194,  0.01188265, -0.01593299, -0.02695863,  0.04368059,\n",
       "        0.04135476, -0.00860132, -0.01465065, -0.01475013, -0.02796558,\n",
       "       -0.01892305, -0.04271173,  0.02424238,  0.02734309, -0.01588328,\n",
       "       -0.02447372, -0.01749725,  0.02345474,  0.02215258,  0.00399251,\n",
       "       -0.01948022,  0.04782292, -0.03483102,  0.01025285,  0.01850846,\n",
       "       -0.00079973, -0.01347592,  0.00711358, -0.00880826, -0.02834569,\n",
       "        0.00404858, -0.02255294, -0.00014672, -0.00089197,  0.00308281,\n",
       "        0.00877306, -0.01419876, -0.00951246, -0.03783526,  0.01385397,\n",
       "        0.00681171,  0.0145361 ,  0.00814926,  0.02878785,  0.01502499,\n",
       "        0.00796805,  0.00140703,  0.00832248,  0.03809201,  0.03784403,\n",
       "       -0.02252224, -0.0242405 , -0.00084603,  0.01930428, -0.01540375,\n",
       "        0.03341902,  0.04325412, -0.03126096, -0.02345568,  0.01451337,\n",
       "        0.03164024, -0.02111735,  0.03708459, -0.02093035, -0.00906683,\n",
       "       -0.03773112,  0.01569608,  0.04181673, -0.01311822,  0.00505053,\n",
       "       -0.00288855, -0.01556934, -0.02922522,  0.00845616, -0.01908216,\n",
       "       -0.03215797,  0.01140393, -0.00661147,  0.00599824, -0.00334733,\n",
       "        0.00826877, -0.02586371, -0.0097756 , -0.00959914, -0.00719443],\n",
       "      dtype=float32)"
      ]
     },
     "execution_count": 51,
     "metadata": {},
     "output_type": "execute_result"
    }
   ],
   "source": [
    "docVecModel['L872']"
   ]
  },
  {
   "cell_type": "code",
   "execution_count": 52,
   "metadata": {},
   "outputs": [],
   "source": [
    "import matplotlib.pyplot as plt\n",
    "plt.style.use('fivethirtyeight')\n",
    "\n",
    "def show_image(vector, line):\n",
    "    fig, ax = plt.subplots(1,1, figsize=(10, 2))\n",
    "    ax.tick_params(axis='both', \n",
    "                   which='both',\n",
    "                   left=False, \n",
    "                   bottom=False, \n",
    "                   top=False,\n",
    "                   labelleft=False, \n",
    "                   labelbottom=False)\n",
    "    ax.grid(False)\n",
    "    print(line)\n",
    "    ax.bar(range(len(vector)), vector, 0.5)\n",
    "   \n",
    "    \n",
    "def show_movie_line(line_number):\n",
    "    line = lines_df_small.ix[line_number].Line\n",
    "    doc_vector = docVecModel.docvecs[line_number]\n",
    "    show_image(doc_vector, line)\n",
    "    "
   ]
  },
  {
   "cell_type": "code",
   "execution_count": 53,
   "metadata": {},
   "outputs": [
    {
     "name": "stdout",
     "output_type": "stream",
     "text": [
      "Okay -- you're gonna need to learn how to lie.\n"
     ]
    },
    {
     "data": {
      "image/png": "[encoded data removed]",
      "text/plain": [
       "<Figure size 720x144 with 1 Axes>"
      ]
     },
     "metadata": {},
     "output_type": "display_data"
    }
   ],
   "source": [
    "show_movie_line('L872')"
   ]
  },
  {
   "cell_type": "code",
   "execution_count": 54,
   "metadata": {},
   "outputs": [
    {
     "data": {
      "text/plain": [
       "[('L676', 0.9881579875946045),\n",
       " ('L86032', 0.9879317283630371),\n",
       " ('L1969', 0.9879207611083984),\n",
       " ('L180595', 0.9878414273262024),\n",
       " ('L12843', 0.9876194000244141),\n",
       " ('L152290', 0.9875737428665161),\n",
       " ('L154620', 0.9874549508094788),\n",
       " ('L36178', 0.9873555898666382),\n",
       " ('L63491', 0.9872928857803345),\n",
       " ('L108376', 0.9872809648513794)]"
      ]
     },
     "execution_count": 54,
     "metadata": {},
     "output_type": "execute_result"
    }
   ],
   "source": [
    "docVecModel.docvecs.most_similar('L872')"
   ]
  },
  {
   "cell_type": "code",
   "execution_count": 55,
   "metadata": {},
   "outputs": [
    {
     "data": {
      "text/plain": [
       "array([ 0.07918931, -0.11128215,  0.14288422,  0.05840376, -0.06913726,\n",
       "       -0.04564675,  0.13935633, -0.0106218 , -0.01601848, -0.00119559,\n",
       "        0.09809092, -0.219161  ,  0.03323852,  0.0622897 ,  0.09784341,\n",
       "       -0.04035963,  0.04026068, -0.0456994 , -0.09787921,  0.1621191 ,\n",
       "        0.12565862, -0.02673963, -0.05587982, -0.07064212, -0.09823041,\n",
       "       -0.12081803, -0.18018179,  0.08545975,  0.09305809, -0.01201336,\n",
       "       -0.08316568, -0.07765922,  0.09118313,  0.08199399, -0.00537313,\n",
       "       -0.06269784,  0.15833326, -0.16441968,  0.08034242,  0.10763832,\n",
       "        0.00854068, -0.03640484,  0.05252248, -0.03184893, -0.10570426,\n",
       "        0.04920022, -0.0787921 ,  0.01562028, -0.03367692, -0.013585  ,\n",
       "        0.01752111, -0.05164638, -0.03883858, -0.1353151 ,  0.01088692,\n",
       "        0.06562237,  0.08549677, -0.00304105,  0.12178278,  0.05605505,\n",
       "        0.05166774, -0.00210338,  0.05379085,  0.15335362,  0.16358349,\n",
       "       -0.06230864, -0.08353282,  0.02057196,  0.07104551, -0.09404911,\n",
       "        0.17313078,  0.18773207, -0.13986847, -0.10587231,  0.07051153,\n",
       "        0.1844605 , -0.10455617,  0.12921569, -0.08843452, -0.03620446,\n",
       "       -0.17362864,  0.06467112,  0.16843805, -0.0936838 , -0.02376301,\n",
       "       -0.00432349, -0.07035898, -0.11239742,  0.01981279, -0.07177925,\n",
       "       -0.14700651,  0.03512678, -0.03854213,  0.03153127, -0.00403843,\n",
       "        0.04905634, -0.09618969, -0.04889194, -0.0315274 , -0.01773806],\n",
       "      dtype=float32)"
      ]
     },
     "execution_count": 55,
     "metadata": {},
     "output_type": "execute_result"
    }
   ],
   "source": [
    "docVecModel['L3246']"
   ]
  },
  {
   "cell_type": "code",
   "execution_count": 70,
   "metadata": {},
   "outputs": [],
   "source": [
    "def to_vector(sentence):\n",
    "    cleaned = preprocess_string(sentence)\n",
    "    docVector = docVecModel.infer_vector(cleaned)\n",
    "    return docVector"
   ]
  },
  {
   "cell_type": "code",
   "execution_count": 56,
   "metadata": {},
   "outputs": [
    {
     "name": "stdout",
     "output_type": "stream",
     "text": [
      "Okay -- you're gonna need to learn how to lie.\n"
     ]
    },
    {
     "data": {
      "image/png": "[encoded data removed]",
      "text/plain": [
       "<Figure size 720x144 with 1 Axes>"
      ]
     },
     "metadata": {},
     "output_type": "display_data"
    }
   ],
   "source": [
    "show_movie_line('L872')"
   ]
  },
  {
   "cell_type": "code",
   "execution_count": null,
   "metadata": {},
   "outputs": [],
   "source": []
  },
  {
   "cell_type": "code",
   "execution_count": 62,
   "metadata": {},
   "outputs": [
    {
     "name": "stdout",
     "output_type": "stream",
     "text": [
      "you're gonna need to learn not to tell lies\n"
     ]
    },
    {
     "data": {
      "image/png": "[encoded data removed]",
      "text/plain": [
       "<Figure size 720x144 with 1 Axes>"
      ]
     },
     "metadata": {},
     "output_type": "display_data"
    }
   ],
   "source": [
    "line = \"you're gonna need to learn not to tell lies\"\n",
    "show_image(to_vector(\"you're gonna need to learn how to lie\"), line)"
   ]
  },
  {
   "cell_type": "code",
   "execution_count": 71,
   "metadata": {},
   "outputs": [
    {
     "data": {
      "text/plain": [
       "[\"Oh, I don't know. I mean look around. Isn't this a fun place?\",\n",
       " 'No, have fun first. Then laugh. Now, forget about marriage for a while. Go party.',\n",
       " \"Want to hear something great? Bobbie and Phoebe are throwing me a shower. It's really gonna be fun.\",\n",
       " \"You're making fun of my family. You know there's nothing to steal from my mom and Craig. You know exactly what you're saying.\",\n",
       " 'Not as much fun as the bachelor party the guys are throwing for me.',\n",
       " \"I can't tell you how happy I am to hear that. I mean, I don't mean I'm happy you're uncomfortable, but, yknow... I'm such a loser. Every time I come to a party I tell myself I'm going to be different and it's always exactly the same and then I hate myself after for being such a clod.\",\n",
       " \"The point I'm trying to make is that this is a blessing.  It's going to be fun doing this show and we should all look at it that way.\",\n",
       " \"You guess he's your boyfriend? Or you guess you're having a bad time with him?\",\n",
       " \"Yes, well, it's all good fun.\",\n",
       " \"They will make fun of you for listening to an old woman's stories?\"]"
      ]
     },
     "execution_count": 71,
     "metadata": {},
     "output_type": "execute_result"
    }
   ],
   "source": [
    "def similar_movie_lines(sentence):\n",
    "    vector = to_vector(sentence)\n",
    "    similar_vectors = docVecModel.docvecs.most_similar(positive=[vector])\n",
    "    similar_lines = [ lines_df_small.ix[line[0]].Line for line in similar_vectors]\n",
    "    return similar_lines\n",
    "\n",
    "similar_movie_lines(\"Oh, I don't know. I mean look around. Isn't this a fun place?\")"
   ]
  },
  {
   "cell_type": "code",
   "execution_count": 45,
   "metadata": {},
   "outputs": [
    {
     "data": {
      "text/plain": [
       "'Okay, ten thousand plus a G.E. toaster oven, a Litton microwave, a Cuisinart...'"
      ]
     },
     "execution_count": 45,
     "metadata": {},
     "output_type": "execute_result"
    }
   ],
   "source": [
    "lines_df_small.ix['L59293'].Line"
   ]
  },
  {
   "cell_type": "code",
   "execution_count": 39,
   "metadata": {},
   "outputs": [
    {
     "ename": "TypeError",
     "evalue": "'<' not supported between instances of 'str' and 'int'",
     "output_type": "error",
     "traceback": [
      "\u001b[1;31m---------------------------------------------------------------------------\u001b[0m",
      "\u001b[1;31mTypeError\u001b[0m                                 Traceback (most recent call last)",
      "\u001b[1;32m<ipython-input-39-3f7b53e40bc0>\u001b[0m in \u001b[0;36m<module>\u001b[1;34m\u001b[0m\n\u001b[1;32m----> 1\u001b[1;33m \u001b[0mdocVecModel\u001b[0m\u001b[1;33m.\u001b[0m\u001b[0mdocvecs\u001b[0m\u001b[1;33m.\u001b[0m\u001b[0mmost_similar\u001b[0m\u001b[1;33m(\u001b[0m\u001b[1;34m'a'\u001b[0m\u001b[1;33m)\u001b[0m\u001b[1;33m\u001b[0m\u001b[1;33m\u001b[0m\u001b[0m\n\u001b[0m",
      "\u001b[1;32m~\\Anaconda3\\envs\\packt\\lib\\site-packages\\gensim\\models\\keyedvectors.py\u001b[0m in \u001b[0;36mmost_similar\u001b[1;34m(self, positive, negative, topn, clip_start, clip_end, indexer)\u001b[0m\n\u001b[0;32m   1647\u001b[0m             \u001b[1;32mif\u001b[0m \u001b[0misinstance\u001b[0m\u001b[1;33m(\u001b[0m\u001b[0mdoc\u001b[0m\u001b[1;33m,\u001b[0m \u001b[0mndarray\u001b[0m\u001b[1;33m)\u001b[0m\u001b[1;33m:\u001b[0m\u001b[1;33m\u001b[0m\u001b[1;33m\u001b[0m\u001b[0m\n\u001b[0;32m   1648\u001b[0m                 \u001b[0mmean\u001b[0m\u001b[1;33m.\u001b[0m\u001b[0mappend\u001b[0m\u001b[1;33m(\u001b[0m\u001b[0mweight\u001b[0m \u001b[1;33m*\u001b[0m \u001b[0mdoc\u001b[0m\u001b[1;33m)\u001b[0m\u001b[1;33m\u001b[0m\u001b[1;33m\u001b[0m\u001b[0m\n\u001b[1;32m-> 1649\u001b[1;33m             \u001b[1;32melif\u001b[0m \u001b[0mdoc\u001b[0m \u001b[1;32min\u001b[0m \u001b[0mself\u001b[0m\u001b[1;33m.\u001b[0m\u001b[0mdoctags\u001b[0m \u001b[1;32mor\u001b[0m \u001b[0mdoc\u001b[0m \u001b[1;33m<\u001b[0m \u001b[0mself\u001b[0m\u001b[1;33m.\u001b[0m\u001b[0mcount\u001b[0m\u001b[1;33m:\u001b[0m\u001b[1;33m\u001b[0m\u001b[1;33m\u001b[0m\u001b[0m\n\u001b[0m\u001b[0;32m   1650\u001b[0m                 \u001b[0mmean\u001b[0m\u001b[1;33m.\u001b[0m\u001b[0mappend\u001b[0m\u001b[1;33m(\u001b[0m\u001b[0mweight\u001b[0m \u001b[1;33m*\u001b[0m \u001b[0mself\u001b[0m\u001b[1;33m.\u001b[0m\u001b[0mvectors_docs_norm\u001b[0m\u001b[1;33m[\u001b[0m\u001b[0mself\u001b[0m\u001b[1;33m.\u001b[0m\u001b[0m_int_index\u001b[0m\u001b[1;33m(\u001b[0m\u001b[0mdoc\u001b[0m\u001b[1;33m,\u001b[0m \u001b[0mself\u001b[0m\u001b[1;33m.\u001b[0m\u001b[0mdoctags\u001b[0m\u001b[1;33m,\u001b[0m \u001b[0mself\u001b[0m\u001b[1;33m.\u001b[0m\u001b[0mmax_rawint\u001b[0m\u001b[1;33m)\u001b[0m\u001b[1;33m]\u001b[0m\u001b[1;33m)\u001b[0m\u001b[1;33m\u001b[0m\u001b[1;33m\u001b[0m\u001b[0m\n\u001b[0;32m   1651\u001b[0m                 \u001b[0mall_docs\u001b[0m\u001b[1;33m.\u001b[0m\u001b[0madd\u001b[0m\u001b[1;33m(\u001b[0m\u001b[0mself\u001b[0m\u001b[1;33m.\u001b[0m\u001b[0m_int_index\u001b[0m\u001b[1;33m(\u001b[0m\u001b[0mdoc\u001b[0m\u001b[1;33m,\u001b[0m \u001b[0mself\u001b[0m\u001b[1;33m.\u001b[0m\u001b[0mdoctags\u001b[0m\u001b[1;33m,\u001b[0m \u001b[0mself\u001b[0m\u001b[1;33m.\u001b[0m\u001b[0mmax_rawint\u001b[0m\u001b[1;33m)\u001b[0m\u001b[1;33m)\u001b[0m\u001b[1;33m\u001b[0m\u001b[1;33m\u001b[0m\u001b[0m\n",
      "\u001b[1;31mTypeError\u001b[0m: '<' not supported between instances of 'str' and 'int'"
     ]
    }
   ],
   "source": [
    "docVecModel.docvecs.most_similar('a')"
   ]
  },
  {
   "cell_type": "code",
   "execution_count": null,
   "metadata": {},
   "outputs": [],
   "source": []
  }
 ],
 "metadata": {
  "kernelspec": {
   "display_name": "Python [conda env:packt]",
   "language": "python",
   "name": "conda-env-packt-py"
  },
  "language_info": {
   "codemirror_mode": {
    "name": "ipython",
    "version": 3
   },
   "file_extension": ".py",
   "mimetype": "text/x-python",
   "name": "python",
   "nbconvert_exporter": "python",
   "pygments_lexer": "ipython3",
   "version": "3.6.7"
  }
 },
 "nbformat": 4,
 "nbformat_minor": 2
}
