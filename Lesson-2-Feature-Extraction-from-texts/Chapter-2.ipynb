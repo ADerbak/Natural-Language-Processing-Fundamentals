{
 "cells": [
  {
   "cell_type": "code",
   "execution_count": 21,
   "metadata": {},
   "outputs": [],
   "source": [
    "import warnings\n",
    "warnings.filterwarnings('ignore')"
   ]
  },
  {
   "cell_type": "markdown",
   "metadata": {},
   "source": [
    "# Exercise 1 : Text cleaning and Tokenization"
   ]
  },
  {
   "cell_type": "markdown",
   "metadata": {},
   "source": [
    "Clean the following texts and extract tokens from it.\n",
    "\n",
    "Sunil tweeted, “WatchiWitnessing India's 70th Republic Day from Rajpath, New Delhi. Mesmerizing performance by Indian Army! Awesome airshow! @india_official @indian_army  #India #70thRepublic_Day. For more photos ping me sunil@photoking.com :) ”"
   ]
  },
  {
   "cell_type": "code",
   "execution_count": 1,
   "metadata": {},
   "outputs": [],
   "source": [
    "import re"
   ]
  },
  {
   "cell_type": "code",
   "execution_count": 8,
   "metadata": {},
   "outputs": [],
   "source": [
    "sentence = 'Sunil tweeted, \"Witnessing 70th Republic Day of India from Rajpath, \\\n",
    "New Delhi. Mesmerizing performance by Indian Army! Awesome airshow! @india_official \\\n",
    "@indian_army #India #70thRepublic_Day. For more photos ping me sunil@photoking.com :)\"'"
   ]
  },
  {
   "cell_type": "code",
   "execution_count": 9,
   "metadata": {},
   "outputs": [
    {
     "data": {
      "text/plain": [
       "['Sunil',\n",
       " 'tweeted',\n",
       " 'Witnessing',\n",
       " '70th',\n",
       " 'Republic',\n",
       " 'Day',\n",
       " 'of',\n",
       " 'India',\n",
       " 'from',\n",
       " 'Rajpath',\n",
       " 'New',\n",
       " 'Delhi',\n",
       " 'Mesmerizing',\n",
       " 'performance',\n",
       " 'by',\n",
       " 'Indian',\n",
       " 'Army',\n",
       " 'Awesome',\n",
       " 'airshow',\n",
       " 'india',\n",
       " 'official',\n",
       " 'indian',\n",
       " 'army',\n",
       " 'India',\n",
       " '70thRepublic',\n",
       " 'Day',\n",
       " 'For',\n",
       " 'more',\n",
       " 'photos',\n",
       " 'ping',\n",
       " 'me',\n",
       " 'sunil',\n",
       " 'photoking',\n",
       " 'com']"
      ]
     },
     "execution_count": 9,
     "metadata": {},
     "output_type": "execute_result"
    }
   ],
   "source": [
    "re.sub(r'([^\\s\\w]|_)+', ' ', sentence).split()"
   ]
  },
  {
   "cell_type": "markdown",
   "metadata": {},
   "source": [
    "# Exercise 2 : Extracting n-grams"
   ]
  },
  {
   "cell_type": "markdown",
   "metadata": {},
   "source": [
    "Extract bi-grams, tri-grams from the text:<br>\n",
    "Sunil tweeted, “Witnessing 70th Republic Day of India from Rajpath, New Delhi. Mesmerizing performance by Indian Army! Awesome airshow! @india_official @indian_army  #India #70thRepublic_Day. For more photos ping me sunil@photoking.com :) ”\n",
    "<br>\n",
    "Using<br>\n",
    "i) Custom defined function<br>\n",
    "ii) NLTK<br>\n",
    "iii) TextBlob<br>"
   ]
  },
  {
   "cell_type": "code",
   "execution_count": 28,
   "metadata": {},
   "outputs": [],
   "source": [
    "sentence = 'Sunil tweeted, \"Witnessing 70th Republic Day of India from Rajpath, \\\n",
    "New Delhi. Mesmerizing performance by Indian Army! Awesome airshow! @india_official \\\n",
    "@indian_army #India #70thRepublic_Day. For more photos ping me sunil@photoking.com :)\"'"
   ]
  },
  {
   "cell_type": "code",
   "execution_count": 25,
   "metadata": {},
   "outputs": [],
   "source": [
    "#i) Extracting n-grams using customed defined function\n",
    "import re\n",
    "def n_gram_extractor(sentence, n):\n",
    "    tokens = re.sub(r'([^\\s\\w]|_)+', ' ', sentence).split()\n",
    "    for i in range(len(tokens)-n+1):\n",
    "        print(tokens[i:i+n])"
   ]
  },
  {
   "cell_type": "code",
   "execution_count": 31,
   "metadata": {},
   "outputs": [
    {
     "name": "stdout",
     "output_type": "stream",
     "text": [
      "['The', 'cute']\n",
      "['cute', 'little']\n",
      "['little', 'boy']\n",
      "['boy', 'is']\n",
      "['is', 'playing']\n",
      "['playing', 'with']\n",
      "['with', 'the']\n",
      "['the', 'kitten']\n"
     ]
    }
   ],
   "source": [
    "n_gram_extractor('The cute little boy is playing with the kitten.', 2)"
   ]
  },
  {
   "cell_type": "code",
   "execution_count": 32,
   "metadata": {},
   "outputs": [
    {
     "name": "stdout",
     "output_type": "stream",
     "text": [
      "['The', 'cute', 'little']\n",
      "['cute', 'little', 'boy']\n",
      "['little', 'boy', 'is']\n",
      "['boy', 'is', 'playing']\n",
      "['is', 'playing', 'with']\n",
      "['playing', 'with', 'the']\n",
      "['with', 'the', 'kitten']\n"
     ]
    }
   ],
   "source": [
    "n_gram_extractor('The cute little boy is playing with the kitten.', 3)"
   ]
  },
  {
   "cell_type": "code",
   "execution_count": 36,
   "metadata": {},
   "outputs": [
    {
     "data": {
      "text/plain": [
       "[('The', 'cute'),\n",
       " ('cute', 'little'),\n",
       " ('little', 'boy'),\n",
       " ('boy', 'is'),\n",
       " ('is', 'playing'),\n",
       " ('playing', 'with'),\n",
       " ('with', 'the'),\n",
       " ('the', 'kitten.')]"
      ]
     },
     "execution_count": 36,
     "metadata": {},
     "output_type": "execute_result"
    }
   ],
   "source": [
    "#ii) Extracting n-grams with nltk\n",
    "from nltk import ngrams\n",
    "list(ngrams('The cute little boy is playing with the kitten.'.split(), 2))"
   ]
  },
  {
   "cell_type": "code",
   "execution_count": 35,
   "metadata": {},
   "outputs": [
    {
     "data": {
      "text/plain": [
       "[('The', 'cute', 'little'),\n",
       " ('cute', 'little', 'boy'),\n",
       " ('little', 'boy', 'is'),\n",
       " ('boy', 'is', 'playing'),\n",
       " ('is', 'playing', 'with'),\n",
       " ('playing', 'with', 'the'),\n",
       " ('with', 'the', 'kitten.')]"
      ]
     },
     "execution_count": 35,
     "metadata": {},
     "output_type": "execute_result"
    }
   ],
   "source": [
    "list(ngrams('The cute little boy is playing with the kitten.'.split(), 3))"
   ]
  },
  {
   "cell_type": "code",
   "execution_count": 42,
   "metadata": {},
   "outputs": [
    {
     "data": {
      "text/plain": [
       "[WordList(['The', 'cute']),\n",
       " WordList(['cute', 'little']),\n",
       " WordList(['little', 'boy']),\n",
       " WordList(['boy', 'is']),\n",
       " WordList(['is', 'playing']),\n",
       " WordList(['playing', 'with']),\n",
       " WordList(['with', 'the']),\n",
       " WordList(['the', 'kitten'])]"
      ]
     },
     "execution_count": 42,
     "metadata": {},
     "output_type": "execute_result"
    }
   ],
   "source": [
    "#iii) Extracting n-grams using TextBlob\n",
    "from textblob import TextBlob\n",
    "blob = TextBlob(\"The cute little boy is playing with the kitten.\")\n",
    "blob.ngrams(n=2)"
   ]
  },
  {
   "cell_type": "code",
   "execution_count": 43,
   "metadata": {},
   "outputs": [
    {
     "data": {
      "text/plain": [
       "[WordList(['The', 'cute', 'little']),\n",
       " WordList(['cute', 'little', 'boy']),\n",
       " WordList(['little', 'boy', 'is']),\n",
       " WordList(['boy', 'is', 'playing']),\n",
       " WordList(['is', 'playing', 'with']),\n",
       " WordList(['playing', 'with', 'the']),\n",
       " WordList(['with', 'the', 'kitten'])]"
      ]
     },
     "execution_count": 43,
     "metadata": {},
     "output_type": "execute_result"
    }
   ],
   "source": [
    "blob.ngrams(n=3)"
   ]
  },
  {
   "cell_type": "markdown",
   "metadata": {},
   "source": [
    "# Exercise 3 : Tokenizing texts with different packages: Keras, Textblob"
   ]
  },
  {
   "cell_type": "markdown",
   "metadata": {},
   "source": [
    "Tokenize the following sentence using <br>\n",
    "i) Keras <br>\n",
    "ii) Textblob <br>\n",
    "\n",
    "Sunil tweeted, “Witnessing 70th Republic Day of India from Rajpath, New Delhi. Mesmerizing performance by Indian Army! Awesome airshow! @india_official @indian_army  #India #70thRepublic_Day. For more photos ping me sunil@photoking.com :) ”"
   ]
  },
  {
   "cell_type": "code",
   "execution_count": 44,
   "metadata": {},
   "outputs": [],
   "source": [
    "sentence = 'Sunil tweeted, \"Witnessing 70th Republic Day of India from Rajpath, \\\n",
    "New Delhi. Mesmerizing performance by Indian Army! Awesome airshow! @india_official \\\n",
    "@indian_army #India #70thRepublic_Day. For more photos ping me sunil@photoking.com :)\"'"
   ]
  },
  {
   "cell_type": "code",
   "execution_count": 54,
   "metadata": {},
   "outputs": [
    {
     "data": {
      "text/plain": [
       "['sunil',\n",
       " 'tweeted',\n",
       " 'witnessing',\n",
       " '70th',\n",
       " 'republic',\n",
       " 'day',\n",
       " 'of',\n",
       " 'india',\n",
       " 'from',\n",
       " 'rajpath',\n",
       " 'new',\n",
       " 'delhi',\n",
       " 'mesmerizing',\n",
       " 'performance',\n",
       " 'by',\n",
       " 'indian',\n",
       " 'army',\n",
       " 'awesome',\n",
       " 'airshow',\n",
       " 'india',\n",
       " 'official',\n",
       " 'indian',\n",
       " 'army',\n",
       " 'india',\n",
       " '70threpublic',\n",
       " 'day',\n",
       " 'for',\n",
       " 'more',\n",
       " 'photos',\n",
       " 'ping',\n",
       " 'me',\n",
       " 'sunil',\n",
       " 'photoking',\n",
       " 'com']"
      ]
     },
     "execution_count": 54,
     "metadata": {},
     "output_type": "execute_result"
    }
   ],
   "source": [
    "#i) Tolenization with Keras\n",
    "from keras.preprocessing.text import text_to_word_sequence\n",
    "text_to_word_sequence(sentence)"
   ]
  },
  {
   "cell_type": "code",
   "execution_count": 45,
   "metadata": {},
   "outputs": [
    {
     "data": {
      "text/plain": [
       "WordList(['Sunil', 'tweeted', 'Witnessing', '70th', 'Republic', 'Day', 'of', 'India', 'from', 'Rajpath', 'New', 'Delhi', 'Mesmerizing', 'performance', 'by', 'Indian', 'Army', 'Awesome', 'airshow', 'india_official', 'indian_army', 'India', '70thRepublic_Day', 'For', 'more', 'photos', 'ping', 'me', 'sunil', 'photoking.com'])"
      ]
     },
     "execution_count": 45,
     "metadata": {},
     "output_type": "execute_result"
    }
   ],
   "source": [
    "#ii) Tokenization with TextBlob\n",
    "from textblob import TextBlob\n",
    "blob = TextBlob(sentence)\n",
    "blob.words"
   ]
  },
  {
   "cell_type": "markdown",
   "metadata": {},
   "source": [
    "# Exercise 4 : Other nltk tokenizers"
   ]
  },
  {
   "cell_type": "markdown",
   "metadata": {},
   "source": [
    "Tokenize the following sentence using <br>\n",
    "i) Tweet Tokenizer <br>\n",
    "ii) MWE Tokenizer <br>\n",
    "iii) Regexp Tokenizer <br>\n",
    "iv) Whitespace Tokenizer <br>\n",
    "v) Word Punct Tokenizer <br>\n",
    "\n",
    "Sunil tweeted, “Witnessing 70th Republic Day of India from Rajpath, New Delhi. Mesmerizing performance by Indian Army. Awesome airshow! @india_official @indian_army  #India #70thRepublic_Day. For more photos ping me sunil@photoking.com :) ”\n"
   ]
  },
  {
   "cell_type": "code",
   "execution_count": 13,
   "metadata": {},
   "outputs": [],
   "source": [
    "sentence = 'Sunil tweeted, \"Witnessing 70th Republic Day of India from Rajpath, \\\n",
    "New Delhi. Mesmerizing performance by Indian Army! Awesome airshow! @india_official \\\n",
    "@indian_army #India #70thRepublic_Day. For more photos ping me sunil@photoking.com :)\"'"
   ]
  },
  {
   "cell_type": "code",
   "execution_count": 14,
   "metadata": {},
   "outputs": [
    {
     "data": {
      "text/plain": [
       "['Sunil',\n",
       " 'tweeted',\n",
       " ',',\n",
       " '\"',\n",
       " 'Witnessing',\n",
       " '70th',\n",
       " 'Republic',\n",
       " 'Day',\n",
       " 'of',\n",
       " 'India',\n",
       " 'from',\n",
       " 'Rajpath',\n",
       " ',',\n",
       " 'New',\n",
       " 'Delhi',\n",
       " '.',\n",
       " 'Mesmerizing',\n",
       " 'performance',\n",
       " 'by',\n",
       " 'Indian',\n",
       " 'Army',\n",
       " '!',\n",
       " 'Awesome',\n",
       " 'airshow',\n",
       " '!',\n",
       " '@india_official',\n",
       " '@indian_army',\n",
       " '#India',\n",
       " '#70thRepublic_Day',\n",
       " '.',\n",
       " 'For',\n",
       " 'more',\n",
       " 'photos',\n",
       " 'ping',\n",
       " 'me',\n",
       " 'sunil@photoking.com',\n",
       " ':)',\n",
       " '\"']"
      ]
     },
     "execution_count": 14,
     "metadata": {},
     "output_type": "execute_result"
    }
   ],
   "source": [
    "#i) Tweet tokenizer\n",
    "from nltk.tokenize import TweetTokenizer\n",
    "tweet_tokenizer = TweetTokenizer()\n",
    "tweet_tokenizer.tokenize(sentence)"
   ]
  },
  {
   "cell_type": "code",
   "execution_count": 15,
   "metadata": {},
   "outputs": [],
   "source": [
    "#ii) MWE Tokenizer\n",
    "from nltk.tokenize import MWETokenizer\n",
    "mwe_tokenizer = MWETokenizer([('Republic', 'Day')]) #Declaring set of words that are to be treated as one entity\n",
    "mwe_tokenizer.add_mwe(('Indian', 'Army')) #Adding more words to the set"
   ]
  },
  {
   "cell_type": "code",
   "execution_count": 17,
   "metadata": {},
   "outputs": [
    {
     "data": {
      "text/plain": [
       "['Sunil',\n",
       " 'tweeted,',\n",
       " '\"Witnessing',\n",
       " '70th',\n",
       " 'Republic_Day',\n",
       " 'of',\n",
       " 'India',\n",
       " 'from',\n",
       " 'Rajpath,',\n",
       " 'New',\n",
       " 'Delhi.',\n",
       " 'Mesmerizing',\n",
       " 'performance',\n",
       " 'by',\n",
       " 'Indian',\n",
       " 'Army!',\n",
       " 'Awesome',\n",
       " 'airshow!',\n",
       " '@india_official',\n",
       " '@indian_army',\n",
       " '#India',\n",
       " '#70thRepublic_Day.',\n",
       " 'For',\n",
       " 'more',\n",
       " 'photos',\n",
       " 'ping',\n",
       " 'me',\n",
       " 'sunil@photoking.com',\n",
       " ':)\"']"
      ]
     },
     "execution_count": 17,
     "metadata": {},
     "output_type": "execute_result"
    }
   ],
   "source": [
    "mwe_tokenizer.tokenize(sentence.split())"
   ]
  },
  {
   "cell_type": "markdown",
   "metadata": {},
   "source": [
    "Did you observe that when the above line of code was executed words like \"Indian\" and \"Army\" which were supposed to be treated as single identity got separated. Do you know why? It happened because \"Army!\"  (not \"Army\") is treated as a token. Let's see how can this be fixed."
   ]
  },
  {
   "cell_type": "code",
   "execution_count": 16,
   "metadata": {},
   "outputs": [
    {
     "data": {
      "text/plain": [
       "['Sunil',\n",
       " 'tweeted,',\n",
       " '\"Witnessing',\n",
       " '70th',\n",
       " 'Republic_Day',\n",
       " 'of',\n",
       " 'India',\n",
       " 'from',\n",
       " 'Rajpath,',\n",
       " 'New',\n",
       " 'Delhi.',\n",
       " 'Mesmerizing',\n",
       " 'performance',\n",
       " 'by',\n",
       " 'Indian_Army',\n",
       " 'Awesome',\n",
       " 'airshow',\n",
       " '@india_official',\n",
       " '@indian_army',\n",
       " '#India',\n",
       " '#70thRepublic_Day.',\n",
       " 'For',\n",
       " 'more',\n",
       " 'photos',\n",
       " 'ping',\n",
       " 'me',\n",
       " 'sunil@photoking.com',\n",
       " ':)\"']"
      ]
     },
     "execution_count": 16,
     "metadata": {},
     "output_type": "execute_result"
    }
   ],
   "source": [
    "mwe_tokenizer.tokenize(sentence.replace('!','').split())"
   ]
  },
  {
   "cell_type": "code",
   "execution_count": 18,
   "metadata": {},
   "outputs": [
    {
     "data": {
      "text/plain": [
       "['Sunil',\n",
       " 'tweeted',\n",
       " ',',\n",
       " '\"Witnessing',\n",
       " '70th',\n",
       " 'Republic',\n",
       " 'Day',\n",
       " 'of',\n",
       " 'India',\n",
       " 'from',\n",
       " 'Rajpath',\n",
       " ',',\n",
       " 'New',\n",
       " 'Delhi',\n",
       " '.',\n",
       " 'Mesmerizing',\n",
       " 'performance',\n",
       " 'by',\n",
       " 'Indian',\n",
       " 'Army',\n",
       " '!',\n",
       " 'Awesome',\n",
       " 'airshow',\n",
       " '!',\n",
       " '@india_official',\n",
       " '@indian_army',\n",
       " '#India',\n",
       " '#70thRepublic_Day.',\n",
       " 'For',\n",
       " 'more',\n",
       " 'photos',\n",
       " 'ping',\n",
       " 'me',\n",
       " 'sunil',\n",
       " '@photoking.com',\n",
       " ':)\"']"
      ]
     },
     "execution_count": 18,
     "metadata": {},
     "output_type": "execute_result"
    }
   ],
   "source": [
    "#iii) Regexp Tokenizer\n",
    "from nltk.tokenize import RegexpTokenizer\n",
    "reg_tokenizer = RegexpTokenizer('\\w+|\\$[\\d\\.]+|\\S+')\n",
    "reg_tokenizer.tokenize(sentence)"
   ]
  },
  {
   "cell_type": "code",
   "execution_count": 19,
   "metadata": {},
   "outputs": [
    {
     "data": {
      "text/plain": [
       "['Sunil',\n",
       " 'tweeted,',\n",
       " '\"Witnessing',\n",
       " '70th',\n",
       " 'Republic',\n",
       " 'Day',\n",
       " 'of',\n",
       " 'India',\n",
       " 'from',\n",
       " 'Rajpath,',\n",
       " 'New',\n",
       " 'Delhi.',\n",
       " 'Mesmerizing',\n",
       " 'performance',\n",
       " 'by',\n",
       " 'Indian',\n",
       " 'Army!',\n",
       " 'Awesome',\n",
       " 'airshow!',\n",
       " '@india_official',\n",
       " '@indian_army',\n",
       " '#India',\n",
       " '#70thRepublic_Day.',\n",
       " 'For',\n",
       " 'more',\n",
       " 'photos',\n",
       " 'ping',\n",
       " 'me',\n",
       " 'sunil@photoking.com',\n",
       " ':)\"']"
      ]
     },
     "execution_count": 19,
     "metadata": {},
     "output_type": "execute_result"
    }
   ],
   "source": [
    "#iv) Whitespace Tokenizer\n",
    "from nltk.tokenize import WhitespaceTokenizer\n",
    "wh_tokenizer = WhitespaceTokenizer()\n",
    "wh_tokenizer.tokenize(sentence)"
   ]
  },
  {
   "cell_type": "code",
   "execution_count": 20,
   "metadata": {
    "scrolled": true
   },
   "outputs": [
    {
     "data": {
      "text/plain": [
       "['Sunil',\n",
       " 'tweeted',\n",
       " ',',\n",
       " '\"',\n",
       " 'Witnessing',\n",
       " '70th',\n",
       " 'Republic',\n",
       " 'Day',\n",
       " 'of',\n",
       " 'India',\n",
       " 'from',\n",
       " 'Rajpath',\n",
       " ',',\n",
       " 'New',\n",
       " 'Delhi',\n",
       " '.',\n",
       " 'Mesmerizing',\n",
       " 'performance',\n",
       " 'by',\n",
       " 'Indian',\n",
       " 'Army',\n",
       " '!',\n",
       " 'Awesome',\n",
       " 'airshow',\n",
       " '!',\n",
       " '@',\n",
       " 'india_official',\n",
       " '@',\n",
       " 'indian_army',\n",
       " '#',\n",
       " 'India',\n",
       " '#',\n",
       " '70thRepublic_Day',\n",
       " '.',\n",
       " 'For',\n",
       " 'more',\n",
       " 'photos',\n",
       " 'ping',\n",
       " 'me',\n",
       " 'sunil',\n",
       " '@',\n",
       " 'photoking',\n",
       " '.',\n",
       " 'com',\n",
       " ':)\"']"
      ]
     },
     "execution_count": 20,
     "metadata": {},
     "output_type": "execute_result"
    }
   ],
   "source": [
    "#v) WordPunct Tokenizer\n",
    "from nltk.tokenize import WordPunctTokenizer\n",
    "wp_tokenizer = WordPunctTokenizer()\n",
    "wp_tokenizer.tokenize(sentence)"
   ]
  },
  {
   "cell_type": "markdown",
   "metadata": {},
   "source": [
    "# Exercise 5 : Regexp Stemmer"
   ]
  },
  {
   "cell_type": "markdown",
   "metadata": {},
   "source": [
    "Apply Regexp stemmer on the following sentence to transform the words ending with “ing” into their base form\n",
    "\n",
    "\"I love playing football\"."
   ]
  },
  {
   "cell_type": "code",
   "execution_count": 200,
   "metadata": {},
   "outputs": [
    {
     "data": {
      "text/plain": [
       "'I love play football'"
      ]
     },
     "execution_count": 200,
     "metadata": {},
     "output_type": "execute_result"
    }
   ],
   "source": [
    "sentence = \"I love playing football\"\n",
    "from nltk.stem import RegexpStemmer\n",
    "regex_stemmer = RegexpStemmer('ing$', min=4) \n",
    "#min denotes minimum length of the string that must be present for applying regexp stemmer on it\n",
    "' '.join([regex_stemmer.stem(wd) for wd in sentence.split()])"
   ]
  },
  {
   "cell_type": "markdown",
   "metadata": {},
   "source": [
    "# Exercise 6 : Porter Stemmer"
   ]
  },
  {
   "cell_type": "markdown",
   "metadata": {},
   "source": [
    "Apply Porter stemmer on the following sentence:\n",
    "“Before eating, it would be nice to sanitize your hands with a sanitizer.”"
   ]
  },
  {
   "cell_type": "code",
   "execution_count": 206,
   "metadata": {},
   "outputs": [
    {
     "data": {
      "text/plain": [
       "'befor eating, it would be nice to sanit your hand with a sanit'"
      ]
     },
     "execution_count": 206,
     "metadata": {},
     "output_type": "execute_result"
    }
   ],
   "source": [
    "sentence = \"Before eating, it would be nice to sanitize your hands with a sanitizer\"\n",
    "from nltk.stem.porter import *\n",
    "ps_stemmer = PorterStemmer()\n",
    "' '.join([ps_stemmer.stem(wd) for wd in sentence.split()])"
   ]
  },
  {
   "cell_type": "markdown",
   "metadata": {},
   "source": [
    "# Exercise  7 : Lemmatization"
   ]
  },
  {
   "cell_type": "markdown",
   "metadata": {},
   "source": [
    "Lemmatize the following sentence:\n",
    "\n",
    "The products produced by the process today are far better than what it produces generally."
   ]
  },
  {
   "cell_type": "code",
   "execution_count": 28,
   "metadata": {},
   "outputs": [
    {
     "name": "stderr",
     "output_type": "stream",
     "text": [
      "[nltk_data] Downloading package wordnet to\n",
      "[nltk_data]     /Users/sohom.ghosh/nltk_data...\n",
      "[nltk_data]   Package wordnet is already up-to-date!\n"
     ]
    },
    {
     "data": {
      "text/plain": [
       "'The product produced by the process today are far better than what it produce generally .'"
      ]
     },
     "execution_count": 28,
     "metadata": {},
     "output_type": "execute_result"
    }
   ],
   "source": [
    "import nltk\n",
    "from nltk.stem import WordNetLemmatizer\n",
    "from nltk import word_tokenize\n",
    "\n",
    "nltk.download('wordnet')\n",
    "lemmatizer = WordNetLemmatizer()\n",
    "\n",
    "sentence = \"The products produced by the process today are far better than what it produces generally.\"\n",
    "\n",
    "' '.join([lemmatizer.lemmatize(word) for word in word_tokenize(sentence)])"
   ]
  },
  {
   "cell_type": "markdown",
   "metadata": {},
   "source": [
    "# Exercise 8 : Singularize & Pluralize words"
   ]
  },
  {
   "cell_type": "markdown",
   "metadata": {},
   "source": [
    "Convert the 2nd word into its' singular form and the 5th word into its' plural form of the sentence: <br>\n",
    "**She sells seashells on the seashore**<br>\n",
    "(Assume the sentence starts with 0th word)"
   ]
  },
  {
   "cell_type": "code",
   "execution_count": 30,
   "metadata": {},
   "outputs": [
    {
     "data": {
      "text/plain": [
       "WordList(['She', 'sells', 'seashells', 'on', 'the', 'seashore'])"
      ]
     },
     "execution_count": 30,
     "metadata": {},
     "output_type": "execute_result"
    }
   ],
   "source": [
    "from textblob import TextBlob\n",
    "sentence = TextBlob('She sells seashells on the seashore')\n",
    "sentence.words"
   ]
  },
  {
   "cell_type": "code",
   "execution_count": 31,
   "metadata": {},
   "outputs": [
    {
     "data": {
      "text/plain": [
       "'seashell'"
      ]
     },
     "execution_count": 31,
     "metadata": {},
     "output_type": "execute_result"
    }
   ],
   "source": [
    "sentence.words[2].singularize()"
   ]
  },
  {
   "cell_type": "code",
   "execution_count": 34,
   "metadata": {},
   "outputs": [
    {
     "data": {
      "text/plain": [
       "'seashores'"
      ]
     },
     "execution_count": 34,
     "metadata": {},
     "output_type": "execute_result"
    }
   ],
   "source": [
    "sentence.words[5].pluralize()"
   ]
  },
  {
   "cell_type": "markdown",
   "metadata": {},
   "source": [
    "# Exercise 9 : Language Translation"
   ]
  },
  {
   "cell_type": "markdown",
   "metadata": {},
   "source": [
    "Convert the following sentence into english:\n",
    "His last few words in Bengali were, “তুমি ভালো থেকো”"
   ]
  },
  {
   "cell_type": "code",
   "execution_count": 10,
   "metadata": {},
   "outputs": [
    {
     "data": {
      "text/plain": [
       "TextBlob(\"You stay well\")"
      ]
     },
     "execution_count": 10,
     "metadata": {},
     "output_type": "execute_result"
    }
   ],
   "source": [
    "from textblob import TextBlob\n",
    "en_blob = TextBlob(u'তুমি ভালো থেকো')\n",
    "en_blob.translate(from_lang='bn', to='en') "
   ]
  },
  {
   "cell_type": "code",
   "execution_count": 53,
   "metadata": {},
   "outputs": [],
   "source": [
    "#List of languages and their corresponding codes are available at \n",
    "#https://ctrlq.org/code/19899-google-translate-languages"
   ]
  },
  {
   "cell_type": "markdown",
   "metadata": {},
   "source": [
    "# Exercise 10 : Stop words removal"
   ]
  },
  {
   "cell_type": "markdown",
   "metadata": {},
   "source": [
    "Remove stop words (she, on, the, am, is, not) from the sentence: <br>\n",
    "She sells seashells on the seashore"
   ]
  },
  {
   "cell_type": "code",
   "execution_count": 127,
   "metadata": {},
   "outputs": [
    {
     "data": {
      "text/plain": [
       "'sells seashells seashore'"
      ]
     },
     "execution_count": 127,
     "metadata": {},
     "output_type": "execute_result"
    }
   ],
   "source": [
    "from nltk import word_tokenize\n",
    "sentence = \"She sells seashells on the seashore\"\n",
    "custom_stop_word_list = ['she', 'on', 'the', 'am', 'is', 'not']\n",
    "' '.join([word for word in word_tokenize(sentence) if word.lower() not in custom_stop_word_list])"
   ]
  },
  {
   "cell_type": "markdown",
   "metadata": {},
   "source": [
    "# Exercise 11 : Extracting general features from raw texts"
   ]
  },
  {
   "cell_type": "markdown",
   "metadata": {},
   "source": [
    "Extract general features like <br>\n",
    "i) number of words, <br>\n",
    "ii) detect presence of wh words, <br>\n",
    "iii) polarity, <br>\n",
    "iv) subjectivity, <br>\n",
    "v) language in which it is written <br>\n",
    "from the following sentences:<br>\n",
    "\n",
    "**The interim budget for 2019 will be announced on 1st February.**\n",
    "\n",
    "**Do you know how much expectation the middle-class working population is having from this budget?**\n",
    "\n",
    "**February is the shortest month in a year.**\n",
    "\n",
    "**This financial year will end on 31st March.**"
   ]
  },
  {
   "cell_type": "code",
   "execution_count": 65,
   "metadata": {},
   "outputs": [
    {
     "data": {
      "text/html": [
       "<div>\n",
       "<style scoped>\n",
       "    .dataframe tbody tr th:only-of-type {\n",
       "        vertical-align: middle;\n",
       "    }\n",
       "\n",
       "    .dataframe tbody tr th {\n",
       "        vertical-align: top;\n",
       "    }\n",
       "\n",
       "    .dataframe thead th {\n",
       "        text-align: right;\n",
       "    }\n",
       "</style>\n",
       "<table border=\"1\" class=\"dataframe\">\n",
       "  <thead>\n",
       "    <tr style=\"text-align: right;\">\n",
       "      <th></th>\n",
       "      <th>text</th>\n",
       "    </tr>\n",
       "  </thead>\n",
       "  <tbody>\n",
       "    <tr>\n",
       "      <th>0</th>\n",
       "      <td>The interim budget for 2019 will be announced ...</td>\n",
       "    </tr>\n",
       "    <tr>\n",
       "      <th>1</th>\n",
       "      <td>Do you know how much expectation the middle-cl...</td>\n",
       "    </tr>\n",
       "    <tr>\n",
       "      <th>2</th>\n",
       "      <td>February is the shortest month in a year.</td>\n",
       "    </tr>\n",
       "    <tr>\n",
       "      <th>3</th>\n",
       "      <td>This financial year will end on 31st March.</td>\n",
       "    </tr>\n",
       "  </tbody>\n",
       "</table>\n",
       "</div>"
      ],
      "text/plain": [
       "                                                text\n",
       "0  The interim budget for 2019 will be announced ...\n",
       "1  Do you know how much expectation the middle-cl...\n",
       "2          February is the shortest month in a year.\n",
       "3        This financial year will end on 31st March."
      ]
     },
     "execution_count": 65,
     "metadata": {},
     "output_type": "execute_result"
    }
   ],
   "source": [
    "import pandas as pd\n",
    "df = pd.DataFrame([['The interim budget for 2019 will be announced on 1st February.'],\n",
    "                   ['Do you know how much expectation the middle-class working population is having from this budget?'],\n",
    "                   ['February is the shortest month in a year.'],\n",
    "                   ['This financial year will end on 31st March.']])\n",
    "df.columns = ['text']\n",
    "df"
   ]
  },
  {
   "cell_type": "code",
   "execution_count": 66,
   "metadata": {},
   "outputs": [
    {
     "data": {
      "text/plain": [
       "0    11\n",
       "1    15\n",
       "2     8\n",
       "3     8\n",
       "Name: number_of_words, dtype: int64"
      ]
     },
     "execution_count": 66,
     "metadata": {},
     "output_type": "execute_result"
    }
   ],
   "source": [
    "#Q1 Solution\n",
    "from textblob import TextBlob\n",
    "df['number_of_words'] = df['text'].apply(lambda x : len(TextBlob(str(x)).words))\n",
    "df['number_of_words']"
   ]
  },
  {
   "cell_type": "code",
   "execution_count": 70,
   "metadata": {},
   "outputs": [
    {
     "data": {
      "text/plain": [
       "0    False\n",
       "1     True\n",
       "2    False\n",
       "3    False\n",
       "Name: is_wh_words_present, dtype: bool"
      ]
     },
     "execution_count": 70,
     "metadata": {},
     "output_type": "execute_result"
    }
   ],
   "source": [
    "#Q2 Solution\n",
    "wh_words = set(['why', 'who', 'which', 'what', 'where', 'when', 'how'])\n",
    "df['is_wh_words_present'] = df['text'].apply(lambda x : True if \\\n",
    "                                             len(set(TextBlob(str(x)).words).intersection(wh_words))>0 else False)\n",
    "df['is_wh_words_present']"
   ]
  },
  {
   "cell_type": "code",
   "execution_count": 74,
   "metadata": {},
   "outputs": [
    {
     "data": {
      "text/plain": [
       "0   0.000\n",
       "1   0.200\n",
       "2   0.000\n",
       "3   0.000\n",
       "Name: polarity, dtype: float64"
      ]
     },
     "execution_count": 74,
     "metadata": {},
     "output_type": "execute_result"
    }
   ],
   "source": [
    "#Q3 Solution\n",
    "df['polarity'] = df['text'].apply(lambda x : TextBlob(str(x)).sentiment.polarity)\n",
    "df['polarity']"
   ]
  },
  {
   "cell_type": "code",
   "execution_count": 75,
   "metadata": {},
   "outputs": [
    {
     "data": {
      "text/plain": [
       "0   0.000\n",
       "1   0.200\n",
       "2   0.000\n",
       "3   0.000\n",
       "Name: subjectivity, dtype: float64"
      ]
     },
     "execution_count": 75,
     "metadata": {},
     "output_type": "execute_result"
    }
   ],
   "source": [
    "#Q4 Solution\n",
    "df['subjectivity'] = df['text'].apply(lambda x : TextBlob(str(x)).sentiment.subjectivity)\n",
    "df['subjectivity']"
   ]
  },
  {
   "cell_type": "code",
   "execution_count": 77,
   "metadata": {},
   "outputs": [
    {
     "data": {
      "text/plain": [
       "0    en\n",
       "1    en\n",
       "2    en\n",
       "3    en\n",
       "Name: language, dtype: object"
      ]
     },
     "execution_count": 77,
     "metadata": {},
     "output_type": "execute_result"
    }
   ],
   "source": [
    "#Q5 Solution\n",
    "df['language'] = df['text'].apply(lambda x : TextBlob(str(x)).detect_language())\n",
    "df['language']"
   ]
  },
  {
   "cell_type": "markdown",
   "metadata": {},
   "source": [
    "# Activity 1 : Extracting General Features from texts"
   ]
  },
  {
   "cell_type": "markdown",
   "metadata": {},
   "source": [
    "Extract following features from the documents present in the text file ‘data.csv’: <br>\n",
    "i) number of occurrences of each parts of speech, <br>\n",
    "ii) number of punctuations, <br> \n",
    "iii) number of capital and small letter words, <br>\n",
    "iv) number of alphabets, <br>\n",
    "v) number of digits, <br>\n",
    "vi) number of words, <br>\n",
    "vii) number of white spaces for each sentence\n",
    "\n",
    "(Note: Each line is to be treated as a separate document and words starting with uppercase characters are called capital words)"
   ]
  },
  {
   "cell_type": "code",
   "execution_count": 1,
   "metadata": {},
   "outputs": [
    {
     "name": "stderr",
     "output_type": "stream",
     "text": [
      "[nltk_data] Downloading package tagsets to\n",
      "[nltk_data]     /Users/sohom.ghosh/nltk_data...\n",
      "[nltk_data]   Package tagsets is already up-to-date!\n",
      "[nltk_data] Downloading package averaged_perceptron_tagger to\n",
      "[nltk_data]     /Users/sohom.ghosh/nltk_data...\n",
      "[nltk_data]   Package averaged_perceptron_tagger is already up-to-\n",
      "[nltk_data]       date!\n"
     ]
    }
   ],
   "source": [
    "import pandas as pd\n",
    "from string import punctuation\n",
    "import nltk\n",
    "nltk.download('tagsets')\n",
    "from nltk.data import load\n",
    "nltk.download('averaged_perceptron_tagger')\n",
    "from nltk import pos_tag\n",
    "from collections import Counter\n",
    "from nltk import word_tokenize"
   ]
  },
  {
   "cell_type": "code",
   "execution_count": 85,
   "metadata": {},
   "outputs": [
    {
     "data": {
      "text/plain": [
       "['LS',\n",
       " 'TO',\n",
       " 'VBN',\n",
       " \"''\",\n",
       " 'WP',\n",
       " 'UH',\n",
       " 'VBG',\n",
       " 'JJ',\n",
       " 'VBZ',\n",
       " '--',\n",
       " 'VBP',\n",
       " 'NN',\n",
       " 'DT',\n",
       " 'PRP',\n",
       " ':',\n",
       " 'WP$',\n",
       " 'NNPS',\n",
       " 'PRP$',\n",
       " 'WDT',\n",
       " '(',\n",
       " ')',\n",
       " '.',\n",
       " ',',\n",
       " '``',\n",
       " '$',\n",
       " 'RB',\n",
       " 'RBR',\n",
       " 'RBS',\n",
       " 'VBD',\n",
       " 'IN',\n",
       " 'FW',\n",
       " 'RP',\n",
       " 'JJR',\n",
       " 'JJS',\n",
       " 'PDT',\n",
       " 'MD',\n",
       " 'VB',\n",
       " 'WRB',\n",
       " 'NNP',\n",
       " 'EX',\n",
       " 'NNS',\n",
       " 'SYM',\n",
       " 'CC',\n",
       " 'CD',\n",
       " 'POS']"
      ]
     },
     "execution_count": 85,
     "metadata": {},
     "output_type": "execute_result"
    }
   ],
   "source": [
    "tagdict = load('help/tagsets/upenn_tagset.pickle')\n",
    "list(tagdict.keys())"
   ]
  },
  {
   "cell_type": "code",
   "execution_count": 86,
   "metadata": {},
   "outputs": [],
   "source": [
    "#i) number of occurrences of each parts of speech\n",
    "data = pd.read_csv('data_ch2/data.csv', header = 0)\n",
    "pos_di = {}\n",
    "for pos in list(tagdict.keys()):\n",
    "\tpos_di[pos] = []\n",
    "for doc in data['text']:\n",
    "\tdi = Counter([j for i,j in pos_tag(word_tokenize(doc))])\n",
    "\tfor pos in list(tagdict.keys()):\n",
    "\t\tpos_di[pos].append(di[pos])\n",
    "\n",
    "feature_df = pd.DataFrame(pos_di)"
   ]
  },
  {
   "cell_type": "code",
   "execution_count": 87,
   "metadata": {},
   "outputs": [
    {
     "data": {
      "text/html": [
       "<div>\n",
       "<style scoped>\n",
       "    .dataframe tbody tr th:only-of-type {\n",
       "        vertical-align: middle;\n",
       "    }\n",
       "\n",
       "    .dataframe tbody tr th {\n",
       "        vertical-align: top;\n",
       "    }\n",
       "\n",
       "    .dataframe thead th {\n",
       "        text-align: right;\n",
       "    }\n",
       "</style>\n",
       "<table border=\"1\" class=\"dataframe\">\n",
       "  <thead>\n",
       "    <tr style=\"text-align: right;\">\n",
       "      <th></th>\n",
       "      <th>LS</th>\n",
       "      <th>TO</th>\n",
       "      <th>VBN</th>\n",
       "      <th>''</th>\n",
       "      <th>WP</th>\n",
       "      <th>UH</th>\n",
       "      <th>VBG</th>\n",
       "      <th>JJ</th>\n",
       "      <th>VBZ</th>\n",
       "      <th>--</th>\n",
       "      <th>...</th>\n",
       "      <th>MD</th>\n",
       "      <th>VB</th>\n",
       "      <th>WRB</th>\n",
       "      <th>NNP</th>\n",
       "      <th>EX</th>\n",
       "      <th>NNS</th>\n",
       "      <th>SYM</th>\n",
       "      <th>CC</th>\n",
       "      <th>CD</th>\n",
       "      <th>POS</th>\n",
       "    </tr>\n",
       "  </thead>\n",
       "  <tbody>\n",
       "    <tr>\n",
       "      <th>0</th>\n",
       "      <td>0</td>\n",
       "      <td>0</td>\n",
       "      <td>0</td>\n",
       "      <td>0</td>\n",
       "      <td>1</td>\n",
       "      <td>0</td>\n",
       "      <td>0</td>\n",
       "      <td>0</td>\n",
       "      <td>0</td>\n",
       "      <td>0</td>\n",
       "      <td>...</td>\n",
       "      <td>0</td>\n",
       "      <td>0</td>\n",
       "      <td>0</td>\n",
       "      <td>0</td>\n",
       "      <td>0</td>\n",
       "      <td>1</td>\n",
       "      <td>0</td>\n",
       "      <td>0</td>\n",
       "      <td>0</td>\n",
       "      <td>0</td>\n",
       "    </tr>\n",
       "    <tr>\n",
       "      <th>1</th>\n",
       "      <td>0</td>\n",
       "      <td>0</td>\n",
       "      <td>0</td>\n",
       "      <td>0</td>\n",
       "      <td>0</td>\n",
       "      <td>0</td>\n",
       "      <td>0</td>\n",
       "      <td>0</td>\n",
       "      <td>0</td>\n",
       "      <td>0</td>\n",
       "      <td>...</td>\n",
       "      <td>0</td>\n",
       "      <td>0</td>\n",
       "      <td>0</td>\n",
       "      <td>0</td>\n",
       "      <td>0</td>\n",
       "      <td>1</td>\n",
       "      <td>0</td>\n",
       "      <td>0</td>\n",
       "      <td>0</td>\n",
       "      <td>0</td>\n",
       "    </tr>\n",
       "    <tr>\n",
       "      <th>2</th>\n",
       "      <td>0</td>\n",
       "      <td>0</td>\n",
       "      <td>0</td>\n",
       "      <td>0</td>\n",
       "      <td>0</td>\n",
       "      <td>0</td>\n",
       "      <td>0</td>\n",
       "      <td>0</td>\n",
       "      <td>0</td>\n",
       "      <td>0</td>\n",
       "      <td>...</td>\n",
       "      <td>0</td>\n",
       "      <td>0</td>\n",
       "      <td>0</td>\n",
       "      <td>0</td>\n",
       "      <td>0</td>\n",
       "      <td>0</td>\n",
       "      <td>0</td>\n",
       "      <td>0</td>\n",
       "      <td>0</td>\n",
       "      <td>0</td>\n",
       "    </tr>\n",
       "    <tr>\n",
       "      <th>3</th>\n",
       "      <td>0</td>\n",
       "      <td>0</td>\n",
       "      <td>0</td>\n",
       "      <td>0</td>\n",
       "      <td>1</td>\n",
       "      <td>0</td>\n",
       "      <td>0</td>\n",
       "      <td>0</td>\n",
       "      <td>1</td>\n",
       "      <td>0</td>\n",
       "      <td>...</td>\n",
       "      <td>0</td>\n",
       "      <td>0</td>\n",
       "      <td>0</td>\n",
       "      <td>0</td>\n",
       "      <td>0</td>\n",
       "      <td>0</td>\n",
       "      <td>0</td>\n",
       "      <td>0</td>\n",
       "      <td>0</td>\n",
       "      <td>0</td>\n",
       "    </tr>\n",
       "    <tr>\n",
       "      <th>4</th>\n",
       "      <td>0</td>\n",
       "      <td>0</td>\n",
       "      <td>0</td>\n",
       "      <td>0</td>\n",
       "      <td>0</td>\n",
       "      <td>0</td>\n",
       "      <td>0</td>\n",
       "      <td>1</td>\n",
       "      <td>1</td>\n",
       "      <td>0</td>\n",
       "      <td>...</td>\n",
       "      <td>0</td>\n",
       "      <td>0</td>\n",
       "      <td>0</td>\n",
       "      <td>0</td>\n",
       "      <td>0</td>\n",
       "      <td>0</td>\n",
       "      <td>0</td>\n",
       "      <td>0</td>\n",
       "      <td>0</td>\n",
       "      <td>0</td>\n",
       "    </tr>\n",
       "  </tbody>\n",
       "</table>\n",
       "<p>5 rows × 45 columns</p>\n",
       "</div>"
      ],
      "text/plain": [
       "   LS  TO  VBN  ''  WP  UH  VBG  JJ  VBZ  -- ...   MD  VB  WRB  NNP  EX  NNS  \\\n",
       "0   0   0    0   0   1   0    0   0    0   0 ...    0   0    0    0   0    1   \n",
       "1   0   0    0   0   0   0    0   0    0   0 ...    0   0    0    0   0    1   \n",
       "2   0   0    0   0   0   0    0   0    0   0 ...    0   0    0    0   0    0   \n",
       "3   0   0    0   0   1   0    0   0    1   0 ...    0   0    0    0   0    0   \n",
       "4   0   0    0   0   0   0    0   1    1   0 ...    0   0    0    0   0    0   \n",
       "\n",
       "   SYM  CC  CD  POS  \n",
       "0    0   0   0    0  \n",
       "1    0   0   0    0  \n",
       "2    0   0   0    0  \n",
       "3    0   0   0    0  \n",
       "4    0   0   0    0  \n",
       "\n",
       "[5 rows x 45 columns]"
      ]
     },
     "execution_count": 87,
     "metadata": {},
     "output_type": "execute_result"
    }
   ],
   "source": [
    "feature_df.head()"
   ]
  },
  {
   "cell_type": "code",
   "execution_count": 88,
   "metadata": {},
   "outputs": [],
   "source": [
    "#ii) number of punctations\n",
    "feature_df['num_of_unique_punctuations'] = data['text']\\\n",
    ".apply(lambda x : len(set(x).intersection(set(punctuation))))"
   ]
  },
  {
   "cell_type": "code",
   "execution_count": 89,
   "metadata": {},
   "outputs": [
    {
     "data": {
      "text/plain": [
       "0    0\n",
       "1    0\n",
       "2    1\n",
       "3    1\n",
       "4    0\n",
       "Name: num_of_unique_punctuations, dtype: int64"
      ]
     },
     "execution_count": 89,
     "metadata": {},
     "output_type": "execute_result"
    }
   ],
   "source": [
    "feature_df['num_of_unique_punctuations'].head()"
   ]
  },
  {
   "cell_type": "code",
   "execution_count": 90,
   "metadata": {},
   "outputs": [
    {
     "data": {
      "text/plain": [
       "0    1\n",
       "1    1\n",
       "2    1\n",
       "3    1\n",
       "4    1\n",
       "Name: number_of_capital_words, dtype: int64"
      ]
     },
     "execution_count": 90,
     "metadata": {},
     "output_type": "execute_result"
    }
   ],
   "source": [
    "#iii) number of capital and small letter words\n",
    "feature_df['number_of_capital_words'] =data['text'].apply(lambda x : \\\n",
    "                                            len([word for word in word_tokenize(str(x)) if word[0].isupper()]))\n",
    "feature_df['number_of_capital_words'].head()"
   ]
  },
  {
   "cell_type": "code",
   "execution_count": 91,
   "metadata": {},
   "outputs": [
    {
     "data": {
      "text/plain": [
       "0    4\n",
       "1    3\n",
       "2    7\n",
       "3    3\n",
       "4    2\n",
       "Name: number_of_small_words, dtype: int64"
      ]
     },
     "execution_count": 91,
     "metadata": {},
     "output_type": "execute_result"
    }
   ],
   "source": [
    "feature_df['number_of_small_words'] =data['text'].apply(lambda x : \\\n",
    "                                            len([word for word in word_tokenize(str(x)) if word[0].islower()]))\n",
    "feature_df['number_of_small_words'].head()"
   ]
  },
  {
   "cell_type": "code",
   "execution_count": 92,
   "metadata": {},
   "outputs": [
    {
     "data": {
      "text/plain": [
       "0    19\n",
       "1    18\n",
       "2    28\n",
       "3    14\n",
       "4    13\n",
       "Name: number_of_alphabets, dtype: int64"
      ]
     },
     "execution_count": 92,
     "metadata": {},
     "output_type": "execute_result"
    }
   ],
   "source": [
    "#iv) number of alphabets\n",
    "feature_df['number_of_alphabets'] = data['text'].apply(lambda x : len([ch for ch in str(x) if ch.isalpha()]))\n",
    "feature_df['number_of_alphabets'].head()"
   ]
  },
  {
   "cell_type": "code",
   "execution_count": 93,
   "metadata": {},
   "outputs": [
    {
     "data": {
      "text/plain": [
       "0    0\n",
       "1    0\n",
       "2    0\n",
       "3    0\n",
       "4    0\n",
       "Name: number_of_digits, dtype: int64"
      ]
     },
     "execution_count": 93,
     "metadata": {},
     "output_type": "execute_result"
    }
   ],
   "source": [
    "#v) number of digits\n",
    "feature_df['number_of_digits'] = data['text'].apply(lambda x : len([ch for ch in str(x) if ch.isdigit()]))\n",
    "feature_df['number_of_digits'].head()"
   ]
  },
  {
   "cell_type": "code",
   "execution_count": 94,
   "metadata": {},
   "outputs": [
    {
     "data": {
      "text/plain": [
       "0    5\n",
       "1    4\n",
       "2    9\n",
       "3    5\n",
       "4    3\n",
       "Name: number_of_words, dtype: int64"
      ]
     },
     "execution_count": 94,
     "metadata": {},
     "output_type": "execute_result"
    }
   ],
   "source": [
    "#vi) number of words\n",
    "feature_df['number_of_words'] = data['text'].apply(lambda x : len(word_tokenize(str(x))))\n",
    "feature_df['number_of_words'].head()"
   ]
  },
  {
   "cell_type": "code",
   "execution_count": 95,
   "metadata": {},
   "outputs": [
    {
     "data": {
      "text/plain": [
       "0    4\n",
       "1    3\n",
       "2    7\n",
       "3    3\n",
       "4    2\n",
       "Name: number_of_white_spaces, dtype: int64"
      ]
     },
     "execution_count": 95,
     "metadata": {},
     "output_type": "execute_result"
    }
   ],
   "source": [
    "#vii) number of white spaces for each sentence\n",
    "feature_df['number_of_white_spaces'] = data['text'].apply(lambda x : len(str(x).split(' '))-1)\n",
    "feature_df['number_of_white_spaces'].head()"
   ]
  },
  {
   "cell_type": "code",
   "execution_count": 96,
   "metadata": {},
   "outputs": [
    {
     "data": {
      "text/html": [
       "<div>\n",
       "<style scoped>\n",
       "    .dataframe tbody tr th:only-of-type {\n",
       "        vertical-align: middle;\n",
       "    }\n",
       "\n",
       "    .dataframe tbody tr th {\n",
       "        vertical-align: top;\n",
       "    }\n",
       "\n",
       "    .dataframe thead th {\n",
       "        text-align: right;\n",
       "    }\n",
       "</style>\n",
       "<table border=\"1\" class=\"dataframe\">\n",
       "  <thead>\n",
       "    <tr style=\"text-align: right;\">\n",
       "      <th></th>\n",
       "      <th>LS</th>\n",
       "      <th>TO</th>\n",
       "      <th>VBN</th>\n",
       "      <th>''</th>\n",
       "      <th>WP</th>\n",
       "      <th>UH</th>\n",
       "      <th>VBG</th>\n",
       "      <th>JJ</th>\n",
       "      <th>VBZ</th>\n",
       "      <th>--</th>\n",
       "      <th>...</th>\n",
       "      <th>CC</th>\n",
       "      <th>CD</th>\n",
       "      <th>POS</th>\n",
       "      <th>num_of_unique_punctuations</th>\n",
       "      <th>number_of_capital_words</th>\n",
       "      <th>number_of_small_words</th>\n",
       "      <th>number_of_alphabets</th>\n",
       "      <th>number_of_digits</th>\n",
       "      <th>number_of_words</th>\n",
       "      <th>number_of_white_spaces</th>\n",
       "    </tr>\n",
       "  </thead>\n",
       "  <tbody>\n",
       "    <tr>\n",
       "      <th>0</th>\n",
       "      <td>0</td>\n",
       "      <td>0</td>\n",
       "      <td>0</td>\n",
       "      <td>0</td>\n",
       "      <td>1</td>\n",
       "      <td>0</td>\n",
       "      <td>0</td>\n",
       "      <td>0</td>\n",
       "      <td>0</td>\n",
       "      <td>0</td>\n",
       "      <td>...</td>\n",
       "      <td>0</td>\n",
       "      <td>0</td>\n",
       "      <td>0</td>\n",
       "      <td>0</td>\n",
       "      <td>1</td>\n",
       "      <td>4</td>\n",
       "      <td>19</td>\n",
       "      <td>0</td>\n",
       "      <td>5</td>\n",
       "      <td>4</td>\n",
       "    </tr>\n",
       "    <tr>\n",
       "      <th>1</th>\n",
       "      <td>0</td>\n",
       "      <td>0</td>\n",
       "      <td>0</td>\n",
       "      <td>0</td>\n",
       "      <td>0</td>\n",
       "      <td>0</td>\n",
       "      <td>0</td>\n",
       "      <td>0</td>\n",
       "      <td>0</td>\n",
       "      <td>0</td>\n",
       "      <td>...</td>\n",
       "      <td>0</td>\n",
       "      <td>0</td>\n",
       "      <td>0</td>\n",
       "      <td>0</td>\n",
       "      <td>1</td>\n",
       "      <td>3</td>\n",
       "      <td>18</td>\n",
       "      <td>0</td>\n",
       "      <td>4</td>\n",
       "      <td>3</td>\n",
       "    </tr>\n",
       "    <tr>\n",
       "      <th>2</th>\n",
       "      <td>0</td>\n",
       "      <td>0</td>\n",
       "      <td>0</td>\n",
       "      <td>0</td>\n",
       "      <td>0</td>\n",
       "      <td>0</td>\n",
       "      <td>0</td>\n",
       "      <td>0</td>\n",
       "      <td>0</td>\n",
       "      <td>0</td>\n",
       "      <td>...</td>\n",
       "      <td>0</td>\n",
       "      <td>0</td>\n",
       "      <td>0</td>\n",
       "      <td>1</td>\n",
       "      <td>1</td>\n",
       "      <td>7</td>\n",
       "      <td>28</td>\n",
       "      <td>0</td>\n",
       "      <td>9</td>\n",
       "      <td>7</td>\n",
       "    </tr>\n",
       "    <tr>\n",
       "      <th>3</th>\n",
       "      <td>0</td>\n",
       "      <td>0</td>\n",
       "      <td>0</td>\n",
       "      <td>0</td>\n",
       "      <td>1</td>\n",
       "      <td>0</td>\n",
       "      <td>0</td>\n",
       "      <td>0</td>\n",
       "      <td>1</td>\n",
       "      <td>0</td>\n",
       "      <td>...</td>\n",
       "      <td>0</td>\n",
       "      <td>0</td>\n",
       "      <td>0</td>\n",
       "      <td>1</td>\n",
       "      <td>1</td>\n",
       "      <td>3</td>\n",
       "      <td>14</td>\n",
       "      <td>0</td>\n",
       "      <td>5</td>\n",
       "      <td>3</td>\n",
       "    </tr>\n",
       "    <tr>\n",
       "      <th>4</th>\n",
       "      <td>0</td>\n",
       "      <td>0</td>\n",
       "      <td>0</td>\n",
       "      <td>0</td>\n",
       "      <td>0</td>\n",
       "      <td>0</td>\n",
       "      <td>0</td>\n",
       "      <td>1</td>\n",
       "      <td>1</td>\n",
       "      <td>0</td>\n",
       "      <td>...</td>\n",
       "      <td>0</td>\n",
       "      <td>0</td>\n",
       "      <td>0</td>\n",
       "      <td>0</td>\n",
       "      <td>1</td>\n",
       "      <td>2</td>\n",
       "      <td>13</td>\n",
       "      <td>0</td>\n",
       "      <td>3</td>\n",
       "      <td>2</td>\n",
       "    </tr>\n",
       "  </tbody>\n",
       "</table>\n",
       "<p>5 rows × 52 columns</p>\n",
       "</div>"
      ],
      "text/plain": [
       "   LS  TO  VBN  ''  WP  UH  VBG  JJ  VBZ  --           ...            CC  CD  \\\n",
       "0   0   0    0   0   1   0    0   0    0   0           ...             0   0   \n",
       "1   0   0    0   0   0   0    0   0    0   0           ...             0   0   \n",
       "2   0   0    0   0   0   0    0   0    0   0           ...             0   0   \n",
       "3   0   0    0   0   1   0    0   0    1   0           ...             0   0   \n",
       "4   0   0    0   0   0   0    0   1    1   0           ...             0   0   \n",
       "\n",
       "   POS  num_of_unique_punctuations  number_of_capital_words  \\\n",
       "0    0                           0                        1   \n",
       "1    0                           0                        1   \n",
       "2    0                           1                        1   \n",
       "3    0                           1                        1   \n",
       "4    0                           0                        1   \n",
       "\n",
       "   number_of_small_words  number_of_alphabets  number_of_digits  \\\n",
       "0                      4                   19                 0   \n",
       "1                      3                   18                 0   \n",
       "2                      7                   28                 0   \n",
       "3                      3                   14                 0   \n",
       "4                      2                   13                 0   \n",
       "\n",
       "   number_of_words  number_of_white_spaces  \n",
       "0                5                       4  \n",
       "1                4                       3  \n",
       "2                9                       7  \n",
       "3                5                       3  \n",
       "4                3                       2  \n",
       "\n",
       "[5 rows x 52 columns]"
      ]
     },
     "execution_count": 96,
     "metadata": {},
     "output_type": "execute_result"
    }
   ],
   "source": [
    "feature_df.head()"
   ]
  },
  {
   "cell_type": "markdown",
   "metadata": {},
   "source": [
    "# Exercise 12 : Bag of Words"
   ]
  },
  {
   "cell_type": "markdown",
   "metadata": {},
   "source": [
    "Create the bag of word representation of the following texts for<br>\n",
    "1) All the terms <br>\n",
    "2) Top 10 frequent terms<br>\n",
    "\n",
    "Text_1: Data Science is an overlap between Arts and Science. <br>\n",
    "Text_2: Generally, Arts graduates are right-brained and Science graduates are left-brained.<br>\n",
    "Text_3: Excelling in both Arts and Science at a time becomes difficult.<br>\n",
    "Text_4: Natural Language Processing is a part of Data Science.<br>"
   ]
  },
  {
   "cell_type": "code",
   "execution_count": 81,
   "metadata": {},
   "outputs": [],
   "source": [
    "import pandas as pd\n",
    "from sklearn.feature_extraction.text import CountVectorizer\n",
    "corpus = [\n",
    "'Data Science is an overlap between Arts and Science',\n",
    "'Generally, Arts graduates are right-brained and Science graduates are left-brained',\n",
    "'Excelling in both Arts and Science at a time becomes difficult',\n",
    "'Natural Language Processing is a part of Data Science'\n",
    "]"
   ]
  },
  {
   "cell_type": "code",
   "execution_count": 82,
   "metadata": {},
   "outputs": [
    {
     "name": "stdout",
     "output_type": "stream",
     "text": [
      "[[1 1 0 1 0 0 1 0 0 1 0 0 0 0 0 1 0 0 0 0 1 0 0 0 2 0]\n",
      " [0 1 2 1 0 0 0 0 2 0 0 0 1 2 0 0 0 1 0 0 0 0 0 1 1 0]\n",
      " [0 1 0 1 1 1 0 1 0 0 1 1 0 0 1 0 0 0 0 0 0 0 0 0 1 1]\n",
      " [0 0 0 0 0 0 0 0 0 1 0 0 0 0 0 1 1 0 1 1 0 1 1 0 1 0]]\n"
     ]
    }
   ],
   "source": [
    "#Q1 Solution : For all words\n",
    "bag_of_words_model = CountVectorizer()\n",
    "print(bag_of_words_model.fit_transform(corpus).todense())"
   ]
  },
  {
   "cell_type": "code",
   "execution_count": 86,
   "metadata": {},
   "outputs": [
    {
     "data": {
      "text/html": [
       "<div>\n",
       "<style scoped>\n",
       "    .dataframe tbody tr th:only-of-type {\n",
       "        vertical-align: middle;\n",
       "    }\n",
       "\n",
       "    .dataframe tbody tr th {\n",
       "        vertical-align: top;\n",
       "    }\n",
       "\n",
       "    .dataframe thead th {\n",
       "        text-align: right;\n",
       "    }\n",
       "</style>\n",
       "<table border=\"1\" class=\"dataframe\">\n",
       "  <thead>\n",
       "    <tr style=\"text-align: right;\">\n",
       "      <th></th>\n",
       "      <th>an</th>\n",
       "      <th>and</th>\n",
       "      <th>are</th>\n",
       "      <th>arts</th>\n",
       "      <th>at</th>\n",
       "      <th>becomes</th>\n",
       "      <th>between</th>\n",
       "      <th>both</th>\n",
       "      <th>brained</th>\n",
       "      <th>data</th>\n",
       "      <th>...</th>\n",
       "      <th>language</th>\n",
       "      <th>left</th>\n",
       "      <th>natural</th>\n",
       "      <th>of</th>\n",
       "      <th>overlap</th>\n",
       "      <th>part</th>\n",
       "      <th>processing</th>\n",
       "      <th>right</th>\n",
       "      <th>science</th>\n",
       "      <th>time</th>\n",
       "    </tr>\n",
       "  </thead>\n",
       "  <tbody>\n",
       "    <tr>\n",
       "      <th>0</th>\n",
       "      <td>1</td>\n",
       "      <td>1</td>\n",
       "      <td>0</td>\n",
       "      <td>1</td>\n",
       "      <td>0</td>\n",
       "      <td>0</td>\n",
       "      <td>1</td>\n",
       "      <td>0</td>\n",
       "      <td>0</td>\n",
       "      <td>1</td>\n",
       "      <td>...</td>\n",
       "      <td>0</td>\n",
       "      <td>0</td>\n",
       "      <td>0</td>\n",
       "      <td>0</td>\n",
       "      <td>1</td>\n",
       "      <td>0</td>\n",
       "      <td>0</td>\n",
       "      <td>0</td>\n",
       "      <td>2</td>\n",
       "      <td>0</td>\n",
       "    </tr>\n",
       "    <tr>\n",
       "      <th>1</th>\n",
       "      <td>0</td>\n",
       "      <td>1</td>\n",
       "      <td>2</td>\n",
       "      <td>1</td>\n",
       "      <td>0</td>\n",
       "      <td>0</td>\n",
       "      <td>0</td>\n",
       "      <td>0</td>\n",
       "      <td>2</td>\n",
       "      <td>0</td>\n",
       "      <td>...</td>\n",
       "      <td>0</td>\n",
       "      <td>1</td>\n",
       "      <td>0</td>\n",
       "      <td>0</td>\n",
       "      <td>0</td>\n",
       "      <td>0</td>\n",
       "      <td>0</td>\n",
       "      <td>1</td>\n",
       "      <td>1</td>\n",
       "      <td>0</td>\n",
       "    </tr>\n",
       "    <tr>\n",
       "      <th>2</th>\n",
       "      <td>0</td>\n",
       "      <td>1</td>\n",
       "      <td>0</td>\n",
       "      <td>1</td>\n",
       "      <td>1</td>\n",
       "      <td>1</td>\n",
       "      <td>0</td>\n",
       "      <td>1</td>\n",
       "      <td>0</td>\n",
       "      <td>0</td>\n",
       "      <td>...</td>\n",
       "      <td>0</td>\n",
       "      <td>0</td>\n",
       "      <td>0</td>\n",
       "      <td>0</td>\n",
       "      <td>0</td>\n",
       "      <td>0</td>\n",
       "      <td>0</td>\n",
       "      <td>0</td>\n",
       "      <td>1</td>\n",
       "      <td>1</td>\n",
       "    </tr>\n",
       "    <tr>\n",
       "      <th>3</th>\n",
       "      <td>0</td>\n",
       "      <td>0</td>\n",
       "      <td>0</td>\n",
       "      <td>0</td>\n",
       "      <td>0</td>\n",
       "      <td>0</td>\n",
       "      <td>0</td>\n",
       "      <td>0</td>\n",
       "      <td>0</td>\n",
       "      <td>1</td>\n",
       "      <td>...</td>\n",
       "      <td>1</td>\n",
       "      <td>0</td>\n",
       "      <td>1</td>\n",
       "      <td>1</td>\n",
       "      <td>0</td>\n",
       "      <td>1</td>\n",
       "      <td>1</td>\n",
       "      <td>0</td>\n",
       "      <td>1</td>\n",
       "      <td>0</td>\n",
       "    </tr>\n",
       "  </tbody>\n",
       "</table>\n",
       "<p>4 rows × 26 columns</p>\n",
       "</div>"
      ],
      "text/plain": [
       "   an  and  are  arts  at  becomes  between  both  brained  data  ...   \\\n",
       "0   1    1    0     1   0        0        1     0        0     1  ...    \n",
       "1   0    1    2     1   0        0        0     0        2     0  ...    \n",
       "2   0    1    0     1   1        1        0     1        0     0  ...    \n",
       "3   0    0    0     0   0        0        0     0        0     1  ...    \n",
       "\n",
       "   language  left  natural  of  overlap  part  processing  right  science  \\\n",
       "0         0     0        0   0        1     0           0      0        2   \n",
       "1         0     1        0   0        0     0           0      1        1   \n",
       "2         0     0        0   0        0     0           0      0        1   \n",
       "3         1     0        1   1        0     1           1      0        1   \n",
       "\n",
       "   time  \n",
       "0     0  \n",
       "1     0  \n",
       "2     1  \n",
       "3     0  \n",
       "\n",
       "[4 rows x 26 columns]"
      ]
     },
     "execution_count": 86,
     "metadata": {},
     "output_type": "execute_result"
    }
   ],
   "source": [
    "bag_of_word_df = pd.DataFrame(bag_of_words_model.fit_transform(corpus).todense())\n",
    "bag_of_word_df.columns = sorted(bag_of_words_model.vocabulary_)\n",
    "bag_of_word_df.head()"
   ]
  },
  {
   "cell_type": "code",
   "execution_count": 88,
   "metadata": {},
   "outputs": [
    {
     "data": {
      "text/html": [
       "<div>\n",
       "<style scoped>\n",
       "    .dataframe tbody tr th:only-of-type {\n",
       "        vertical-align: middle;\n",
       "    }\n",
       "\n",
       "    .dataframe tbody tr th {\n",
       "        vertical-align: top;\n",
       "    }\n",
       "\n",
       "    .dataframe thead th {\n",
       "        text-align: right;\n",
       "    }\n",
       "</style>\n",
       "<table border=\"1\" class=\"dataframe\">\n",
       "  <thead>\n",
       "    <tr style=\"text-align: right;\">\n",
       "      <th></th>\n",
       "      <th>an</th>\n",
       "      <th>and</th>\n",
       "      <th>are</th>\n",
       "      <th>arts</th>\n",
       "      <th>brained</th>\n",
       "      <th>data</th>\n",
       "      <th>graduates</th>\n",
       "      <th>is</th>\n",
       "      <th>right</th>\n",
       "      <th>science</th>\n",
       "    </tr>\n",
       "  </thead>\n",
       "  <tbody>\n",
       "    <tr>\n",
       "      <th>0</th>\n",
       "      <td>1</td>\n",
       "      <td>1</td>\n",
       "      <td>0</td>\n",
       "      <td>1</td>\n",
       "      <td>0</td>\n",
       "      <td>1</td>\n",
       "      <td>0</td>\n",
       "      <td>1</td>\n",
       "      <td>0</td>\n",
       "      <td>2</td>\n",
       "    </tr>\n",
       "    <tr>\n",
       "      <th>1</th>\n",
       "      <td>0</td>\n",
       "      <td>1</td>\n",
       "      <td>2</td>\n",
       "      <td>1</td>\n",
       "      <td>2</td>\n",
       "      <td>0</td>\n",
       "      <td>2</td>\n",
       "      <td>0</td>\n",
       "      <td>1</td>\n",
       "      <td>1</td>\n",
       "    </tr>\n",
       "    <tr>\n",
       "      <th>2</th>\n",
       "      <td>0</td>\n",
       "      <td>1</td>\n",
       "      <td>0</td>\n",
       "      <td>1</td>\n",
       "      <td>0</td>\n",
       "      <td>0</td>\n",
       "      <td>0</td>\n",
       "      <td>0</td>\n",
       "      <td>0</td>\n",
       "      <td>1</td>\n",
       "    </tr>\n",
       "    <tr>\n",
       "      <th>3</th>\n",
       "      <td>0</td>\n",
       "      <td>0</td>\n",
       "      <td>0</td>\n",
       "      <td>0</td>\n",
       "      <td>0</td>\n",
       "      <td>1</td>\n",
       "      <td>0</td>\n",
       "      <td>1</td>\n",
       "      <td>0</td>\n",
       "      <td>1</td>\n",
       "    </tr>\n",
       "  </tbody>\n",
       "</table>\n",
       "</div>"
      ],
      "text/plain": [
       "   an  and  are  arts  brained  data  graduates  is  right  science\n",
       "0   1    1    0     1        0     1          0   1      0        2\n",
       "1   0    1    2     1        2     0          2   0      1        1\n",
       "2   0    1    0     1        0     0          0   0      0        1\n",
       "3   0    0    0     0        0     1          0   1      0        1"
      ]
     },
     "execution_count": 88,
     "metadata": {},
     "output_type": "execute_result"
    }
   ],
   "source": [
    "##Q2 Solution : Bag of word model for top 10 frequent terms\n",
    "bag_of_words_model_small = CountVectorizer(max_features=10)\n",
    "bag_of_word_df_small = pd.DataFrame(bag_of_words_model_small.fit_transform(corpus).todense())\n",
    "bag_of_word_df_small.columns = sorted(bag_of_words_model_small.vocabulary_)\n",
    "bag_of_word_df_small.head()"
   ]
  },
  {
   "cell_type": "markdown",
   "metadata": {},
   "source": [
    "# Exercise 13 : Zipf's Law"
   ]
  },
  {
   "cell_type": "markdown",
   "metadata": {},
   "source": [
    "Elucidate Zipf's Law for all articles present in sklearn’s “The 20 newsgroups text dataset”"
   ]
  },
  {
   "cell_type": "code",
   "execution_count": 165,
   "metadata": {},
   "outputs": [
    {
     "name": "stderr",
     "output_type": "stream",
     "text": [
      "[nltk_data] Downloading package stopwords to\n",
      "[nltk_data]     /Users/sohom.ghosh/nltk_data...\n",
      "[nltk_data]   Package stopwords is already up-to-date!\n"
     ]
    }
   ],
   "source": [
    "from pylab import *\n",
    "import nltk\n",
    "nltk.download('stopwords')\n",
    "from sklearn.datasets import fetch_20newsgroups\n",
    "from nltk import word_tokenize\n",
    "from nltk.corpus import stopwords\n",
    "import matplotlib.pyplot as plt\n",
    "%matplotlib inline\n",
    "import re\n",
    "import string\n",
    "from collections import Counter\n",
    "newsgroups_data_sample = fetch_20newsgroups(subset='train')"
   ]
  },
  {
   "cell_type": "code",
   "execution_count": 127,
   "metadata": {},
   "outputs": [],
   "source": [
    "stop_words = stopwords.words('english')\n",
    "\n",
    "#adding individual printable characters to list of wtop words so that they get renoved along with the stopwords\n",
    "stop_words = stop_words + list(string.printable)"
   ]
  },
  {
   "cell_type": "code",
   "execution_count": 128,
   "metadata": {},
   "outputs": [],
   "source": [
    "tokenized_corpus = [word.lower() for sentence in newsgroups_data_sample['data'] for word in word_tokenize(re.sub(r'([^\\s\\w]|_)+', ' ', sentence)) if word.lower() not in stop_words]\n",
    "\n"
   ]
  },
  {
   "cell_type": "code",
   "execution_count": 129,
   "metadata": {},
   "outputs": [],
   "source": [
    "token_count_di = Counter(tokenized_corpus)"
   ]
  },
  {
   "cell_type": "code",
   "execution_count": 130,
   "metadata": {},
   "outputs": [
    {
     "data": {
      "text/plain": [
       "[('ax', 62412),\n",
       " ('edu', 21321),\n",
       " ('subject', 12265),\n",
       " ('com', 12134),\n",
       " ('lines', 11835),\n",
       " ('organization', 11233),\n",
       " ('one', 9017),\n",
       " ('would', 8910),\n",
       " ('writes', 7844),\n",
       " ('article', 7438),\n",
       " ('people', 5977),\n",
       " ('like', 5868),\n",
       " ('university', 5589),\n",
       " ('posting', 5507),\n",
       " ('know', 5134),\n",
       " ('get', 4998),\n",
       " ('host', 4996),\n",
       " ('nntp', 4814),\n",
       " ('max', 4776),\n",
       " ('think', 4583),\n",
       " ('also', 4308),\n",
       " ('use', 4187),\n",
       " ('time', 4102),\n",
       " ('new', 3986),\n",
       " ('good', 3759),\n",
       " ('ca', 3546),\n",
       " ('could', 3511),\n",
       " ('well', 3480),\n",
       " ('us', 3364),\n",
       " ('may', 3313),\n",
       " ('even', 3280),\n",
       " ('see', 3065),\n",
       " ('cs', 3041),\n",
       " ('two', 3015),\n",
       " ('way', 3002),\n",
       " ('god', 2998),\n",
       " ('first', 2976),\n",
       " ('many', 2945),\n",
       " ('make', 2894),\n",
       " ('much', 2879),\n",
       " ('system', 2817),\n",
       " ('distribution', 2767),\n",
       " ('right', 2742),\n",
       " ('world', 2724),\n",
       " ('say', 2706),\n",
       " ('want', 2522),\n",
       " ('go', 2474),\n",
       " ('anyone', 2468),\n",
       " ('10', 2466),\n",
       " ('reply', 2463)]"
      ]
     },
     "execution_count": 130,
     "metadata": {},
     "output_type": "execute_result"
    }
   ],
   "source": [
    "token_count_di.most_common(50)"
   ]
  },
  {
   "cell_type": "code",
   "execution_count": 163,
   "metadata": {},
   "outputs": [
    {
     "data": {
      "image/png": "[encoded data removed]",
      "text/plain": [
       "<Figure size 576x576 with 1 Axes>"
      ]
     },
     "metadata": {
      "needs_background": "light"
     },
     "output_type": "display_data"
    }
   ],
   "source": [
    "frequencies = [b for (a,b) in token_count_di.most_common(10000)]\n",
    "tokens = [a for (a,b) in token_count_di.most_common(10000)]\n",
    "ranks = range(1, len(frequencies)+1)\n",
    "\n",
    "\n",
    "plt.figure(figsize=(8,8))\n",
    "plt.ylim(1,10**4)\n",
    "plt.xlim(1,10**4)\n",
    "\n",
    "#Actual ranks and frequencies\n",
    "obtained_line, = loglog(ranks, frequencies, marker=\".\", label=\"Line obtained from the Text Corpus\")\n",
    "obtained_legend = plt.legend(handles=[obtained_line], loc=1)\n",
    "ax = plt.gca().add_artist(obtained_legend)\n",
    "\n",
    "#Expected ranks and frequnecies as per Zipf's law\n",
    "expected_line, = plt.plot([1,frequencies[0]],[frequencies[0],1],color='r',label=\"Line expected as per Zipf's Law\")\n",
    "plt.legend(handles=[expected_line], loc=4)\n",
    "\n",
    "title(\"Plot stating Zipf law's in log-log scale\")\n",
    "xlabel(\"Rank of token in descending order of frequency of occurrence\")\n",
    "ylabel(\"Frequency of ocurrence of token\")\n",
    "grid(True)"
   ]
  },
  {
   "cell_type": "markdown",
   "metadata": {},
   "source": [
    "# Exercise 14 : TF-IDF"
   ]
  },
  {
   "cell_type": "markdown",
   "metadata": {},
   "source": [
    "Create the TF-IDF representation of the following texts for<br>\n",
    "1) All the terms <br>\n",
    "2) Top 10 frequent terms<br>\n",
    "\n",
    "Text_1: Data Science is an overlap between Arts and Science. <br>\n",
    "Text_2: Generally, Arts graduates are right-brained and Science graduates are left-brained.<br>\n",
    "Text_3: Excelling in both Arts and Science at a time becomes difficult.<br>\n",
    "Text_4: Natural Language Processing is a part of Data Science.<br>"
   ]
  },
  {
   "cell_type": "code",
   "execution_count": 215,
   "metadata": {},
   "outputs": [],
   "source": [
    "import pandas as pd\n",
    "from sklearn.feature_extraction.text import TfidfVectorizer\n",
    "corpus = [\n",
    "'Data Science is an overlap between Arts and Science',\n",
    "'Generally, Arts graduates are right-brained and Science graduates are left-brained',\n",
    "'Excelling in both Arts and Science at a time becomes difficult',\n",
    "'Natural Language Processing is a part of Data Science'\n",
    "]"
   ]
  },
  {
   "cell_type": "code",
   "execution_count": 217,
   "metadata": {},
   "outputs": [
    {
     "name": "stdout",
     "output_type": "stream",
     "text": [
      "[[0.40332811 0.25743911 0.         0.25743911 0.         0.\n",
      "  0.40332811 0.         0.         0.31798852 0.         0.\n",
      "  0.         0.         0.         0.31798852 0.         0.\n",
      "  0.         0.         0.40332811 0.         0.         0.\n",
      "  0.42094668 0.        ]\n",
      " [0.         0.159139   0.49864399 0.159139   0.         0.\n",
      "  0.         0.         0.49864399 0.         0.         0.\n",
      "  0.24932199 0.49864399 0.         0.         0.         0.24932199\n",
      "  0.         0.         0.         0.         0.         0.24932199\n",
      "  0.13010656 0.        ]\n",
      " [0.         0.22444946 0.         0.22444946 0.35164346 0.35164346\n",
      "  0.         0.35164346 0.         0.         0.35164346 0.35164346\n",
      "  0.         0.         0.35164346 0.         0.         0.\n",
      "  0.         0.         0.         0.         0.         0.\n",
      "  0.18350214 0.35164346]\n",
      " [0.         0.         0.         0.         0.         0.\n",
      "  0.         0.         0.         0.30887228 0.         0.\n",
      "  0.         0.         0.         0.30887228 0.39176533 0.\n",
      "  0.39176533 0.39176533 0.         0.39176533 0.39176533 0.\n",
      "  0.2044394  0.        ]]\n"
     ]
    }
   ],
   "source": [
    "#Q1 Solution : For all words\n",
    "tfidf_model = TfidfVectorizer()\n",
    "print(tfidf_model.fit_transform(corpus).todense())"
   ]
  },
  {
   "cell_type": "code",
   "execution_count": 218,
   "metadata": {},
   "outputs": [
    {
     "data": {
      "text/html": [
       "<div>\n",
       "<style scoped>\n",
       "    .dataframe tbody tr th:only-of-type {\n",
       "        vertical-align: middle;\n",
       "    }\n",
       "\n",
       "    .dataframe tbody tr th {\n",
       "        vertical-align: top;\n",
       "    }\n",
       "\n",
       "    .dataframe thead th {\n",
       "        text-align: right;\n",
       "    }\n",
       "</style>\n",
       "<table border=\"1\" class=\"dataframe\">\n",
       "  <thead>\n",
       "    <tr style=\"text-align: right;\">\n",
       "      <th></th>\n",
       "      <th>an</th>\n",
       "      <th>and</th>\n",
       "      <th>are</th>\n",
       "      <th>arts</th>\n",
       "      <th>at</th>\n",
       "      <th>becomes</th>\n",
       "      <th>between</th>\n",
       "      <th>both</th>\n",
       "      <th>brained</th>\n",
       "      <th>data</th>\n",
       "      <th>...</th>\n",
       "      <th>language</th>\n",
       "      <th>left</th>\n",
       "      <th>natural</th>\n",
       "      <th>of</th>\n",
       "      <th>overlap</th>\n",
       "      <th>part</th>\n",
       "      <th>processing</th>\n",
       "      <th>right</th>\n",
       "      <th>science</th>\n",
       "      <th>time</th>\n",
       "    </tr>\n",
       "  </thead>\n",
       "  <tbody>\n",
       "    <tr>\n",
       "      <th>0</th>\n",
       "      <td>0.403328</td>\n",
       "      <td>0.257439</td>\n",
       "      <td>0.000000</td>\n",
       "      <td>0.257439</td>\n",
       "      <td>0.000000</td>\n",
       "      <td>0.000000</td>\n",
       "      <td>0.403328</td>\n",
       "      <td>0.000000</td>\n",
       "      <td>0.000000</td>\n",
       "      <td>0.317989</td>\n",
       "      <td>...</td>\n",
       "      <td>0.000000</td>\n",
       "      <td>0.000000</td>\n",
       "      <td>0.000000</td>\n",
       "      <td>0.000000</td>\n",
       "      <td>0.403328</td>\n",
       "      <td>0.000000</td>\n",
       "      <td>0.000000</td>\n",
       "      <td>0.000000</td>\n",
       "      <td>0.420947</td>\n",
       "      <td>0.000000</td>\n",
       "    </tr>\n",
       "    <tr>\n",
       "      <th>1</th>\n",
       "      <td>0.000000</td>\n",
       "      <td>0.159139</td>\n",
       "      <td>0.498644</td>\n",
       "      <td>0.159139</td>\n",
       "      <td>0.000000</td>\n",
       "      <td>0.000000</td>\n",
       "      <td>0.000000</td>\n",
       "      <td>0.000000</td>\n",
       "      <td>0.498644</td>\n",
       "      <td>0.000000</td>\n",
       "      <td>...</td>\n",
       "      <td>0.000000</td>\n",
       "      <td>0.249322</td>\n",
       "      <td>0.000000</td>\n",
       "      <td>0.000000</td>\n",
       "      <td>0.000000</td>\n",
       "      <td>0.000000</td>\n",
       "      <td>0.000000</td>\n",
       "      <td>0.249322</td>\n",
       "      <td>0.130107</td>\n",
       "      <td>0.000000</td>\n",
       "    </tr>\n",
       "    <tr>\n",
       "      <th>2</th>\n",
       "      <td>0.000000</td>\n",
       "      <td>0.224449</td>\n",
       "      <td>0.000000</td>\n",
       "      <td>0.224449</td>\n",
       "      <td>0.351643</td>\n",
       "      <td>0.351643</td>\n",
       "      <td>0.000000</td>\n",
       "      <td>0.351643</td>\n",
       "      <td>0.000000</td>\n",
       "      <td>0.000000</td>\n",
       "      <td>...</td>\n",
       "      <td>0.000000</td>\n",
       "      <td>0.000000</td>\n",
       "      <td>0.000000</td>\n",
       "      <td>0.000000</td>\n",
       "      <td>0.000000</td>\n",
       "      <td>0.000000</td>\n",
       "      <td>0.000000</td>\n",
       "      <td>0.000000</td>\n",
       "      <td>0.183502</td>\n",
       "      <td>0.351643</td>\n",
       "    </tr>\n",
       "    <tr>\n",
       "      <th>3</th>\n",
       "      <td>0.000000</td>\n",
       "      <td>0.000000</td>\n",
       "      <td>0.000000</td>\n",
       "      <td>0.000000</td>\n",
       "      <td>0.000000</td>\n",
       "      <td>0.000000</td>\n",
       "      <td>0.000000</td>\n",
       "      <td>0.000000</td>\n",
       "      <td>0.000000</td>\n",
       "      <td>0.308872</td>\n",
       "      <td>...</td>\n",
       "      <td>0.391765</td>\n",
       "      <td>0.000000</td>\n",
       "      <td>0.391765</td>\n",
       "      <td>0.391765</td>\n",
       "      <td>0.000000</td>\n",
       "      <td>0.391765</td>\n",
       "      <td>0.391765</td>\n",
       "      <td>0.000000</td>\n",
       "      <td>0.204439</td>\n",
       "      <td>0.000000</td>\n",
       "    </tr>\n",
       "  </tbody>\n",
       "</table>\n",
       "<p>4 rows × 26 columns</p>\n",
       "</div>"
      ],
      "text/plain": [
       "         an       and       are      arts        at   becomes   between  \\\n",
       "0  0.403328  0.257439  0.000000  0.257439  0.000000  0.000000  0.403328   \n",
       "1  0.000000  0.159139  0.498644  0.159139  0.000000  0.000000  0.000000   \n",
       "2  0.000000  0.224449  0.000000  0.224449  0.351643  0.351643  0.000000   \n",
       "3  0.000000  0.000000  0.000000  0.000000  0.000000  0.000000  0.000000   \n",
       "\n",
       "       both   brained      data    ...     language      left   natural  \\\n",
       "0  0.000000  0.000000  0.317989    ...     0.000000  0.000000  0.000000   \n",
       "1  0.000000  0.498644  0.000000    ...     0.000000  0.249322  0.000000   \n",
       "2  0.351643  0.000000  0.000000    ...     0.000000  0.000000  0.000000   \n",
       "3  0.000000  0.000000  0.308872    ...     0.391765  0.000000  0.391765   \n",
       "\n",
       "         of   overlap      part  processing     right   science      time  \n",
       "0  0.000000  0.403328  0.000000    0.000000  0.000000  0.420947  0.000000  \n",
       "1  0.000000  0.000000  0.000000    0.000000  0.249322  0.130107  0.000000  \n",
       "2  0.000000  0.000000  0.000000    0.000000  0.000000  0.183502  0.351643  \n",
       "3  0.391765  0.000000  0.391765    0.391765  0.000000  0.204439  0.000000  \n",
       "\n",
       "[4 rows x 26 columns]"
      ]
     },
     "execution_count": 218,
     "metadata": {},
     "output_type": "execute_result"
    }
   ],
   "source": [
    "tfidf_df = pd.DataFrame(tfidf_model.fit_transform(corpus).todense())\n",
    "tfidf_df.columns = sorted(tfidf_model.vocabulary_)\n",
    "tfidf_df.head()"
   ]
  },
  {
   "cell_type": "code",
   "execution_count": 219,
   "metadata": {},
   "outputs": [
    {
     "data": {
      "text/html": [
       "<div>\n",
       "<style scoped>\n",
       "    .dataframe tbody tr th:only-of-type {\n",
       "        vertical-align: middle;\n",
       "    }\n",
       "\n",
       "    .dataframe tbody tr th {\n",
       "        vertical-align: top;\n",
       "    }\n",
       "\n",
       "    .dataframe thead th {\n",
       "        text-align: right;\n",
       "    }\n",
       "</style>\n",
       "<table border=\"1\" class=\"dataframe\">\n",
       "  <thead>\n",
       "    <tr style=\"text-align: right;\">\n",
       "      <th></th>\n",
       "      <th>an</th>\n",
       "      <th>and</th>\n",
       "      <th>are</th>\n",
       "      <th>arts</th>\n",
       "      <th>brained</th>\n",
       "      <th>data</th>\n",
       "      <th>graduates</th>\n",
       "      <th>is</th>\n",
       "      <th>right</th>\n",
       "      <th>science</th>\n",
       "    </tr>\n",
       "  </thead>\n",
       "  <tbody>\n",
       "    <tr>\n",
       "      <th>0</th>\n",
       "      <td>0.491042</td>\n",
       "      <td>0.313426</td>\n",
       "      <td>0.000000</td>\n",
       "      <td>0.313426</td>\n",
       "      <td>0.000000</td>\n",
       "      <td>0.387143</td>\n",
       "      <td>0.000000</td>\n",
       "      <td>0.387143</td>\n",
       "      <td>0.000000</td>\n",
       "      <td>0.512492</td>\n",
       "    </tr>\n",
       "    <tr>\n",
       "      <th>1</th>\n",
       "      <td>0.000000</td>\n",
       "      <td>0.170061</td>\n",
       "      <td>0.532867</td>\n",
       "      <td>0.170061</td>\n",
       "      <td>0.532867</td>\n",
       "      <td>0.000000</td>\n",
       "      <td>0.532867</td>\n",
       "      <td>0.000000</td>\n",
       "      <td>0.266433</td>\n",
       "      <td>0.139036</td>\n",
       "    </tr>\n",
       "    <tr>\n",
       "      <th>2</th>\n",
       "      <td>0.000000</td>\n",
       "      <td>0.612172</td>\n",
       "      <td>0.000000</td>\n",
       "      <td>0.612172</td>\n",
       "      <td>0.000000</td>\n",
       "      <td>0.000000</td>\n",
       "      <td>0.000000</td>\n",
       "      <td>0.000000</td>\n",
       "      <td>0.000000</td>\n",
       "      <td>0.500491</td>\n",
       "    </tr>\n",
       "    <tr>\n",
       "      <th>3</th>\n",
       "      <td>0.000000</td>\n",
       "      <td>0.000000</td>\n",
       "      <td>0.000000</td>\n",
       "      <td>0.000000</td>\n",
       "      <td>0.000000</td>\n",
       "      <td>0.640434</td>\n",
       "      <td>0.000000</td>\n",
       "      <td>0.640434</td>\n",
       "      <td>0.000000</td>\n",
       "      <td>0.423897</td>\n",
       "    </tr>\n",
       "  </tbody>\n",
       "</table>\n",
       "</div>"
      ],
      "text/plain": [
       "         an       and       are      arts   brained      data  graduates  \\\n",
       "0  0.491042  0.313426  0.000000  0.313426  0.000000  0.387143   0.000000   \n",
       "1  0.000000  0.170061  0.532867  0.170061  0.532867  0.000000   0.532867   \n",
       "2  0.000000  0.612172  0.000000  0.612172  0.000000  0.000000   0.000000   \n",
       "3  0.000000  0.000000  0.000000  0.000000  0.000000  0.640434   0.000000   \n",
       "\n",
       "         is     right   science  \n",
       "0  0.387143  0.000000  0.512492  \n",
       "1  0.000000  0.266433  0.139036  \n",
       "2  0.000000  0.000000  0.500491  \n",
       "3  0.640434  0.000000  0.423897  "
      ]
     },
     "execution_count": 219,
     "metadata": {},
     "output_type": "execute_result"
    }
   ],
   "source": [
    "##Q2 Solution : TFIDF for top 10 frequent terms\n",
    "tfidf_model_small = TfidfVectorizer(max_features=10)\n",
    "tfidf_df_small = pd.DataFrame(tfidf_model_small.fit_transform(corpus).todense())\n",
    "tfidf_df_small.columns = sorted(tfidf_model_small.vocabulary_)\n",
    "tfidf_df_small.head()"
   ]
  },
  {
   "cell_type": "markdown",
   "metadata": {},
   "source": [
    "# Activity 2 : Extracting specific features from texts"
   ]
  },
  {
   "cell_type": "markdown",
   "metadata": {},
   "source": [
    "Create a Bag of Word model and a TF-IDF model using sklearn’s ‘The 20 newsgroups text dataset’ using top 20 frequently occuring words. Compare and contrast these two models. Which are the most informative terms of the 2nd document according to these models. Are the sets of most informative terms different from each other? Is so, what do you think are the reasons for this difference? <br>\n",
    "(Note: Assume first instance to be the 0th document )\n"
   ]
  },
  {
   "cell_type": "code",
   "execution_count": 2,
   "metadata": {},
   "outputs": [
    {
     "name": "stderr",
     "output_type": "stream",
     "text": [
      "[nltk_data] Downloading package stopwords to\n",
      "[nltk_data]     /Users/sohom.ghosh/nltk_data...\n",
      "[nltk_data]   Package stopwords is already up-to-date!\n"
     ]
    }
   ],
   "source": [
    "import nltk\n",
    "nltk.download('stopwords')\n",
    "from nltk.corpus import stopwords\n",
    "from nltk import word_tokenize\n",
    "from nltk.stem import WordNetLemmatizer\n",
    "from sklearn.feature_extraction.text import TfidfVectorizer\n",
    "from sklearn.feature_extraction.text import CountVectorizer\n",
    "from sklearn.datasets import fetch_20newsgroups\n",
    "import re\n",
    "import string\n",
    "import pandas as pd\n",
    "\n",
    "newsgroups_data_sample = fetch_20newsgroups(subset='train')\n",
    "lemmatizer = WordNetLemmatizer()"
   ]
  },
  {
   "cell_type": "code",
   "execution_count": 100,
   "metadata": {},
   "outputs": [
    {
     "data": {
      "text/html": [
       "<div>\n",
       "<style scoped>\n",
       "    .dataframe tbody tr th:only-of-type {\n",
       "        vertical-align: middle;\n",
       "    }\n",
       "\n",
       "    .dataframe tbody tr th {\n",
       "        vertical-align: top;\n",
       "    }\n",
       "\n",
       "    .dataframe thead th {\n",
       "        text-align: right;\n",
       "    }\n",
       "</style>\n",
       "<table border=\"1\" class=\"dataframe\">\n",
       "  <thead>\n",
       "    <tr style=\"text-align: right;\">\n",
       "      <th></th>\n",
       "      <th>text</th>\n",
       "    </tr>\n",
       "  </thead>\n",
       "  <tbody>\n",
       "    <tr>\n",
       "      <th>0</th>\n",
       "      <td>From: lerxst@wam.umd.edu (where's my thing)\\nS...</td>\n",
       "    </tr>\n",
       "    <tr>\n",
       "      <th>1</th>\n",
       "      <td>From: guykuo@carson.u.washington.edu (Guy Kuo)...</td>\n",
       "    </tr>\n",
       "    <tr>\n",
       "      <th>2</th>\n",
       "      <td>From: twillis@ec.ecn.purdue.edu (Thomas E Will...</td>\n",
       "    </tr>\n",
       "    <tr>\n",
       "      <th>3</th>\n",
       "      <td>From: jgreen@amber (Joe Green)\\nSubject: Re: W...</td>\n",
       "    </tr>\n",
       "    <tr>\n",
       "      <th>4</th>\n",
       "      <td>From: jcm@head-cfa.harvard.edu (Jonathan McDow...</td>\n",
       "    </tr>\n",
       "  </tbody>\n",
       "</table>\n",
       "</div>"
      ],
      "text/plain": [
       "                                                text\n",
       "0  From: lerxst@wam.umd.edu (where's my thing)\\nS...\n",
       "1  From: guykuo@carson.u.washington.edu (Guy Kuo)...\n",
       "2  From: twillis@ec.ecn.purdue.edu (Thomas E Will...\n",
       "3  From: jgreen@amber (Joe Green)\\nSubject: Re: W...\n",
       "4  From: jcm@head-cfa.harvard.edu (Jonathan McDow..."
      ]
     },
     "execution_count": 100,
     "metadata": {},
     "output_type": "execute_result"
    }
   ],
   "source": [
    "newsgroups_text_df = pd.DataFrame({'text' : newsgroups_data_sample['data']})\n",
    "newsgroups_text_df.head()"
   ]
  },
  {
   "cell_type": "code",
   "execution_count": 122,
   "metadata": {},
   "outputs": [],
   "source": [
    "stop_words = stopwords.words('english')\n",
    "\n",
    "#adding individual printable characters to list of stop words so that they get renoved along with the stopwords\n",
    "stop_words = stop_words + list(string.printable)\n",
    "\n",
    "newsgroups_text_df['cleaned_text'] = newsgroups_text_df['text'].apply(\\\n",
    "lambda x : ' '.join([lemmatizer.lemmatize(word.lower()) \\\n",
    "    for word in word_tokenize(re.sub(r'([^\\s\\w]|_)+', ' ', str(x))) if word.lower() not in stop_words]))"
   ]
  },
  {
   "cell_type": "code",
   "execution_count": 105,
   "metadata": {},
   "outputs": [
    {
     "data": {
      "text/html": [
       "<div>\n",
       "<style scoped>\n",
       "    .dataframe tbody tr th:only-of-type {\n",
       "        vertical-align: middle;\n",
       "    }\n",
       "\n",
       "    .dataframe tbody tr th {\n",
       "        vertical-align: top;\n",
       "    }\n",
       "\n",
       "    .dataframe thead th {\n",
       "        text-align: right;\n",
       "    }\n",
       "</style>\n",
       "<table border=\"1\" class=\"dataframe\">\n",
       "  <thead>\n",
       "    <tr style=\"text-align: right;\">\n",
       "      <th></th>\n",
       "      <th>article</th>\n",
       "      <th>ax</th>\n",
       "      <th>com</th>\n",
       "      <th>edu</th>\n",
       "      <th>get</th>\n",
       "      <th>host</th>\n",
       "      <th>know</th>\n",
       "      <th>like</th>\n",
       "      <th>line</th>\n",
       "      <th>max</th>\n",
       "      <th>nntp</th>\n",
       "      <th>one</th>\n",
       "      <th>organization</th>\n",
       "      <th>people</th>\n",
       "      <th>posting</th>\n",
       "      <th>subject</th>\n",
       "      <th>time</th>\n",
       "      <th>university</th>\n",
       "      <th>would</th>\n",
       "      <th>writes</th>\n",
       "    </tr>\n",
       "  </thead>\n",
       "  <tbody>\n",
       "    <tr>\n",
       "      <th>0</th>\n",
       "      <td>0</td>\n",
       "      <td>0</td>\n",
       "      <td>0</td>\n",
       "      <td>2</td>\n",
       "      <td>0</td>\n",
       "      <td>1</td>\n",
       "      <td>1</td>\n",
       "      <td>0</td>\n",
       "      <td>1</td>\n",
       "      <td>0</td>\n",
       "      <td>1</td>\n",
       "      <td>0</td>\n",
       "      <td>1</td>\n",
       "      <td>0</td>\n",
       "      <td>1</td>\n",
       "      <td>1</td>\n",
       "      <td>0</td>\n",
       "      <td>1</td>\n",
       "      <td>0</td>\n",
       "      <td>0</td>\n",
       "    </tr>\n",
       "    <tr>\n",
       "      <th>1</th>\n",
       "      <td>1</td>\n",
       "      <td>0</td>\n",
       "      <td>0</td>\n",
       "      <td>3</td>\n",
       "      <td>0</td>\n",
       "      <td>1</td>\n",
       "      <td>0</td>\n",
       "      <td>0</td>\n",
       "      <td>1</td>\n",
       "      <td>0</td>\n",
       "      <td>1</td>\n",
       "      <td>0</td>\n",
       "      <td>1</td>\n",
       "      <td>0</td>\n",
       "      <td>1</td>\n",
       "      <td>1</td>\n",
       "      <td>0</td>\n",
       "      <td>1</td>\n",
       "      <td>0</td>\n",
       "      <td>0</td>\n",
       "    </tr>\n",
       "    <tr>\n",
       "      <th>2</th>\n",
       "      <td>0</td>\n",
       "      <td>0</td>\n",
       "      <td>0</td>\n",
       "      <td>2</td>\n",
       "      <td>1</td>\n",
       "      <td>0</td>\n",
       "      <td>1</td>\n",
       "      <td>1</td>\n",
       "      <td>2</td>\n",
       "      <td>0</td>\n",
       "      <td>0</td>\n",
       "      <td>1</td>\n",
       "      <td>1</td>\n",
       "      <td>1</td>\n",
       "      <td>0</td>\n",
       "      <td>1</td>\n",
       "      <td>1</td>\n",
       "      <td>1</td>\n",
       "      <td>0</td>\n",
       "      <td>0</td>\n",
       "    </tr>\n",
       "    <tr>\n",
       "      <th>3</th>\n",
       "      <td>1</td>\n",
       "      <td>0</td>\n",
       "      <td>2</td>\n",
       "      <td>2</td>\n",
       "      <td>1</td>\n",
       "      <td>1</td>\n",
       "      <td>1</td>\n",
       "      <td>1</td>\n",
       "      <td>1</td>\n",
       "      <td>0</td>\n",
       "      <td>1</td>\n",
       "      <td>0</td>\n",
       "      <td>1</td>\n",
       "      <td>0</td>\n",
       "      <td>1</td>\n",
       "      <td>1</td>\n",
       "      <td>0</td>\n",
       "      <td>0</td>\n",
       "      <td>0</td>\n",
       "      <td>1</td>\n",
       "    </tr>\n",
       "    <tr>\n",
       "      <th>4</th>\n",
       "      <td>2</td>\n",
       "      <td>0</td>\n",
       "      <td>2</td>\n",
       "      <td>3</td>\n",
       "      <td>0</td>\n",
       "      <td>0</td>\n",
       "      <td>0</td>\n",
       "      <td>0</td>\n",
       "      <td>1</td>\n",
       "      <td>0</td>\n",
       "      <td>0</td>\n",
       "      <td>0</td>\n",
       "      <td>1</td>\n",
       "      <td>0</td>\n",
       "      <td>0</td>\n",
       "      <td>1</td>\n",
       "      <td>0</td>\n",
       "      <td>0</td>\n",
       "      <td>0</td>\n",
       "      <td>1</td>\n",
       "    </tr>\n",
       "  </tbody>\n",
       "</table>\n",
       "</div>"
      ],
      "text/plain": [
       "   article  ax  com  edu  get  host  know  like  line  max  nntp  one  \\\n",
       "0        0   0    0    2    0     1     1     0     1    0     1    0   \n",
       "1        1   0    0    3    0     1     0     0     1    0     1    0   \n",
       "2        0   0    0    2    1     0     1     1     2    0     0    1   \n",
       "3        1   0    2    2    1     1     1     1     1    0     1    0   \n",
       "4        2   0    2    3    0     0     0     0     1    0     0    0   \n",
       "\n",
       "   organization  people  posting  subject  time  university  would  writes  \n",
       "0             1       0        1        1     0           1      0       0  \n",
       "1             1       0        1        1     0           1      0       0  \n",
       "2             1       1        0        1     1           1      0       0  \n",
       "3             1       0        1        1     0           0      0       1  \n",
       "4             1       0        0        1     0           0      0       1  "
      ]
     },
     "execution_count": 105,
     "metadata": {},
     "output_type": "execute_result"
    }
   ],
   "source": [
    "bag_of_words_model = CountVectorizer(max_features= 20)\n",
    "bag_of_word_df = pd.DataFrame(bag_of_words_model.fit_transform(newsgroups_text_df['cleaned_text']).todense())\n",
    "bag_of_word_df.columns = sorted(bag_of_words_model.vocabulary_)\n",
    "bag_of_word_df.head()"
   ]
  },
  {
   "cell_type": "code",
   "execution_count": 104,
   "metadata": {},
   "outputs": [
    {
     "data": {
      "text/html": [
       "<div>\n",
       "<style scoped>\n",
       "    .dataframe tbody tr th:only-of-type {\n",
       "        vertical-align: middle;\n",
       "    }\n",
       "\n",
       "    .dataframe tbody tr th {\n",
       "        vertical-align: top;\n",
       "    }\n",
       "\n",
       "    .dataframe thead th {\n",
       "        text-align: right;\n",
       "    }\n",
       "</style>\n",
       "<table border=\"1\" class=\"dataframe\">\n",
       "  <thead>\n",
       "    <tr style=\"text-align: right;\">\n",
       "      <th></th>\n",
       "      <th>article</th>\n",
       "      <th>ax</th>\n",
       "      <th>com</th>\n",
       "      <th>edu</th>\n",
       "      <th>get</th>\n",
       "      <th>host</th>\n",
       "      <th>know</th>\n",
       "      <th>like</th>\n",
       "      <th>line</th>\n",
       "      <th>max</th>\n",
       "      <th>nntp</th>\n",
       "      <th>one</th>\n",
       "      <th>organization</th>\n",
       "      <th>people</th>\n",
       "      <th>posting</th>\n",
       "      <th>subject</th>\n",
       "      <th>time</th>\n",
       "      <th>university</th>\n",
       "      <th>would</th>\n",
       "      <th>writes</th>\n",
       "    </tr>\n",
       "  </thead>\n",
       "  <tbody>\n",
       "    <tr>\n",
       "      <th>0</th>\n",
       "      <td>0.000000</td>\n",
       "      <td>0.0</td>\n",
       "      <td>0.000000</td>\n",
       "      <td>0.522408</td>\n",
       "      <td>0.000000</td>\n",
       "      <td>0.338589</td>\n",
       "      <td>0.399935</td>\n",
       "      <td>0.000000</td>\n",
       "      <td>0.183761</td>\n",
       "      <td>0.0</td>\n",
       "      <td>0.341216</td>\n",
       "      <td>0.000000</td>\n",
       "      <td>0.190375</td>\n",
       "      <td>0.00000</td>\n",
       "      <td>0.327584</td>\n",
       "      <td>0.183242</td>\n",
       "      <td>0.000000</td>\n",
       "      <td>0.353795</td>\n",
       "      <td>0.0</td>\n",
       "      <td>0.000000</td>\n",
       "    </tr>\n",
       "    <tr>\n",
       "      <th>1</th>\n",
       "      <td>0.282739</td>\n",
       "      <td>0.0</td>\n",
       "      <td>0.000000</td>\n",
       "      <td>0.691591</td>\n",
       "      <td>0.000000</td>\n",
       "      <td>0.298827</td>\n",
       "      <td>0.000000</td>\n",
       "      <td>0.000000</td>\n",
       "      <td>0.162181</td>\n",
       "      <td>0.0</td>\n",
       "      <td>0.301146</td>\n",
       "      <td>0.000000</td>\n",
       "      <td>0.168019</td>\n",
       "      <td>0.00000</td>\n",
       "      <td>0.289115</td>\n",
       "      <td>0.161723</td>\n",
       "      <td>0.000000</td>\n",
       "      <td>0.312248</td>\n",
       "      <td>0.0</td>\n",
       "      <td>0.000000</td>\n",
       "    </tr>\n",
       "    <tr>\n",
       "      <th>2</th>\n",
       "      <td>0.000000</td>\n",
       "      <td>0.0</td>\n",
       "      <td>0.000000</td>\n",
       "      <td>0.411404</td>\n",
       "      <td>0.325661</td>\n",
       "      <td>0.000000</td>\n",
       "      <td>0.314954</td>\n",
       "      <td>0.308844</td>\n",
       "      <td>0.289428</td>\n",
       "      <td>0.0</td>\n",
       "      <td>0.000000</td>\n",
       "      <td>0.277716</td>\n",
       "      <td>0.149923</td>\n",
       "      <td>0.35893</td>\n",
       "      <td>0.000000</td>\n",
       "      <td>0.144306</td>\n",
       "      <td>0.345624</td>\n",
       "      <td>0.278619</td>\n",
       "      <td>0.0</td>\n",
       "      <td>0.000000</td>\n",
       "    </tr>\n",
       "    <tr>\n",
       "      <th>3</th>\n",
       "      <td>0.234838</td>\n",
       "      <td>0.0</td>\n",
       "      <td>0.499523</td>\n",
       "      <td>0.382949</td>\n",
       "      <td>0.303137</td>\n",
       "      <td>0.248201</td>\n",
       "      <td>0.293170</td>\n",
       "      <td>0.287482</td>\n",
       "      <td>0.134705</td>\n",
       "      <td>0.0</td>\n",
       "      <td>0.250127</td>\n",
       "      <td>0.000000</td>\n",
       "      <td>0.139553</td>\n",
       "      <td>0.00000</td>\n",
       "      <td>0.240134</td>\n",
       "      <td>0.134325</td>\n",
       "      <td>0.000000</td>\n",
       "      <td>0.000000</td>\n",
       "      <td>0.0</td>\n",
       "      <td>0.225159</td>\n",
       "    </tr>\n",
       "    <tr>\n",
       "      <th>4</th>\n",
       "      <td>0.493319</td>\n",
       "      <td>0.0</td>\n",
       "      <td>0.524670</td>\n",
       "      <td>0.603340</td>\n",
       "      <td>0.000000</td>\n",
       "      <td>0.000000</td>\n",
       "      <td>0.000000</td>\n",
       "      <td>0.000000</td>\n",
       "      <td>0.141486</td>\n",
       "      <td>0.0</td>\n",
       "      <td>0.000000</td>\n",
       "      <td>0.000000</td>\n",
       "      <td>0.146579</td>\n",
       "      <td>0.00000</td>\n",
       "      <td>0.000000</td>\n",
       "      <td>0.141087</td>\n",
       "      <td>0.000000</td>\n",
       "      <td>0.000000</td>\n",
       "      <td>0.0</td>\n",
       "      <td>0.236494</td>\n",
       "    </tr>\n",
       "  </tbody>\n",
       "</table>\n",
       "</div>"
      ],
      "text/plain": [
       "    article   ax       com       edu       get      host      know      like  \\\n",
       "0  0.000000  0.0  0.000000  0.522408  0.000000  0.338589  0.399935  0.000000   \n",
       "1  0.282739  0.0  0.000000  0.691591  0.000000  0.298827  0.000000  0.000000   \n",
       "2  0.000000  0.0  0.000000  0.411404  0.325661  0.000000  0.314954  0.308844   \n",
       "3  0.234838  0.0  0.499523  0.382949  0.303137  0.248201  0.293170  0.287482   \n",
       "4  0.493319  0.0  0.524670  0.603340  0.000000  0.000000  0.000000  0.000000   \n",
       "\n",
       "       line  max      nntp       one  organization   people   posting  \\\n",
       "0  0.183761  0.0  0.341216  0.000000      0.190375  0.00000  0.327584   \n",
       "1  0.162181  0.0  0.301146  0.000000      0.168019  0.00000  0.289115   \n",
       "2  0.289428  0.0  0.000000  0.277716      0.149923  0.35893  0.000000   \n",
       "3  0.134705  0.0  0.250127  0.000000      0.139553  0.00000  0.240134   \n",
       "4  0.141486  0.0  0.000000  0.000000      0.146579  0.00000  0.000000   \n",
       "\n",
       "    subject      time  university  would    writes  \n",
       "0  0.183242  0.000000    0.353795    0.0  0.000000  \n",
       "1  0.161723  0.000000    0.312248    0.0  0.000000  \n",
       "2  0.144306  0.345624    0.278619    0.0  0.000000  \n",
       "3  0.134325  0.000000    0.000000    0.0  0.225159  \n",
       "4  0.141087  0.000000    0.000000    0.0  0.236494  "
      ]
     },
     "execution_count": 104,
     "metadata": {},
     "output_type": "execute_result"
    }
   ],
   "source": [
    "tfidf_model = TfidfVectorizer(max_features=20)\n",
    "tfidf_df = pd.DataFrame(tfidf_model.fit_transform(newsgroups_text_df['cleaned_text']).todense())\n",
    "tfidf_df.columns = sorted(tfidf_model.vocabulary_)\n",
    "tfidf_df.head()"
   ]
  },
  {
   "cell_type": "code",
   "execution_count": 120,
   "metadata": {},
   "outputs": [
    {
     "data": {
      "text/plain": [
       "['edu', 'line']"
      ]
     },
     "execution_count": 120,
     "metadata": {},
     "output_type": "execute_result"
    }
   ],
   "source": [
    "rw = 2\n",
    "list(bag_of_word_df.columns[bag_of_word_df.iloc[rw,:] == bag_of_word_df.iloc[rw,:].max()])"
   ]
  },
  {
   "cell_type": "code",
   "execution_count": 121,
   "metadata": {},
   "outputs": [
    {
     "data": {
      "text/plain": [
       "['edu']"
      ]
     },
     "execution_count": 121,
     "metadata": {},
     "output_type": "execute_result"
    }
   ],
   "source": [
    "rw = 2\n",
    "list(tfidf_df.columns[tfidf_df.iloc[rw,:] == tfidf_df.iloc[rw,:].max()])"
   ]
  },
  {
   "cell_type": "code",
   "execution_count": 125,
   "metadata": {},
   "outputs": [
    {
     "data": {
      "text/plain": [
       "11282"
      ]
     },
     "execution_count": 125,
     "metadata": {},
     "output_type": "execute_result"
    }
   ],
   "source": [
    "bag_of_word_df[bag_of_word_df['line']!=0].shape[0]"
   ]
  },
  {
   "cell_type": "code",
   "execution_count": 126,
   "metadata": {},
   "outputs": [
    {
     "data": {
      "text/plain": [
       "7393"
      ]
     },
     "execution_count": 126,
     "metadata": {},
     "output_type": "execute_result"
    }
   ],
   "source": [
    "bag_of_word_df[bag_of_word_df['edu']!=0].shape[0]"
   ]
  },
  {
   "cell_type": "markdown",
   "metadata": {},
   "source": [
    "# Exercise 15 : Feature Engineering (Text Similarity)"
   ]
  },
  {
   "cell_type": "markdown",
   "metadata": {},
   "source": [
    "Calculate i) Jaccard similarity ii) Cosine similarity for the following pair of texts. (Note: For cosine similarity use TF-IDF representation)\n",
    "\n",
    "Pair 1: “What you do defines you” and “Your deeds define you” <br>\n",
    "Pair 2: “Once upon a time there lived a king.” and “Who is your queen?” <br>\n",
    "Pair 3: “He is desperate” and “Is he not desperate?” <br>"
   ]
  },
  {
   "cell_type": "code",
   "execution_count": 246,
   "metadata": {},
   "outputs": [],
   "source": [
    "from nltk import word_tokenize\n",
    "from nltk.stem import WordNetLemmatizer\n",
    "from sklearn.feature_extraction.text import TfidfVectorizer\n",
    "from sklearn.metrics.pairwise import cosine_similarity\n",
    "lemmatizer = WordNetLemmatizer()"
   ]
  },
  {
   "cell_type": "code",
   "execution_count": 220,
   "metadata": {},
   "outputs": [],
   "source": [
    "pair1 = [\"What you do defines you\",\"Your deeds define you\"]\n",
    "pair2 = [\"Once upon a time there lived a king.\", \"Who is your queen?\"]\n",
    "pair3 = [\"He is desperate\", \"Is he not desperate?\"]"
   ]
  },
  {
   "cell_type": "code",
   "execution_count": 238,
   "metadata": {},
   "outputs": [],
   "source": [
    "def extract_text_similarity_jaccard (text1, text2):\n",
    "    words_text1 = [lemmatizer.lemmatize(word.lower()) for word in word_tokenize(text1)]\n",
    "    words_text2 = [lemmatizer.lemmatize(word.lower()) for word in word_tokenize(text2)]\n",
    "    nr = len(set(words_text1).intersection(set(words_text2)))\n",
    "    dr = len(set(words_text1).union(set(words_text2)))\n",
    "    jaccard_sim = nr/dr\n",
    "    return jaccard_sim"
   ]
  },
  {
   "cell_type": "code",
   "execution_count": 239,
   "metadata": {},
   "outputs": [
    {
     "data": {
      "text/plain": [
       "0.14285714285714285"
      ]
     },
     "execution_count": 239,
     "metadata": {},
     "output_type": "execute_result"
    }
   ],
   "source": [
    "extract_text_similarity_jaccard(pair1[0],pair1[1])"
   ]
  },
  {
   "cell_type": "code",
   "execution_count": 240,
   "metadata": {},
   "outputs": [
    {
     "data": {
      "text/plain": [
       "0.0"
      ]
     },
     "execution_count": 240,
     "metadata": {},
     "output_type": "execute_result"
    }
   ],
   "source": [
    "extract_text_similarity_jaccard(pair2[0],pair2[1])"
   ]
  },
  {
   "cell_type": "code",
   "execution_count": 241,
   "metadata": {},
   "outputs": [
    {
     "data": {
      "text/plain": [
       "0.6"
      ]
     },
     "execution_count": 241,
     "metadata": {},
     "output_type": "execute_result"
    }
   ],
   "source": [
    "extract_text_similarity_jaccard(pair3[0],pair3[1])"
   ]
  },
  {
   "cell_type": "code",
   "execution_count": 244,
   "metadata": {},
   "outputs": [],
   "source": [
    "tfidf_model = TfidfVectorizer()\n",
    "\n",
    "#Creating a corpus which will have texts of pair1, pair2 and pair 3 respectively\n",
    "corpus = [pair1[0], pair1[1], pair2[0], pair2[1], pair3[0], pair3[1]]\n",
    "\n",
    "tfidf_results = tfidf_model.fit_transform(corpus).todense()\n",
    "#Note: Here tfidf_results will have tf-idf representation of texts of pair1, pair2 and pair3 in the given order.\n",
    "#Thus, tfidf_results[0],tfidf_results[1] represents pair1\n",
    "#tfidf_results[2],tfidf_results[3] represents pair2\n",
    "#tfidf_results[4],tfidf_results[5] represents pair3"
   ]
  },
  {
   "cell_type": "code",
   "execution_count": 245,
   "metadata": {},
   "outputs": [
    {
     "data": {
      "text/plain": [
       "array([[0.3082764]])"
      ]
     },
     "execution_count": 245,
     "metadata": {},
     "output_type": "execute_result"
    }
   ],
   "source": [
    "#cosine similarity between texts of pair1\n",
    "cosine_similarity(tfidf_results[0],tfidf_results[1])"
   ]
  },
  {
   "cell_type": "code",
   "execution_count": 247,
   "metadata": {},
   "outputs": [
    {
     "data": {
      "text/plain": [
       "array([[0.]])"
      ]
     },
     "execution_count": 247,
     "metadata": {},
     "output_type": "execute_result"
    }
   ],
   "source": [
    "#cosine similarity between texts of pair2\n",
    "cosine_similarity(tfidf_results[2],tfidf_results[3])"
   ]
  },
  {
   "cell_type": "code",
   "execution_count": 248,
   "metadata": {},
   "outputs": [
    {
     "data": {
      "text/plain": [
       "array([[0.80368547]])"
      ]
     },
     "execution_count": 248,
     "metadata": {},
     "output_type": "execute_result"
    }
   ],
   "source": [
    "#cosine similarity between texts of pair3\n",
    "cosine_similarity(tfidf_results[4],tfidf_results[5])"
   ]
  },
  {
   "cell_type": "markdown",
   "metadata": {},
   "source": [
    "# Exercise 16 : Word Cloud"
   ]
  },
  {
   "cell_type": "markdown",
   "metadata": {},
   "source": [
    "Visualize first 10 articles from sklearn’s “The 20 newsgroups text dataset” using word cloud."
   ]
  },
  {
   "cell_type": "code",
   "execution_count": 168,
   "metadata": {},
   "outputs": [],
   "source": [
    "#!pip install WordCloud"
   ]
  },
  {
   "cell_type": "code",
   "execution_count": 2,
   "metadata": {},
   "outputs": [],
   "source": [
    "from wordcloud import WordCloud, STOPWORDS\n",
    "import matplotlib.pyplot as plt\n",
    "%matplotlib inline"
   ]
  },
  {
   "cell_type": "code",
   "execution_count": 2,
   "metadata": {},
   "outputs": [
    {
     "name": "stderr",
     "output_type": "stream",
     "text": [
      "Downloading 20news dataset. This may take a few minutes.\n",
      "Downloading dataset from https://ndownloader.figshare.com/files/5975967 (14 MB)\n"
     ]
    }
   ],
   "source": [
    "from sklearn.datasets import fetch_20newsgroups\n",
    "newsgroups_data_sample = fetch_20newsgroups(subset='train')"
   ]
  },
  {
   "cell_type": "code",
   "execution_count": 18,
   "metadata": {},
   "outputs": [
    {
     "data": {
      "text/plain": [
       "[\"From: lerxst@wam.umd.edu (where's my thing)\\nSubject: WHAT car is this!?\\nNntp-Posting-Host: rac3.wam.umd.edu\\nOrganization: University of Maryland, College Park\\nLines: 15\\n\\n I was wondering if anyone out there could enlighten me on this car I saw\\nthe other day. It was a 2-door sports car, looked to be from the late 60s/\\nearly 70s. It was called a Bricklin. The doors were really small. In addition,\\nthe front bumper was separate from the rest of the body. This is \\nall I know. If anyone can tellme a model name, engine specs, years\\nof production, where this car is made, history, or whatever info you\\nhave on this funky looking car, please e-mail.\\n\\nThanks,\\n- IL\\n   ---- brought to you by your neighborhood Lerxst ----\\n\\n\\n\\n\\n\",\n",
       " \"From: guykuo@carson.u.washington.edu (Guy Kuo)\\nSubject: SI Clock Poll - Final Call\\nSummary: Final call for SI clock reports\\nKeywords: SI,acceleration,clock,upgrade\\nArticle-I.D.: shelley.1qvfo9INNc3s\\nOrganization: University of Washington\\nLines: 11\\nNNTP-Posting-Host: carson.u.washington.edu\\n\\nA fair number of brave souls who upgraded their SI clock oscillator have\\nshared their experiences for this poll. Please send a brief message detailing\\nyour experiences with the procedure. Top speed attained, CPU rated speed,\\nadd on cards and adapters, heat sinks, hour of usage per day, floppy disk\\nfunctionality with 800 and 1.4 m floppies are especially requested.\\n\\nI will be summarizing in the next two days, so please add to the network\\nknowledge base if you have done the clock upgrade and haven't answered this\\npoll. Thanks.\\n\\nGuy Kuo <guykuo@u.washington.edu>\\n\",\n",
       " 'From: twillis@ec.ecn.purdue.edu (Thomas E Willis)\\nSubject: PB questions...\\nOrganization: Purdue University Engineering Computer Network\\nDistribution: usa\\nLines: 36\\n\\nwell folks, my mac plus finally gave up the ghost this weekend after\\nstarting life as a 512k way back in 1985.  sooo, i\\'m in the market for a\\nnew machine a bit sooner than i intended to be...\\n\\ni\\'m looking into picking up a powerbook 160 or maybe 180 and have a bunch\\nof questions that (hopefully) somebody can answer:\\n\\n* does anybody know any dirt on when the next round of powerbook\\nintroductions are expected?  i\\'d heard the 185c was supposed to make an\\nappearence \"this summer\" but haven\\'t heard anymore on it - and since i\\ndon\\'t have access to macleak, i was wondering if anybody out there had\\nmore info...\\n\\n* has anybody heard rumors about price drops to the powerbook line like the\\nones the duo\\'s just went through recently?\\n\\n* what\\'s the impression of the display on the 180?  i could probably swing\\na 180 if i got the 80Mb disk rather than the 120, but i don\\'t really have\\na feel for how much \"better\" the display is (yea, it looks great in the\\nstore, but is that all \"wow\" or is it really that good?).  could i solicit\\nsome opinions of people who use the 160 and 180 day-to-day on if its worth\\ntaking the disk size and money hit to get the active display?  (i realize\\nthis is a real subjective question, but i\\'ve only played around with the\\nmachines in a computer store breifly and figured the opinions of somebody\\nwho actually uses the machine daily might prove helpful).\\n\\n* how well does hellcats perform?  ;)\\n\\nthanks a bunch in advance for any info - if you could email, i\\'ll post a\\nsummary (news reading time is at a premium with finals just around the\\ncorner... :( )\\n--\\nTom Willis  \\\\  twillis@ecn.purdue.edu    \\\\    Purdue Electrical Engineering\\n---------------------------------------------------------------------------\\n\"Convictions are more dangerous enemies of truth than lies.\"  - F. W.\\nNietzsche\\n',\n",
       " 'From: jgreen@amber (Joe Green)\\nSubject: Re: Weitek P9000 ?\\nOrganization: Harris Computer Systems Division\\nLines: 14\\nDistribution: world\\nNNTP-Posting-Host: amber.ssd.csd.harris.com\\nX-Newsreader: TIN [version 1.1 PL9]\\n\\nRobert J.C. Kyanko (rob@rjck.UUCP) wrote:\\n> abraxis@iastate.edu writes in article <abraxis.734340159@class1.iastate.edu>:\\n> > Anyone know about the Weitek P9000 graphics chip?\\n> As far as the low-level stuff goes, it looks pretty nice.  It\\'s got this\\n> quadrilateral fill command that requires just the four points.\\n\\nDo you have Weitek\\'s address/phone number?  I\\'d like to get some information\\nabout this chip.\\n\\n--\\nJoe Green\\t\\t\\t\\tHarris Corporation\\njgreen@csd.harris.com\\t\\t\\tComputer Systems Division\\n\"The only thing that really scares me is a person with no sense of humor.\"\\n\\t\\t\\t\\t\\t\\t-- Jonathan Winters\\n',\n",
       " 'From: jcm@head-cfa.harvard.edu (Jonathan McDowell)\\nSubject: Re: Shuttle Launch Question\\nOrganization: Smithsonian Astrophysical Observatory, Cambridge, MA,  USA\\nDistribution: sci\\nLines: 23\\n\\nFrom article <C5owCB.n3p@world.std.com>, by tombaker@world.std.com (Tom A Baker):\\n>>In article <C5JLwx.4H9.1@cs.cmu.edu>, ETRAT@ttacs1.ttu.edu (Pack Rat) writes...\\n>>>\"Clear caution & warning memory.  Verify no unexpected\\n>>>errors. ...\".  I am wondering what an \"expected error\" might\\n>>>be.  Sorry if this is a really dumb question, but\\n> \\n> Parity errors in memory or previously known conditions that were waivered.\\n>    \"Yes that is an error, but we already knew about it\"\\n> I\\'d be curious as to what the real meaning of the quote is.\\n> \\n> tom\\n\\n\\nMy understanding is that the \\'expected errors\\' are basically\\nknown bugs in the warning system software - things are checked\\nthat don\\'t have the right values in yet because they aren\\'t\\nset till after launch, and suchlike. Rather than fix the code\\nand possibly introduce new bugs, they just tell the crew\\n\\'ok, if you see a warning no. 213 before liftoff, ignore it\\'.\\n\\n - Jonathan\\n\\n\\n',\n",
       " 'From: dfo@vttoulu.tko.vtt.fi (Foxvog Douglas)\\nSubject: Re: Rewording the Second Amendment (ideas)\\nOrganization: VTT\\nLines: 58\\n\\nIn article <1r1eu1$4t@transfer.stratus.com> cdt@sw.stratus.com (C. D. Tavares) writes:\\n>In article <1993Apr20.083057.16899@ousrvr.oulu.fi>, dfo@vttoulu.tko.vtt.fi (Foxvog Douglas) writes:\\n>> In article <1qv87v$4j3@transfer.stratus.com> cdt@sw.stratus.com (C. D. Tavares) writes:\\n>> >In article <C5n3GI.F8F@ulowell.ulowell.edu>, jrutledg@cs.ulowell.edu (John Lawrence Rutledge) writes:\\n>\\n>> >> The massive destructive power of many modern weapons, makes the\\n>> >> cost of an accidental or crimial usage of these weapons to great.\\n>> >> The weapons of mass destruction need to be in the control of\\n>> >> the government only.  Individual access would result in the\\n>> >> needless deaths of millions.  This makes the right of the people\\n>> >> to keep and bear many modern weapons non-existant.\\n\\n>> >Thanks for stating where you\\'re coming from.  Needless to say, I\\n>> >disagree on every count.\\n\\n>> You believe that individuals should have the right to own weapons of\\n>> mass destruction?  I find it hard to believe that you would support a \\n>> neighbor\\'s right to keep nuclear weapons, biological weapons, and nerve\\n>> gas on his/her property.  \\n\\n>> If we cannot even agree on keeping weapons of mass destruction out of\\n>> the hands of individuals, can there be any hope for us?\\n\\n>I don\\'t sign any blank checks.\\n\\nOf course.  The term must be rigidly defined in any bill.\\n\\n>When Doug Foxvog says \"weapons of mass destruction,\" he means CBW and\\n>nukes.  When Sarah Brady says \"weapons of mass destruction\" she means\\n>Street Sweeper shotguns and semi-automatic SKS rifles.  \\n\\nI doubt she uses this term for that.  You are using a quote allegedly\\nfrom her, can you back it up?\\n\\n>When John\\n>Lawrence Rutledge says \"weapons of mass destruction,\" and then immediately\\n>follows it with:\\n\\n>>> The US has thousands of people killed each year by handguns,\\n>>> this number can easily be reduced by putting reasonable restrictions\\n>>> on them.\\n\\n>...what does Rutledge mean by the term?\\n\\nI read the article as presenting first an argument about weapons of mass\\ndestruction (as commonly understood) and then switching to other topics.\\nThe first point evidently was to show that not all weapons should be\\nallowed, and then the later analysis was, given this understanding, to\\nconsider another class.\\n\\n>cdt@rocket.sw.stratus.com   --If you believe that I speak for my company,\\n>OR cdt@vos.stratus.com        write today for my special Investors\\' Packet...\\n\\n\\n\\n-- \\ndoug foxvog\\ndouglas.foxvog@vtt.fi\\n',\n",
       " 'From: bmdelane@quads.uchicago.edu (brian manning delaney)\\nSubject: Brain Tumor Treatment (thanks)\\nReply-To: bmdelane@midway.uchicago.edu\\nOrganization: University of Chicago\\nLines: 12\\n\\nThere were a few people who responded to my request for info on\\ntreatment for astrocytomas through email, whom I couldn\\'t thank\\ndirectly because of mail-bouncing probs (Sean, Debra, and Sharon).  So\\nI thought I\\'d publicly thank everyone.\\n\\nThanks! \\n\\n(I\\'m sure glad I accidentally hit \"rn\" instead of \"rm\" when I was\\ntrying to delete a file last September. \"Hmmm... \\'News?\\' What\\'s\\nthis?\"....)\\n\\n-Brian\\n',\n",
       " 'From: bgrubb@dante.nmsu.edu (GRUBB)\\nSubject: Re: IDE vs SCSI\\nOrganization: New Mexico State University, Las Cruces, NM\\nLines: 44\\nDistribution: world\\nNNTP-Posting-Host: dante.nmsu.edu\\n\\nDXB132@psuvm.psu.edu writes:\\n>In article <1qlbrlINN7rk@dns1.NMSU.Edu>, bgrubb@dante.nmsu.edu (GRUBB) says:\\n>>In PC Magazine April 27, 1993:29 \"Although SCSI is twice as fasst as ESDI,\\n>>20% faster than IDE, and support up to 7 devices its acceptance ...has   \\n>>long been stalled by incompatability problems and installation headaches.\"\\n                                                                      \\n>I love it when magazine writers make stupid statements like that re:      \\n>performance. Where do they get those numbers? I\\'ll list the actual\\n>performance ranges, which should convince anyone that such a               \\n>statement is absurd:                                                     \\n>SCSI-I ranges from 0-5MB/s.                                                \\n>SCSI-II ranges from 0-40MB/s.            \\n>IDE ranges from 0-8.3MB/s.                          \\n>ESDI is always 1.25MB/s (although there are some non-standard versions)\\nALL this shows is that YOU don\\'t know much about SCSI.\\n\\nSCSI-1 {with a SCSI-1 controler chip} range is indeed 0-5MB/s\\nand that is ALL you have right about SCSI\\nSCSI-1 {With a SCSI-2 controller chip}: 4-6MB/s with 10MB/s burst {8-bit}\\n Note the INCREASE in SPEED, the Mac Quadra uses this version of SCSI-1\\n so it DOES exist. Some PC use this set up too.\\nSCSI-2 {8-bit/SCSI-1 mode}:          4-6MB/s with 10MB/s burst\\nSCSI-2 {16-bit/wide or fast mode}:  8-12MB/s with 20MB/s burst\\nSCSI-2 {32-bit/wide AND fast}:     15-20MB/s with 40MB/s burst\\n \\nBy your OWN data the \"Although SCSI is twice as fast as ESDI\" is correct\\nWith a SCSI-2 controller chip SCSI-1 can reach 10MB/s which is indeed\\n\"20% faster than IDE\" {120% of 8.3 is 9.96}. ALL these SCSI facts have been\\nposted to this newsgroup in my Mac & IBM info sheet {available by FTP on \\nsumex-aim.stanford.edu (36.44.0.6) in the info-mac/report as \\nmac-ibm-compare[version #].txt (It should be 173 but 161 may still be there)}\\n\\nPart of this problem is both Mac and IBM PC are inconsiant about what SCSI\\nis which.  Though it is WELL documented that the Quadra has a SCSI-2 chip\\nan Apple salesperson said \"it uses a fast SCSI-1 chip\" {Not at a 6MB/s,\\n10MB/s burst it does not. SCSI-1 is 5MB/s maximum synchronous and Quadra\\nuses ANsynchronous SCSI which is SLOWER}  It seems that Mac and IBM see\\nSCSI-1 interface and think \\'SCSI-1\\' when it maybe a SCSI-1 interface driven\\nin the machine by a SCSi-2 controller chip in 8-bit mode {Which is MUCH\\nFASTER then true SCSI-1 can go}.\\n\\nDon\\'t slam an article because you don\\'t understand what is going on.\\nOne reference for the Quadra\\'s SCSI-2 controller chip is \\n(Digital Review, Oct 21, 1991 v8 n33 p8(1)).\\n',\n",
       " 'From: holmes7000@iscsvax.uni.edu\\nSubject: WIn 3.0 ICON HELP PLEASE!\\nOrganization: University of Northern Iowa\\nLines: 10\\n\\nI have win 3.0 and downloaded several icons and BMP\\'s but I can\\'t figure out\\nhow to change the \"wallpaper\" or use the icons.  Any help would be appreciated.\\n\\n\\nThanx,\\n\\n-Brando\\n\\nPS Please E-mail me\\n\\n',\n",
       " \"From: kerr@ux1.cso.uiuc.edu (Stan Kerr)\\nSubject: Re: Sigma Designs Double up??\\nArticle-I.D.: ux1.C52u8x.B62\\nOrganization: University of Illinois at Urbana\\nLines: 29\\n\\njap10@po.CWRU.Edu (Joseph A. Pellettiere) writes:\\n\\n\\n>\\tI am looking for any information about the Sigma Designs\\n>\\tdouble up board.  All I can figure out is that it is a\\n>\\thardware compression board that works with AutoDoubler, but\\n>\\tI am not sure about this.  Also how much would one cost?\\n\\nI've had the board for over a year, and it does work with Diskdoubler,\\nbut not with Autodoubler, due to a licensing problem with Stac Technologies,\\nthe owners of the board's compression technology. (I'm writing this\\nfrom memory; I've lost the reference. Please correct me if I'm wrong.)\\n\\nUsing the board, I've had problems with file icons being lost, but it's\\nhard to say whether it's the board's fault or something else; however,\\nif I decompress the troubled file and recompress it without the board,\\nthe icon usually reappears. Because of the above mentioned licensing\\nproblem, the freeware expansion utility DD Expand will not decompress\\na board-compressed file unless you have the board installed.\\n\\nSince Stac has its own product now, it seems unlikely that the holes\\nin Autodoubler/Diskdoubler related to the board will be fixed.\\nWhich is sad, and makes me very reluctant to buy Stac's product since\\nthey're being so stinky. (But hey, that's competition.)\\n-- \\n\\nStan Kerr    \\nComputing & Communications Services Office, U of Illinois/Urbana\\nPhone: 217-333-5217  Email: stankerr@uiuc.edu   \\n\"]"
      ]
     },
     "execution_count": 18,
     "metadata": {},
     "output_type": "execute_result"
    }
   ],
   "source": [
    "newsgroups_data_sample['data'][:10]"
   ]
  },
  {
   "cell_type": "code",
   "execution_count": 60,
   "metadata": {},
   "outputs": [
    {
     "data": {
      "image/png": "[encoded data removed]",
      "text/plain": [
       "<Figure size 432x288 with 1 Axes>"
      ]
     },
     "metadata": {
      "needs_background": "light"
     },
     "output_type": "display_data"
    }
   ],
   "source": [
    "other_stopwords_to_remove = ['\\\\n', 'n', '\\\\', '>', 'nLines', 'nI',\"n'\"]\n",
    "STOPWORDS = STOPWORDS.union(set(other_stopwords_to_remove))\n",
    "stopwords = set(STOPWORDS)\n",
    "text = str(newsgroups_data_sample['data'][:10])\n",
    "wordcloud = WordCloud(width = 800, height = 800, \n",
    "                background_color ='white', \n",
    "                max_words=200,\n",
    "                stopwords = stopwords, \n",
    "                min_font_size = 10).generate(text)\n",
    "plt.imshow(wordcloud, interpolation='bilinear')\n",
    "plt.axis(\"off\")\n",
    "plt.show()"
   ]
  },
  {
   "cell_type": "markdown",
   "metadata": {},
   "source": [
    "# Exercise 17 : Other Visualizations (Dependency Parse Tree and Named Entities)"
   ]
  },
  {
   "cell_type": "markdown",
   "metadata": {},
   "source": [
    "Depict the sentence, \"God helps those who help themselves.\" using dependency parse tree. <br>\n",
    "Visualize named entities of the text corpus: \"Once upon a time there lived a saint named Ramakrishna Paramahansa. His chief disciple Narendranath Dutta also known as Swami Vivekananda is the founder of Ramakrishna Mission and Ramakrishna Math.\" "
   ]
  },
  {
   "cell_type": "code",
   "execution_count": 171,
   "metadata": {},
   "outputs": [],
   "source": [
    "#!pip install spacy"
   ]
  },
  {
   "cell_type": "code",
   "execution_count": 172,
   "metadata": {},
   "outputs": [],
   "source": [
    "#!python -m spacy download en"
   ]
  },
  {
   "cell_type": "code",
   "execution_count": 184,
   "metadata": {},
   "outputs": [],
   "source": [
    "import spacy\n",
    "from spacy import displacy\n",
    "import en_core_web_sm\n",
    "nlp = en_core_web_sm.load()"
   ]
  },
  {
   "cell_type": "code",
   "execution_count": 187,
   "metadata": {},
   "outputs": [
    {
     "data": {
      "text/html": [
       "<svg xmlns=\"http://www.w3.org/2000/svg\" xmlns:xlink=\"http://www.w3.org/1999/xlink\" id=\"343-0\" class=\"displacy\" width=\"1100\" height=\"312.0\" style=\"max-width: none; height: 312.0px; color: #000000; background: #ffffff; font-family: Arial\">\n",
       "<text class=\"displacy-token\" fill=\"currentColor\" text-anchor=\"middle\" y=\"222.0\">\n",
       "    <tspan class=\"displacy-word\" fill=\"currentColor\" x=\"50\">God</tspan>\n",
       "    <tspan class=\"displacy-tag\" dy=\"2em\" fill=\"currentColor\" x=\"50\">PROPN</tspan>\n",
       "</text>\n",
       "\n",
       "<text class=\"displacy-token\" fill=\"currentColor\" text-anchor=\"middle\" y=\"222.0\">\n",
       "    <tspan class=\"displacy-word\" fill=\"currentColor\" x=\"225\">helps</tspan>\n",
       "    <tspan class=\"displacy-tag\" dy=\"2em\" fill=\"currentColor\" x=\"225\">VERB</tspan>\n",
       "</text>\n",
       "\n",
       "<text class=\"displacy-token\" fill=\"currentColor\" text-anchor=\"middle\" y=\"222.0\">\n",
       "    <tspan class=\"displacy-word\" fill=\"currentColor\" x=\"400\">those</tspan>\n",
       "    <tspan class=\"displacy-tag\" dy=\"2em\" fill=\"currentColor\" x=\"400\">DET</tspan>\n",
       "</text>\n",
       "\n",
       "<text class=\"displacy-token\" fill=\"currentColor\" text-anchor=\"middle\" y=\"222.0\">\n",
       "    <tspan class=\"displacy-word\" fill=\"currentColor\" x=\"575\">who</tspan>\n",
       "    <tspan class=\"displacy-tag\" dy=\"2em\" fill=\"currentColor\" x=\"575\">NOUN</tspan>\n",
       "</text>\n",
       "\n",
       "<text class=\"displacy-token\" fill=\"currentColor\" text-anchor=\"middle\" y=\"222.0\">\n",
       "    <tspan class=\"displacy-word\" fill=\"currentColor\" x=\"750\">help</tspan>\n",
       "    <tspan class=\"displacy-tag\" dy=\"2em\" fill=\"currentColor\" x=\"750\">VERB</tspan>\n",
       "</text>\n",
       "\n",
       "<text class=\"displacy-token\" fill=\"currentColor\" text-anchor=\"middle\" y=\"222.0\">\n",
       "    <tspan class=\"displacy-word\" fill=\"currentColor\" x=\"925\">themselves.</tspan>\n",
       "    <tspan class=\"displacy-tag\" dy=\"2em\" fill=\"currentColor\" x=\"925\">PRON</tspan>\n",
       "</text>\n",
       "\n",
       "<g class=\"displacy-arrow\">\n",
       "    <path class=\"displacy-arc\" id=\"arrow-343-0-0\" stroke-width=\"2px\" d=\"M70,177.0 C70,89.5 220.0,89.5 220.0,177.0\" fill=\"none\" stroke=\"currentColor\"/>\n",
       "    <text dy=\"1.25em\" style=\"font-size: 0.8em; letter-spacing: 1px\">\n",
       "        <textPath xlink:href=\"#arrow-343-0-0\" class=\"displacy-label\" startOffset=\"50%\" fill=\"currentColor\" text-anchor=\"middle\">nsubj</textPath>\n",
       "    </text>\n",
       "    <path class=\"displacy-arrowhead\" d=\"M70,179.0 L62,167.0 78,167.0\" fill=\"currentColor\"/>\n",
       "</g>\n",
       "\n",
       "<g class=\"displacy-arrow\">\n",
       "    <path class=\"displacy-arc\" id=\"arrow-343-0-1\" stroke-width=\"2px\" d=\"M245,177.0 C245,89.5 395.0,89.5 395.0,177.0\" fill=\"none\" stroke=\"currentColor\"/>\n",
       "    <text dy=\"1.25em\" style=\"font-size: 0.8em; letter-spacing: 1px\">\n",
       "        <textPath xlink:href=\"#arrow-343-0-1\" class=\"displacy-label\" startOffset=\"50%\" fill=\"currentColor\" text-anchor=\"middle\">dobj</textPath>\n",
       "    </text>\n",
       "    <path class=\"displacy-arrowhead\" d=\"M395.0,179.0 L403.0,167.0 387.0,167.0\" fill=\"currentColor\"/>\n",
       "</g>\n",
       "\n",
       "<g class=\"displacy-arrow\">\n",
       "    <path class=\"displacy-arc\" id=\"arrow-343-0-2\" stroke-width=\"2px\" d=\"M595,177.0 C595,89.5 745.0,89.5 745.0,177.0\" fill=\"none\" stroke=\"currentColor\"/>\n",
       "    <text dy=\"1.25em\" style=\"font-size: 0.8em; letter-spacing: 1px\">\n",
       "        <textPath xlink:href=\"#arrow-343-0-2\" class=\"displacy-label\" startOffset=\"50%\" fill=\"currentColor\" text-anchor=\"middle\">nsubj</textPath>\n",
       "    </text>\n",
       "    <path class=\"displacy-arrowhead\" d=\"M595,179.0 L587,167.0 603,167.0\" fill=\"currentColor\"/>\n",
       "</g>\n",
       "\n",
       "<g class=\"displacy-arrow\">\n",
       "    <path class=\"displacy-arc\" id=\"arrow-343-0-3\" stroke-width=\"2px\" d=\"M420,177.0 C420,2.0 750.0,2.0 750.0,177.0\" fill=\"none\" stroke=\"currentColor\"/>\n",
       "    <text dy=\"1.25em\" style=\"font-size: 0.8em; letter-spacing: 1px\">\n",
       "        <textPath xlink:href=\"#arrow-343-0-3\" class=\"displacy-label\" startOffset=\"50%\" fill=\"currentColor\" text-anchor=\"middle\">relcl</textPath>\n",
       "    </text>\n",
       "    <path class=\"displacy-arrowhead\" d=\"M750.0,179.0 L758.0,167.0 742.0,167.0\" fill=\"currentColor\"/>\n",
       "</g>\n",
       "\n",
       "<g class=\"displacy-arrow\">\n",
       "    <path class=\"displacy-arc\" id=\"arrow-343-0-4\" stroke-width=\"2px\" d=\"M770,177.0 C770,89.5 920.0,89.5 920.0,177.0\" fill=\"none\" stroke=\"currentColor\"/>\n",
       "    <text dy=\"1.25em\" style=\"font-size: 0.8em; letter-spacing: 1px\">\n",
       "        <textPath xlink:href=\"#arrow-343-0-4\" class=\"displacy-label\" startOffset=\"50%\" fill=\"currentColor\" text-anchor=\"middle\">dobj</textPath>\n",
       "    </text>\n",
       "    <path class=\"displacy-arrowhead\" d=\"M920.0,179.0 L928.0,167.0 912.0,167.0\" fill=\"currentColor\"/>\n",
       "</g>\n",
       "</svg>"
      ],
      "text/plain": [
       "<IPython.core.display.HTML object>"
      ]
     },
     "metadata": {},
     "output_type": "display_data"
    }
   ],
   "source": [
    "doc = nlp('God helps those who help themselves.')\n",
    "displacy.render(doc, style='dep', jupyter=True)"
   ]
  },
  {
   "cell_type": "code",
   "execution_count": 197,
   "metadata": {},
   "outputs": [
    {
     "data": {
      "text/html": [
       "<div class=\"entities\" style=\"line-height: 2.5\">Once upon a time there lived a saint named \n",
       "<mark class=\"entity\" style=\"background: #aa9cfc; padding: 0.45em 0.6em; margin: 0 0.25em; line-height: 1; border-radius: 0.35em; box-decoration-break: clone; -webkit-box-decoration-break: clone\">\n",
       "    Ramakrishna Paramahansa\n",
       "    <span style=\"font-size: 0.8em; font-weight: bold; line-height: 1; border-radius: 0.35em; text-transform: uppercase; vertical-align: middle; margin-left: 0.5rem\">PERSON</span>\n",
       "</mark>\n",
       ".         His chief disciple \n",
       "<mark class=\"entity\" style=\"background: #7aecec; padding: 0.45em 0.6em; margin: 0 0.25em; line-height: 1; border-radius: 0.35em; box-decoration-break: clone; -webkit-box-decoration-break: clone\">\n",
       "    Narendranath Dutta\n",
       "    <span style=\"font-size: 0.8em; font-weight: bold; line-height: 1; border-radius: 0.35em; text-transform: uppercase; vertical-align: middle; margin-left: 0.5rem\">ORG</span>\n",
       "</mark>\n",
       " also known as \n",
       "<mark class=\"entity\" style=\"background: #aa9cfc; padding: 0.45em 0.6em; margin: 0 0.25em; line-height: 1; border-radius: 0.35em; box-decoration-break: clone; -webkit-box-decoration-break: clone\">\n",
       "    Swami Vivekananda         \n",
       "    <span style=\"font-size: 0.8em; font-weight: bold; line-height: 1; border-radius: 0.35em; text-transform: uppercase; vertical-align: middle; margin-left: 0.5rem\">PERSON</span>\n",
       "</mark>\n",
       "is the founder of \n",
       "<mark class=\"entity\" style=\"background: #7aecec; padding: 0.45em 0.6em; margin: 0 0.25em; line-height: 1; border-radius: 0.35em; box-decoration-break: clone; -webkit-box-decoration-break: clone\">\n",
       "    Ramakrishna Mission and Ramakrishna Math\n",
       "    <span style=\"font-size: 0.8em; font-weight: bold; line-height: 1; border-radius: 0.35em; text-transform: uppercase; vertical-align: middle; margin-left: 0.5rem\">ORG</span>\n",
       "</mark>\n",
       ".</div>"
      ],
      "text/plain": [
       "<IPython.core.display.HTML object>"
      ]
     },
     "metadata": {},
     "output_type": "display_data"
    }
   ],
   "source": [
    "text = 'Once upon a time there lived a saint named Ramakrishna Paramahansa. \\\n",
    "        His chief disciple Narendranath Dutta also known as Swami Vivekananda \\\n",
    "        is the founder of Ramakrishna Mission and Ramakrishna Math.'\n",
    "doc2 = nlp(text)\n",
    "displacy.render(doc2, style='ent', jupyter=True)\n"
   ]
  },
  {
   "cell_type": "markdown",
   "metadata": {},
   "source": [
    "# Activity 3: Text Visualization"
   ]
  },
  {
   "cell_type": "markdown",
   "metadata": {},
   "source": [
    "Read the content of the text file named text_corpus.txt present in the data_ch2 folder. Do the pre-processing steps (like text cleaning, tokenization, stop word removal, lemmatization/stemming) which are essential. After that,  <br>\n",
    "i) create a set of unique words along with their frequencies for top 50 highly occurring words <br>\n",
    "ii) create a word cloud for these top 50 words<br>\n",
    "\n",
    "Justify the word cloud by comparing it with the word frequency calculated. \n"
   ]
  },
  {
   "cell_type": "code",
   "execution_count": 24,
   "metadata": {},
   "outputs": [],
   "source": [
    "from wordcloud import WordCloud, STOPWORDS\n",
    "import matplotlib.pyplot as plt\n",
    "%matplotlib inline\n",
    "from nltk import word_tokenize\n",
    "from nltk.stem import WordNetLemmatizer\n",
    "import nltk\n",
    "from collections import Counter\n",
    "import re"
   ]
  },
  {
   "cell_type": "code",
   "execution_count": 28,
   "metadata": {},
   "outputs": [
    {
     "data": {
      "text/plain": [
       "'Control role kind exist. Front security Mrs picture example season side.\\nHim dog on outside home the house participant. Cultural minute wait time network suddenly property.\\nSkin represent long board including generation do. Technology him hour use identify weight person. Pressure very beat site view tell wrong.\\nWall remember more thing move. Really mission you. Remain buy language safe color how common. Decade key street such camera practice.\\nHusband field alone no hold nothing indeed. Blue teach inside behavior program find.\\nQuestion popular couple table. Question similar decision account animal. Know power despite environmental. Pass almost here until nature enjoy.\\nDuring job budget central. Recently energy other space. Possible true wonder listen low stock.\\nCouple believe way program opportunity mean about sea. Happy rather main sister hundred. Also on skin method difference bank.Pretty yes garden reflect economic trouble else. Outside exist future. Staff alone out heart recent class scientist.\\nSpring road or college around several. After remain social various other. Plan your long left.\\nBegin truth into stage same. While voice cause charge outside such company. Lead anyone able music why but energy company.\\nDevelop toward off special. Turn generation friend west activity north red major. Stock else stock race final.\\nArm good left little whether recently. Three girl player behavior friend expert. Fact between develop explain short building try method.\\nEducation light cut either. Account approach woman. Sense give mother carry.\\nStandard team goal seek somebody drive event. Office song effect source goal. Enough success morning environment two out.\\nPoint quality point thought significant sound. Thank very sea way.\\nTonight growth professional.\\nConsumer behavior away decide catch. Indeed know manage ever.\\nClass perform consider style brother. Argue account major.Appear daughter practice eye daughter lot. Strategy player marriage population also.\\nPerson food interview. Ago turn term add.\\nWould owner into official so case. Course political particularly customer.\\nMe watch dog gas sure main. Support modern mean. Great pass nor under.\\nMore region special goal put first understand believe. Low leader available authority watch ready.\\nMy form reflect out chance station.\\nMost instead enter art chance nothing him. Fast hand option interest.\\nHimself relate TV measure partner. State avoid economic set toward.\\nCultural save prepare factor. Allow yet instead oil lawyer. His true office able order authority face. Quality probably billion everyone.\\nImage begin base continue.\\nSpecial including admit court several morning candidate.\\nInternational nation kind move local process everyone. Teacher edge movie choose bank yes perhaps example. President strong than home state beautiful.\\nNetwork dream go sport. Others act then option single.Fund I amount quickly policy maybe. Name pass fund.\\nSystem also such mother cause child. Professor very moment trial left. Benefit final fund.\\nCompany with trial southern different strong firm. Congress wind entire century different sea maybe success. Still walk piece child energy drug.\\nCrime cost family whether add around. Positive where indeed commercial factor. Able their point catch than.\\nHappy get one decide argue care. Mind not blood Democrat. Machine light card message market fly.\\nAgainst be Democrat art money. Account smile might her stage.\\nWith eye third interest beyond have for. Idea while understand ever recently successful. From fall see ground talk final.\\nKind feeling according level anyone sense music. From receive power involve never learn really.\\nShake figure administration alone stand. Measure ahead option lose. Owner business game follow.\\nSignificant myself give would. Home bring worry strong. Quite want establish to.Positive probably decide. Believe adult community line many free figure.\\nWant business later stock person. Size there child before party peace growth natural. Beautiful land safe business start long.\\nPerhaps anything daughter more forget government purpose. Start option thought indicate hard.\\nPopulation action tell sell. Chair others wrong course around read option various.\\nLast where role executive tough. Kid buy once everybody report note.\\nSource before senior who. Interesting chance boy finally forward. Beat month administration this window sure.\\nNecessary analysis when tend personal while discussion. Lay television take view offer edge step.\\nThis business sport he race.\\nFood visit capital move. Thousand really less pay you bag. Simple north culture best result painting her.\\nNice realize participant sing customer write top. Him series even bit.\\nFall rather claim decision candidate five place. Wonder power development from leader subject.Important discussion talk student politics but serious thus. Gun message allow writer. Identify player American.\\nFeel cold better local affect TV. Bar sing these decade term recent study record. Last soldier project do.\\nMust big herself family. She record he always trip discussion fact. Skin create send of.\\nEnvironment instead in war report. Employee way action senior even. Win expect evidence born reason our any.\\nMain politics also.\\nAbility here thing. Fight would suggest moment list computer right. Stay wish agreement huge sit gun blood. True poor behavior across catch.\\nNo quite source. Us marriage all imagine message PM. Within cover skin officer.\\nMouth air begin when maintain expert. Clear improve indeed tree choice.\\nCentury debate by machine keep put. Daughter country hold growth agree. Try outside north whatever recently.\\nRepublican cultural say hotel five change total. Rule way provide happy street second either same.Chance participant character many kid.\\nBig rule treatment build. Movement husband bad hair remember.\\nEdge soon wear power. Step financial once office. Base bed again son campaign.\\nUse series coach kid. Recent place technology service important go. Along business place main.\\nYour understand good school. Business song thought child item make pass. Including source south rest road her development.\\nRepresent party five customer past. Statement later focus different opportunity a focus difficult. Within water beyond describe level.\\nSome stand store nature modern century. Your girl kitchen lot base. Wrong five member manage some fact plant.\\nCitizen magazine hot west clear budget respond. Week car peace wait.\\nTelevision season agent group. Particular black nearly not hear audience instead. Usually there meet water owner.\\nWhite market rich oil quickly evidence. Throughout yourself focus. Account better cell policy figure summer.Beat somebody grow television east something rate. Result structure enough always old. Hotel education traditional believe its open.\\nLot system assume outside federal region. Whole way concern wear war mention develop.\\nAny dream seven evening well. Than throw your.\\nActually film animal still budget alone nice respond. Imagine develop budget. Win day wind simple accept sea.\\nRule sort right car. Exactly same that affect. Above use environmental.\\nCup dinner rise gun son dog hour. Public president we his.\\nMeet decision read political institution one. Chance watch grow character any prove. Option role quickly role. First customer gas.\\nShake cover fact common develop debate. Outside card thing half green.\\nPlant store cover a study financial ready. Wall listen high whom best industry.\\nHim program control democratic hope window. Husband opportunity own since. Today difference manage article heart.\\nEither onto major grow everyone rule film. We live rise day around.Him detail table any. Mr southern action daughter.\\nCharacter partner forward strong who.\\nTurn run always southern figure. Two public mind wall.\\nMoment effect marriage necessary. Size home just throughout career man pretty industry. Not name clearly create allow available state.\\nKey move pressure personal simple. Cut college environmental population air work main. Else hotel part black across good newspaper.\\nThree movie side. Simple create treatment. Hit star prevent able natural mention present.\\nFirst interview exactly TV room although campaign onto. Nor far man question particular weight. Final deep body five issue.\\nRealize charge several. Whether third matter only something teacher.\\nWhether north political thousand. Many board discussion area major past.\\nBeyond movement nor cause green. Individual fear always consumer loss only. Up computer trial.\\nThing success hour. Book thank campaign left near Congress program.Same begin military according. Situation black respond have most democratic face Democrat. Eight television economic PM take keep indicate.\\nPer never even perform send. Local style threat future. Role plan blue.\\nMonth office thus gun recently. Test choice staff explain. Model by religious follow investment.\\nOver pick computer last federal act. Civil language last each already weight kind.\\nResponsibility happy price nature. Notice since finally.\\nIdea century case price sing participant. Voice including heart although power.\\nWestern safe various remain for turn moment. School mother institution agency least throw loss. Enough conference increase several buy area.\\nThrow social usually single president table. Party face parent deep take number old.\\nOutside such rule vote anything big team. Save follow analysis find could accept foot join.\\nCamera season region trial break. Large president focus past modern right.Night card nice education difference. Off eight race. Activity oil east view which. Soon capital get among realize want small miss.\\nTry expert film bed whether agreement effect majority.\\nArticle sea PM after. Leg discussion world loss choice man study.\\nEveryone bank environmental various state. Quite effect impact continue heavy. Certainly site hundred ok plant plant start summer. Century law figure loss himself audience.\\nTrouble smile what their water account machine. Great accept four together safe. Offer they serve around perform among. Computer candidate more no officer.\\nNature some study. West mean would son option country.\\nSerious environment then color when leg. Hotel change record way. Question fear crime model far during generation. Beat society admit produce voice above money far.\\nDecision room person piece. Woman reach sea want arrive city hope. Parent final own federal area team.\\nLeg either capital reduce.Fire news you. Large establish effect. President central evening major.\\nEight pressure common new lot. Should station adult reason scene. Project ground official.\\nAccount stay yes agent section describe. Unit direction available begin happen record. Who very write lot night show.\\nHere yeah recent church poor writer message. Style drive room. Identify others term foot.\\nAbout public account brother blood leg. While star audience.\\nSide price way mind director. Sing bank should. Almost worry describe keep game only.\\nDog sea be business focus sing. Subject own social brother.\\nDraw think piece similar account budget. Power official get. Religious fast artist society degree stage.\\nInterview sort fund guess believe. Put marriage time later consider any radio. Country into suggest must interest write wrong.\\nLittle but during American game. Security mean firm save.\\nPolice yard beat every throw ball law. Yourself movie couple attorney body partner. Bank company hair positive involve throw.Treat traditional agency more pull happen later. Answer result surface. Able point well set challenge choose.\\nCenter contain scene. Return over she kid yourself responsibility present. Same current skill against system firm likely.\\nCup enter rock baby impact. Media summer American themselves morning family store. Law such during buy cut. Hotel firm marriage art.\\nFeel war word. Travel hit note man image.\\nTravel Republican citizen drive. You article professional structure blue record.\\nFormer film color generation cause. Least face yourself argue cup grow manager. Past black form create choose.\\nSoon appear officer. Media receive next strong same actually successful. Which candidate person difference floor first.\\nGoal for call although he as probably. Against want national bit many pressure house.\\nSeem drug generation. I today become anyone computer staff certainly.Community school necessary subject key. Edge and away almost.\\nMore different sing game upon add parent. Stock practice item maybe new.\\nIdentify end effect organization.\\nIndividual too leg. Tell my what. Hospital avoid trouble room fire.\\nResponse treat who production. Center especially easy term really simple.\\nLate weight night fall little economic machine power. My send recently foot Mr. Central serious drug but.\\nDeep east what level thank hotel why. Large sure single why. Word choice can write. Reality north there require capital outside new.\\nNearly third enjoy protect carry often my. Manage analysis seven third door.\\nControl day visit course be leave their big. East ahead cold direction son suffer.\\nAbility lose civil. After test health majority heart quality for. Positive clearly fly police study office manage. Top area coach animal.\\nWar loss fast card right food. Personal serve so standard accept. Program form mention meet how international can.There author chair natural ahead business exactly. Whatever space tonight mention sea. Center talk source bar property. Support next something listen knowledge would.\\nStart personal discussion break ten growth.\\nThank pay citizen away let day range.\\nNecessary today population allow leg window total. Ball tree road. Reduce type development strategy strategy visit.\\nTeacher Mr every else. Fear green debate word. Difference teacher charge might hold between brother. Put common travel arm everyone particular.\\nSkill coach sign future. Represent forward feel model development couple.\\nWhich contain improve whatever drug. Available institution try size recognize unit dinner company.\\nDoctor speak program gas site spend outside question. Medical job over.\\nRespond memory wind detail. Bill entire how green.\\nPolitics difference stay from full book present. Class practice campaign north carry.Accept relationship realize oil six so. Interesting opportunity environmental require community care.\\nDrop material like of matter your. Attack under order lot form.\\nLine speech happy management trade arrive. Federal mention Democrat able. News short executive I member beautiful current than.\\nAgo relationship thing either adult ten turn yes. Shake quickly point line evidence. Support call sing in.\\nArrive nothing pressure mind order perform. Thing goal black order can. War anything note data specific program production.\\nExecutive world store size. Clear fund health today sea.\\nSpend area you hair on option. Ten speak job shoulder one year under. Effect choice scientist spring true product.\\nThere stay thousand. Ever feeling young. Alone moment bring need simply major learn floor.\\nDark recently remember cup either respond piece. Prepare sort several. Whatever material blood bar keep cut cover.\\nGuess third special thank. Something bag yard seek effect stage. Often hard worker maybe.Author everyone skin plant. Organization course over well herself.\\nClass difficult experience great how art third. Remember both professional others will capital writer could.\\nRequire successful onto bag. Late save commercial strong us gun move. Mention job cold clearly energy only.\\nLawyer daughter board education. Organization executive arrive box.\\nEach art continue different time. World political other risk fall against fight. Meeting travel far every specific approach yet.\\nWorker tax still key people chair. Center skin consider policy party. Your increase different news. Doctor book gas third upon.\\nLittle give protect official store eye. Age rest simply suddenly partner well center.\\nWithout stage at soldier college. Pretty democratic behind most until.\\nStory send chair science. Head head interesting opportunity action authority take. Reflect black tend weight.\\nCivil model serve likely kind. Score minute part without health party into.Every need matter adult. Offer process tonight program work. Western a series perform chance laugh reveal. Carry hotel owner.\\nThemselves teacher next off. Act throughout strategy who region fund large.\\nFinal conference military out. Miss manage base senior.\\nRate want change.\\nTerm like deal end group practice hear. Different successful total. Mission attorney style happen bill take institution.\\nMust key town employee wall social believe. Town staff community about now kind yourself.\\nComputer place necessary worry reason always. Raise fine hard deal I.\\nOffer between site heavy much. Hear energy other behind identify itself. Professional yes parent street against.\\nBusiness success board personal. Ask during factor report police production available moment. Next prove president rest.\\nWin share few make.\\nChoose letter character opportunity. Left relationship every much treatment young.\\nLight help part some. Million effort program. Staff fast choose front often throughout friend trouble.Difficult safe career agency amount. Serve customer street turn least tree financial. Energy threat standard capital.\\nSignificant will either surface yeah year decade anything. Himself market indicate benefit explain toward recently environment.\\nLocal produce require wear along mouth. Order law she soon land word. Quickly various employee short account.\\nFactor write far me leader ever. Forget different matter professor.\\nAs little watch Congress true. Policy Mr decade compare state stock.\\nTrial first suggest term data draw. Different stand decision part.\\nChallenge factor officer democratic become. Our television most environment wrong safe establish. Entire land everybody attention training artist nor.\\nFirm since serious require. Government product area before former guess special run. Letter edge little drop.\\nProduce this concern lay. Think least realize yeah Republican. Factor seven dog by plant reach bill wish. Out study why above across now reality.Summer brother but seven. Bring present money go language economy. Sing memory spring behavior effort again hear. Century thus Democrat truth value there policy.\\nKeep training live cell energy. Thank make speech arrive however top.\\nForeign from fight. Serious environmental church that.\\nWould all law son subject lose moment. College at beautiful method policy.\\nSon half professional traditional management. Of set exist suggest long.\\nNear bring indeed carry theory news. Include fish citizen. Far learn treat production. Act age certainly daughter put know.\\nMy last at model. East rich television show something mother move good. Protect fire owner ok.\\nArtist around least item car commercial. Old team expect leave husband.\\nSeason security positive perform. True visit modern hold.\\nMusic national meeting perhaps her listen. Southern town doctor rich industry wind stay.\\nPm lawyer ahead go then air play factor. Rest lose choice such there sport radio. House cell serve condition use discover.Report site test water smile. Century while kitchen such road activity operation safe. Left share local skin feeling amount.\\nYou have under recognize hot get future possible. Lay former give might together hair. Participant human relationship Mr business lay ask.\\nRegion tonight box team. Heavy agreement talk. Ask owner event sound camera mention blood. Yeah stand read game participant expert.\\nStay determine build agreement side debate lead again. Realize her many matter hundred. Manager first adult trouble key whose professional occur.\\nExplain camera old care. Will interview cultural product. The reach wife sign account discuss there.\\nSend themselves try scientist. Cold which well interview stuff federal somebody middle. Need herself forget bar central travel hope.\\nEnough better develop we. True also light chair.\\nThe sign very see. Cut well happy could dark Democrat. Could our answer executive final seem program.\\nOwn beat visit direction.Training onto third second political difficult modern. His response campaign region short.\\nHour industry candidate charge story sport party month. Drive hair say line board stand modern. Personal always American draw various.\\nCrime between technology gun team protect parent. Win director her. During assume information study adult second north.\\nYeah character by attorney stand after.\\nForm anyone economy property guess seem. Tree hot enjoy because budget contain room. Drop former factor tonight.\\nLine reflect seven father prevent least manage. Beautiful write human serve contain. Direction south social visit series establish.\\nParticularly Democrat new reduce follow central stage involve. Goal away purpose themselves state least case. Discussion director measure side. Blood together party inside.\\nSoldier light story must. Whose financial measure country lay real sometimes speak.\\nEmployee himself court. Outside present produce.Against maybe alone article you audience water. World poor skill difficult information whose thing. Finish affect grow indicate himself.\\nNetwork impact attack international.\\nUnit future represent plan. Full since same half. End such teach yourself wall heavy.\\nSimple value possible. Rich this cause current big give student. Ability indicate experience goal begin read onto. Operation animal poor often stuff.\\nPoint set prevent. Factor whom reality key subject wall. Born interview enjoy wait nice front cover.\\nSimply stuff soldier see spring example small. Center size natural business. May recognize father final increase movement.\\nBall discover what sing police. Use western pass data step official.\\nHappy feeling trouble such resource PM. Imagine budget front ask. Defense least recognize.\\nNatural experience left stop myself effect move. Level partner manager kitchen.Actually another visit letter cost impact reason. Travel nothing evening gun.\\nPm according choice between race. Strategy state some pull city.\\nTable get bar middle work within. See blood reveal. High organization decide individual.\\nRaise million right relationship research know.\\nSituation particularly sell born. Save last political against both loss expert.\\nAccept case sister hair work own maybe their. Not wonder office guess standard.\\nBill away full step. Away by on happen.\\nSuffer culture sign budget car land. Sometimes police discussion sister system over. Challenge star above argue.\\nKid ask growth city opportunity right note. Ago suffer value staff house question plant.\\nShould huge choice teach. Source box population truth for. Decision part relationship could then.\\nThere partner must central deal. Case why cold force task social food yourself. Keep view majority score true.Establish eye PM attack. Picture authority magazine others truth able. Kind actually seat hundred resource.\\nAgency look also town song. Check three open green. Blue do pretty skill message.\\nProvide product while detail. Travel visit decision program. Open whatever office us alone cut.\\nField themselves sometimes learn well person. Consumer you option traditional.\\nTeam president sit trip challenge room everything. Be teach accept note out. Democrat animal approach film.\\nLarge range challenge order. Them candidate themselves reduce us interesting authority. Me personal product century.\\nDemocratic nearly yet attack. Down reach big thus magazine writer money give.\\nCard lose newspaper. Place story writer really stage finally information. Admit laugh worry.\\nAnyone make deep west also wind onto. Law ever despite face challenge full. On social very create.\\nSouth seat arrive. Stand impact current participant music instead music. Drop school eat sense just rock room.Cover study consider president attention. Century property soon door.\\nMillion physical establish peace public sure. Girl avoid civil key.\\nSeason upon area again total help. Early trip describe up kind.\\nBeautiful at ahead affect read tax.\\nCivil pretty age listen author. Meeting I everything book here anything significant catch. Rather board suggest community same.\\nCourse stop ask action measure behind. Interesting sister choice manage reach.\\nWay program executive military. Cost arm note old language discussion. Station authority respond pull across society doctor.\\nWind address body back oil thought generation. Enough radio television what involve trip sure. Step back business today.\\nMorning ground cost pressure analysis recently performance. Work community partner foreign imagine reduce.\\nAccept senior successful eight conference easy. Help item of certainly allow bag factor chair.\\nDinner stop strong stock sometimes over. Miss most our establish nice she deal character.Why available human that window bed. Travel about born develop result character. Act yard our loss page red. View century skin officer.\\nInclude foreign and party I. Truth sometimes interest all.\\nYet simple great. Because cell street government. High almost future lose message bar him station.\\nRather stand individual organization modern sea. Computer by important rock.\\nWho remain since else production white. Common bag left ok.\\nColor party positive tend husband. Same treatment half officer left nice. Special our benefit road.\\nSpeech nation compare school as. Letter career figure size blue.\\nCenter treatment goal doctor result in run analysis. We reality myself discuss at among sure. Really generation scene agent with media.\\nNumber away three type television street. Operation manager bag general guy.\\nFigure and into. Assume design conference management item us direction.\\nType visit our TV nation. Skill why light make. Democrat theory add future career everyone.Discover board participant start administration. Say eight itself share. Set first forget network organization necessary animal minute.\\nLeader image serve maybe way entire bring. Us only look. Smile cost stay rise.\\nPoor whether fill. College responsibility accept my face list operation personal. Night lawyer water per. Just market southern administration.\\nArt painting project since recognize report cost major. Pick stage control degree particular management model among. Federal call without task always table large work. Us our production little.\\nCarry set buy too gun this order. Happy price cost rate behind. Certain participant show trial.\\nIndicate structure effort seek style thing. Stock long sort.\\nNever around real threat large truth. Art hold example factor. Improve national idea only letter time tough environment.\\nThen find sea soldier write building firm. Treat heart take food indeed less.\\nHospital wear cold left defense early.Create bad agreement believe bed.\\nRace too behind travel western sing at. On your father eat wall notice.\\nRealize table allow yeah goal action late. Congress case its happy save.\\nCreate top mother thousand. Race pay seem class war write want.\\nOffice discussion market clear PM coach force hundred. Coach moment line exactly some identify nor. But discussion trip already.\\nNo ask produce imagine million despite. Season choice each. Soon police provide discuss prevent.\\nMust woman way property effect. Their my leader tree decade risk Republican.\\nAct sport key husband popular defense early hour. One over article paper way position including government.\\nMagazine article loss art old. Tree onto man like. Buy economic listen TV child.\\nRespond general land service apply trial indicate. Several recognize day bad direction.\\nDespite health music let lot record amount. Impact and level. Maybe region add night.\\nCustomer give black real long reality four dinner. Wrong ask person enter.Research purpose again. Event make store sound turn.\\nPut we tonight realize end himself. Spend father computer factor other race wonder. Where she staff cost special development.\\nOther then room friend entire brother bed. Final three whom magazine model hand. Able cost wear analysis hotel.\\nPosition sense street suggest write whole. Physical write much event.\\nPlace police side record base final. Better so quickly ever. First edge money rise something agreement say institution.\\nBreak machine which else control sport approach. Keep girl simply believe area early. Specific bill learn them much lose above.\\nDraw ok trouble pressure identify leg. Culture yard be effect pull where.\\nThree artist somebody once. Get marriage understand when. Side thousand attack computer side. Ever more agree final.\\nPart daughter garden radio response. Game car tough. Then establish window no return compare prove. Father interesting not.\\nOnce mother identify remain by majority. Do energy most culture hundred.Success tell author reflect upon fire.\\nValue phone cultural member class. Student discuss cost ok sometimes ground of.\\nThree take remain huge tend. Laugh civil letter explain do. Go hospital manage even card live as painting.\\nLot interview herself note very money. From not most specific however experience group.\\nOn official leave food face because key. Performance mention never election possible.\\nSmall fight letter realize represent measure hospital.\\nEither young look modern leave yard. Away probably member dinner white. Drive more television bar rise media key.\\nAgain total also decide commercial from. Production whole instead play arm. Someone house system myself star.\\nGreat specific raise similar election. Method opportunity lose.\\nOutside class maybe lose production center. Television former pick. Prevent identify suggest.\\nFuture popular nature begin hair. Control word art kid red six.\\nCapital reach recently tax involve reach me. Where church bad this report quickly agent.Since most action character clear nearly sign. Right president heavy later police Democrat perhaps box. Security yet power best company.\\nOk cultural Democrat part. Smile best can test better professor.\\nPainting summer clear run meeting receive. Cover start maybe thousand tough become surface.\\nName well executive pretty range east physical theory. Reach month end sort.\\nAct she speak staff consider. Be push mind determine little boy. Hand little soon court trial.\\nSomeone campaign office clear left yet.\\nPrice either Republican capital training. Challenge lose itself include son sound make. Among beat family site doctor able stuff.\\nArtist director detail former.\\nManager everything development radio where wait. Still walk free resource onto.\\nMore church year eye sing dog. Region amount possible house myself inside large.\\nOften amount serve before spend. Movie minute individual win.\\nLook mind push ok everybody nature right agency. Cell high long ten.Network almost note turn feel. Involve floor put bit appear human. Class full important all.\\nOthers court newspaper. Gun happy military recently realize prove whose.\\nPolitical across staff there past. Enough study hot myself term report apply.\\nLanguage study bill big after population. Peace effect relate almost.\\nPage foreign field worry figure system. Prevent magazine tell four woman.\\nTruth live option degree. Might nation treatment moment off trial.\\nCheck Democrat apply share effect outside. Air room soldier help wide produce song. Traditional house again set city.\\nOur quite past plan ground us. Election space actually range. Boy western red case.\\nEnjoy for question no student. Degree scene usually tonight. System walk mission receive despite five no capital.\\nSeveral top would anything actually player. Paper could entire treat bed tax better pay.\\nReturn when how thought present day him. Bad it return no address either hard and.Say never whole fill bill consumer sell decide. Human establish chance each get range plan.\\nFigure listen take. Choice pull group along focus onto.\\nLearn choice late. According degree question total drop.\\nCould affect up whom despite. Air myself degree today order. Environmental ago issue yet deep set property fire.\\nDemocratic list about these compare. Pm senior continue decision prepare.\\nDeal per beautiful green station activity do but. Say law but nature people side stand.\\nLike fill man language center station financial. Marriage until type six consider book threat.\\nAttention simply control likely. Fight hit her life book those.\\nSpring office make field by. Could middle other about perhaps day huge position. Boy special piece lose half floor. Similar hospital relate fast where.\\nAuthority what even could worry sport. Protect carry media commercial from like feeling. Nation clear we good whether.\\nLanguage pass building seat reach something. Investment lay weight seat bit recent.Science last these ago possible civil however. Study list product heart. Imagine food back choose.\\nEnough also statement mention in. Alone western foreign new anyone.\\nCurrent staff near visit on project town. Everything interest base among song until.\\nSometimes partner adult center only picture. Yeah many assume box performance everyone image. Middle wonder including Republican.\\nArea rise able manage cause support. Say they music speak. East short wear else wind own shake result.\\nSuccess especially whose local white. Writer oil age. Per tonight best note. Else environment watch end common.\\nProperty about eye again north whose against. Rest court interesting natural view instead. Mr pick shoulder.\\nWithin company question its. Notice shoulder blue herself.\\nResponsibility wrong gun believe indicate everything be. Compare full say exist defense offer different. Piece share bed.\\nCitizen father herself. Dream everyone there sign happen health. Her key nature identify player fish sister.Real last mind. Need magazine model hundred.\\nCup mention order organization kid. Number well down history. Result about who ability particularly prepare remember town.\\nResult this challenge news must pressure expert. Increase successful major but similar low. Quite we heart heart know listen good song.\\nView choice local crime. Federal act always learn not describe. Energy low plant.\\nGlass health politics husband. Worker grow smile oil win. Although popular poor young scene.\\nBack president night herself among paper gun job. Alone weight much where loss various such.\\nEarly draw area morning. Above growth west gun.\\nAlthough catch beyond plan cut Mrs.\\nLetter or news respond watch artist operation.\\nCall design marriage music way Mr.\\nBook common run receive door product whatever. Wish perform what wonder. Pressure bag before write.\\nLearn arm car art trade. Hard out just.Glass by experience across third recognize behavior. Night prevent minute machine also. One stuff brother sound send serious record.\\nRest year those tend fight employee. Fill citizen like yet.\\nYet form every son animal four. Quite account age most reach.\\nPolitics deal action agreement bill. Grow side partner capital something. Skin myself item nature food night.\\nSubject later fire red gas. Hard reveal wife approach. Statement well hear cover method.\\nImportant crime line. Card stop mind foot raise each.\\nMember none moment city. Phone somebody class them reduce. Tell plant language west health.\\nHappen far decade represent miss rather. Choice anyone new challenge window evening instead. Tree home group modern.\\nChair single security physical which large represent machine. Product year wrong message movie.\\nSuccess play form activity figure.\\nFormer energy second along six. Ten city concern record cup however.\\nApply edge perform standard. Gas society writer more.Probably yes enter society investment call. Appear movement since parent executive want year item.\\nTrouble resource instead well pass. Assume method usually hotel must. Hotel throughout success person themselves.\\nKnow type mission television miss news. General finally style feel several.\\nWithout evening officer relationship everyone help central. Thought join live move program become.\\nIncrease culture people land. Century big community possible decision similar camera. Question condition interesting mention any grow voice. We adult western within catch.\\nBetween degree while ago read majority life there. Ground night why become opportunity effect degree.\\nDevelop later community reduce amount yes night region. Level physical later lay. Race send fund minute. Down friend force industry never nearly.\\nArgue enjoy every city community want already. Move remember parent television dark we. Piece tend care woman.\\nMaterial present defense entire white agree. Particularly thus ten might ask.Office lawyer certainly ability walk PM word. Without candidate Democrat nearly score organization. Produce seek police source degree audience.\\nAvoid star include police claim. Attention property fall important gun black peace anyone. Forward few present cultural reason.\\nMoment activity wall name what front whatever people. Short amount point much program home end. To quickly various man she out.\\nPaper do modern just soon strategy language. Official long act enter process rule spend report.\\nSpend actually worker show message reduce stuff. Speech thus quickly million blood candidate. Military arrive now however.\\nGreen situation admit other artist. Happy ahead bring view.\\nWeight heavy although short threat should level feel. Early perhaps light benefit where authority at.\\nInstitution next impact public. They our apply think husband information past.\\nPart example across his recent. Executive office appear. Determine live public page difficult truth stop.Enjoy prevent watch generation color study however plan. Can thought you option partner new. Whose lot simple professor down woman.\\nEstablish certainly goal language watch land.\\nHim everyone these environment spend buy build several. I maintain mother south hand assume cell several. Total start value price.\\nBig true could network. Seek account part list market his.\\nCup sea loss movement identify sort own. Minute surface blood memory summer them. Under item national against suggest conference management.\\nNight civil matter animal not way gas.\\nMuch majority firm special. It pick poor structure major.\\nIn six crime cause major. Itself sure guess under. When southern movement newspaper.\\nTheory boy name. Industry accept behavior size especially reduce provide.\\nDifficult everybody wide could television structure clear. Tv data short start treatment high safe.\\nForeign simply ask discuss training. Kind especially her. Meeting music some run.'"
      ]
     },
     "execution_count": 28,
     "metadata": {},
     "output_type": "execute_result"
    }
   ],
   "source": [
    "text = open('data_ch2/text_corpus.txt', 'r').read()\n",
    "text"
   ]
  },
  {
   "cell_type": "code",
   "execution_count": 30,
   "metadata": {},
   "outputs": [
    {
     "name": "stderr",
     "output_type": "stream",
     "text": [
      "[nltk_data] Downloading package wordnet to\n",
      "[nltk_data]     /Users/sohom.ghosh/nltk_data...\n",
      "[nltk_data]   Package wordnet is already up-to-date!\n"
     ]
    }
   ],
   "source": [
    "#Text cleaning, tokenization, lemmatization\n",
    "nltk.download('wordnet')\n",
    "lemmatizer = WordNetLemmatizer()\n",
    "cleaned_lemmatized_tokens = [lemmatizer.lemmatize(word.lower()) \\\n",
    "                             for word in word_tokenize(re.sub(r'([^\\s\\w]|_)+', ' ', text))]\n"
   ]
  },
  {
   "cell_type": "code",
   "execution_count": 26,
   "metadata": {},
   "outputs": [
    {
     "data": {
      "text/plain": [
       "[('program', 14),\n",
       " ('effect', 14),\n",
       " ('choice', 14),\n",
       " ('account', 13),\n",
       " ('way', 13),\n",
       " ('democrat', 13),\n",
       " ('television', 13),\n",
       " ('gun', 13),\n",
       " ('outside', 12),\n",
       " ('key', 12),\n",
       " ('sea', 12),\n",
       " ('office', 12),\n",
       " ('factor', 12),\n",
       " ('business', 12),\n",
       " ('there', 12),\n",
       " ('study', 12),\n",
       " ('identify', 11),\n",
       " ('recently', 11),\n",
       " ('happy', 11),\n",
       " ('left', 11),\n",
       " ('final', 11),\n",
       " ('option', 11),\n",
       " ('everyone', 11),\n",
       " ('moment', 11),\n",
       " ('century', 11),\n",
       " ('lose', 11),\n",
       " ('discussion', 11),\n",
       " ('sing', 11),\n",
       " ('write', 11),\n",
       " ('mention', 11),\n",
       " ('well', 11),\n",
       " ('could', 11),\n",
       " ('night', 11),\n",
       " ('side', 10),\n",
       " ('more', 10),\n",
       " ('language', 10),\n",
       " ('such', 10),\n",
       " ('question', 10),\n",
       " ('energy', 10),\n",
       " ('also', 10),\n",
       " ('staff', 10),\n",
       " ('several', 10),\n",
       " ('able', 10),\n",
       " ('major', 10),\n",
       " ('either', 10),\n",
       " ('goal', 10),\n",
       " ('manage', 10),\n",
       " ('modern', 10),\n",
       " ('art', 10),\n",
       " ('partner', 10)]"
      ]
     },
     "execution_count": 26,
     "metadata": {},
     "output_type": "execute_result"
    }
   ],
   "source": [
    "# i) Set of unique words along with their frequencies for top 50 highly occurring words\n",
    "Counter(cleaned_lemmatized_tokens).most_common(50)"
   ]
  },
  {
   "cell_type": "code",
   "execution_count": 27,
   "metadata": {},
   "outputs": [
    {
     "data": {
      "image/png": "[encoded data removed]",
      "text/plain": [
       "<Figure size 432x288 with 1 Axes>"
      ]
     },
     "metadata": {
      "needs_background": "light"
     },
     "output_type": "display_data"
    }
   ],
   "source": [
    "#ii)  Stopwords removal and wordcloud for top 50 words\n",
    "stopwords = set(STOPWORDS)\n",
    "cleaned_text = ' '.join(cleaned_lemmatized_tokens)\n",
    "wordcloud = WordCloud(width = 800, height = 800, \n",
    "                background_color ='white', \n",
    "                max_words=50,\n",
    "                stopwords = stopwords, \n",
    "                min_font_size = 10).generate(cleaned_text)\n",
    "plt.imshow(wordcloud, interpolation='bilinear')\n",
    "plt.axis(\"off\")\n",
    "plt.show()"
   ]
  }
 ],
 "metadata": {
  "kernelspec": {
   "display_name": "Python 3",
   "language": "python",
   "name": "python3"
  },
  "language_info": {
   "codemirror_mode": {
    "name": "ipython",
    "version": 3
   },
   "file_extension": ".py",
   "mimetype": "text/x-python",
   "name": "python",
   "nbconvert_exporter": "python",
   "pygments_lexer": "ipython3",
   "version": "3.7.1"
  }
 },
 "nbformat": 4,
 "nbformat_minor": 2
}
